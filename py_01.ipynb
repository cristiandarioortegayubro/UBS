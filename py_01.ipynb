{
  "cells": [
    {
      "cell_type": "markdown",
      "metadata": {
        "id": "view-in-github",
        "colab_type": "text"
      },
      "source": [
        "<a href=\"https://colab.research.google.com/github/cristiandarioortegayubro/UBS/blob/main/py_01.ipynb\" target=\"_parent\"><img src=\"https://colab.research.google.com/assets/colab-badge.svg\" alt=\"Open In Colab\"/></a>"
      ]
    },
    {
      "cell_type": "markdown",
      "id": "acbd9514",
      "metadata": {
        "id": "acbd9514"
      },
      "source": [
        "![UBS](https://github.com/cristiandarioortegayubro/UBS/blob/main/Logo%20UBS.jpeg?raw=true)"
      ]
    },
    {
      "cell_type": "markdown",
      "id": "49f579e7",
      "metadata": {
        "id": "49f579e7"
      },
      "source": [
        "![logo](https://www.python.org/static/community_logos/python-powered-w-100x40.png)"
      ]
    },
    {
      "cell_type": "markdown",
      "id": "bf6a62fc",
      "metadata": {
        "id": "bf6a62fc"
      },
      "source": [
        "**En este cuaderno comenzamos viendo los tipos de datos integrados más simples de Python, los números, y también se desarrollaran operaciones matemáticas básicas, pero previo a ello, un breve contenido teórico de lo que es Python...**"
      ]
    },
    {
      "cell_type": "markdown",
      "id": "7c35b2bd-2f65-4fe7-9d37-8152ad83cab4",
      "metadata": {
        "id": "7c35b2bd-2f65-4fe7-9d37-8152ad83cab4"
      },
      "source": [
        "## **Breve contenido teórico...**"
      ]
    },
    {
      "cell_type": "markdown",
      "id": "6917df2b-347a-4e62-bdc2-e5f3c3ffd0bb",
      "metadata": {
        "id": "6917df2b-347a-4e62-bdc2-e5f3c3ffd0bb"
      },
      "source": [
        "*Python puede ser fácil de aprender, tanto para el programador que por primera vez incursiona en el lenguaje o tenga experiencia con otros lenguajes, como para el que no es programador. Las siguientes páginas son un primer paso útil para comenzar a escribir programas y scripts con Python:*\n",
        "\n",
        "*   *[Guía para principiantes, no programadores](https://wiki.python.org/moin/BeginnersGuide/NonProgrammers)*\n",
        "*   *[Muestra de código y fragmentos para principiantes](https://wiki.python.org/moin/BeginnersGuide/Examples)*\n",
        "*   *[Documentación de Python](http://docs.python.org/)*"
      ]
    },
    {
      "cell_type": "markdown",
      "id": "e1f73ade-bffb-4217-bf4d-4dae7171aed7",
      "metadata": {
        "id": "e1f73ade-bffb-4217-bf4d-4dae7171aed7"
      },
      "source": [
        "### **Mini lecciones previas de Python**"
      ]
    },
    {
      "cell_type": "markdown",
      "id": "04aad563-0655-4582-a332-eb4aee3d5039",
      "metadata": {
        "id": "04aad563-0655-4582-a332-eb4aee3d5039"
      },
      "source": [
        "#### **Elementos de un script**"
      ]
    },
    {
      "cell_type": "markdown",
      "id": "2fb9a29c-9256-48fa-8d31-0fd1545484bd",
      "metadata": {
        "id": "2fb9a29c-9256-48fa-8d31-0fd1545484bd"
      },
      "source": [
        "*Se podría decir que un script de Python (normalmente con la codificación UTF-8) contiene expresiones y sentencias. Esas expresiones y sentencias se consiguen combinando los elementos básicos del lenguaje.*\n",
        "\n",
        "*El lenguaje Python está formado por elementos de diferentes tipos:*\n",
        "\n",
        "- *Palabras reservadas (keywords)*\n",
        "- *Funciones integradas (built-in functions)*\n",
        "- *Literales*\n",
        "- *Operadores*\n",
        "- *Delimitadores*\n",
        "- *Identificadores*"
      ]
    },
    {
      "cell_type": "markdown",
      "id": "69097923-610c-4aab-9d1c-66bd7428daa5",
      "metadata": {
        "id": "69097923-610c-4aab-9d1c-66bd7428daa5"
      },
      "source": [
        "##### **Palabras reservadas (keywords)**\n",
        "\n",
        "*Algunas de las palabras reservadas de Python son las que forman el núcleo del lenguaje Python, por ahora es importante conocer algunas de ellas, durante el transcurso del desarrollo de los cuadernos jupyter, usaremos estas palabras reservados:*"
      ]
    },
    {
      "cell_type": "markdown",
      "id": "10e49cab-d98c-4e55-8cc1-ff78e3bb85d5",
      "metadata": {
        "id": "10e49cab-d98c-4e55-8cc1-ff78e3bb85d5"
      },
      "source": [
        "~~~python\n",
        "False      await      else      import     pass\n",
        "None       break      except    in         raise\n",
        "True       class      finally   is         return\n",
        "and        continue   for       lambda     try\n",
        "as         def        from      nonlocal   while\n",
        "assert     del        global    not        with\n",
        "async      elif       if        or         yield\n",
        "~~~\n"
      ]
    },
    {
      "cell_type": "markdown",
      "id": "fc98b1ea-0fd7-41b9-aa65-b34b6da8739d",
      "metadata": {
        "id": "fc98b1ea-0fd7-41b9-aa65-b34b6da8739d"
      },
      "source": [
        "*Estas palabras no pueden utilizarse para nombrar otros elementos...*"
      ]
    },
    {
      "cell_type": "markdown",
      "id": "fa0eef3d-7bf1-47c9-94b3-a5a940a6af02",
      "metadata": {
        "id": "fa0eef3d-7bf1-47c9-94b3-a5a940a6af02"
      },
      "source": [
        "##### **Funciones integradas (built-in functions)**\n",
        "\n",
        "*Una función es un bloque de instrucciones agrupadas, que permiten reutilizar partes de un programa. Python incluye las siguientes funciones de forma predeterminada (estas funciones siempre están disponibles):*\n"
      ]
    },
    {
      "cell_type": "markdown",
      "id": "7da0ddad-8bf9-4112-be7c-affdbffe5059",
      "metadata": {
        "id": "7da0ddad-8bf9-4112-be7c-affdbffe5059"
      },
      "source": [
        "~~~python\n",
        "abs()         dict()      help()        min()        setattr()\n",
        "all()         dir()       hex()         next()       slice()\n",
        "any()         divmod()    id()          object()     sorted()\n",
        "enumerate()   input()     oct()         bin()        eval()      \n",
        "int()         open()      str()         bool()       exec()\n",
        "isinstance()  ord()       sum()         bytearray()  filter()\n",
        "issubclass()  pow()       super()       float()      iter()      \n",
        "print()       tuple()     callable()    format()     len()       \n",
        "property()    type()      chr()         frozenset()  list()\n",
        "range()       vars()      classmethod() getattr()    locals()     \n",
        "repr()        zip()       compile()     globals()    map()        \n",
        "reversed()    complex()   hasattr()     max()        round()\n",
        "delattr()     hash()      memoryview()  set()\n",
        "~~~"
      ]
    },
    {
      "cell_type": "markdown",
      "id": "1a82f89f-741d-4076-806f-507e954b4d27",
      "metadata": {
        "id": "1a82f89f-741d-4076-806f-507e954b4d27"
      },
      "source": [
        "##### **Literales**"
      ]
    },
    {
      "cell_type": "markdown",
      "id": "cde5cd82-6868-4e37-b97e-3b4e44b4c1d4",
      "metadata": {
        "id": "cde5cd82-6868-4e37-b97e-3b4e44b4c1d4"
      },
      "source": [
        "*Los literales son los datos simples que Python es capaz de manejar:*\n",
        "\n",
        "- *números*: valores lógicos, enteros, decimales y complejos, en notación decimal, octal o hexadecimal\n",
        "- *cadenas de texto*"
      ]
    },
    {
      "cell_type": "markdown",
      "id": "6b60d304-5304-4096-b267-5d816a83d9e1",
      "metadata": {
        "id": "6b60d304-5304-4096-b267-5d816a83d9e1"
      },
      "source": [
        "##### **Operadores**\n",
        "\n",
        "*Los operadores son los caracteres que definen operaciones matemáticas (lógicas y aritméticas). Son los siguientes:*"
      ]
    },
    {
      "cell_type": "markdown",
      "id": "8cb501d6-e34b-4a3b-8564-95a636110140",
      "metadata": {
        "id": "8cb501d6-e34b-4a3b-8564-95a636110140"
      },
      "source": [
        "~~~python\n",
        "+       -       *       **      /       //      \n",
        "<<      >>      &       |       ^       ~\n",
        "<       >       <=      >=      ==      !=\n",
        "%      @\n",
        "~~~"
      ]
    },
    {
      "cell_type": "markdown",
      "id": "9575f7b7-1244-43bb-8cad-2315bfcd08f3",
      "metadata": {
        "id": "9575f7b7-1244-43bb-8cad-2315bfcd08f3"
      },
      "source": [
        "##### **Delimitadores**\n",
        "\n",
        "*Los delimitadores son los caracteres que permiten delimitar, separar o representar expresiones. Son los siguientes:*"
      ]
    },
    {
      "cell_type": "markdown",
      "id": "0ee58bb6-e00d-4dde-8cb0-923285649eaf",
      "metadata": {
        "id": "0ee58bb6-e00d-4dde-8cb0-923285649eaf"
      },
      "source": [
        "~~~python\n",
        "'       \"       #       \\\n",
        "(       )       [       ]       {       }\n",
        ",       :       .       ;       @       =       ->\n",
        "+=      -=      *=      /=      //=     %=      @=\n",
        "&=      |=      ^=      >>=     <<=     **=\n",
        "~~~"
      ]
    },
    {
      "cell_type": "markdown",
      "id": "12a92a9d-5c12-493b-a2b5-a4f4f430660e",
      "metadata": {
        "id": "12a92a9d-5c12-493b-a2b5-a4f4f430660e"
      },
      "source": [
        "##### **Identificadores**"
      ]
    },
    {
      "cell_type": "markdown",
      "id": "3f93adc2-0db7-40ea-a439-17793aee2687",
      "metadata": {
        "id": "3f93adc2-0db7-40ea-a439-17793aee2687"
      },
      "source": [
        "*Los identificadores son las palabras que se utilizan para nombrar elementos creados por el usuario u otros usuarios. Esos elementos pueden ser variables u objetos que almacenan información, funciones que agrupan instrucciones, clases que combinan ambos, módulos que agrupan los elementos anteriores, etc.*\n",
        "\n",
        "*Los identificadores están formados por letras (mayúsculas y minúsculas), números y el carácter guion bajo (_). Pueden ser caracteres Unicode, aunque normalmente se recomienda utilizar caracteres ASCII para evitar complicaciones a usuarios de otros países que utilizan juegos de caracteres diferentes.*\n",
        "\n",
        "*El primer caracter del identificador debe ser una letra.*"
      ]
    },
    {
      "cell_type": "markdown",
      "id": "3c4e9170",
      "metadata": {
        "id": "3c4e9170"
      },
      "source": [
        "## **Datos numéricos y cadenas de caracteres**"
      ]
    },
    {
      "cell_type": "markdown",
      "id": "0b59ead9-0918-4860-bc1e-3a7185bd1a80",
      "metadata": {
        "id": "0b59ead9-0918-4860-bc1e-3a7185bd1a80"
      },
      "source": [
        "### **Datos numéricos**"
      ]
    },
    {
      "cell_type": "markdown",
      "id": "75a2e593",
      "metadata": {
        "tags": [],
        "id": "75a2e593"
      },
      "source": [
        "#### **Enteros, decimales y números complejos**\n",
        "\n",
        "**Los números enteros para Python son aquellos que no contienen fracciones, es decir, sin decimales. Por otro lado, los números decimales usan como separador entre la parte entera y la parte decimal al punto. En el caso de números complejos, Python puede hacer cálculos con ellos. La parte imaginaria se acompaña con la letra j.**"
      ]
    },
    {
      "cell_type": "markdown",
      "id": "5feaaab9-feea-4d3b-b01a-362611caaf55",
      "metadata": {
        "id": "5feaaab9-feea-4d3b-b01a-362611caaf55"
      },
      "source": [
        "##### **Enteros**"
      ]
    },
    {
      "cell_type": "code",
      "execution_count": null,
      "id": "d1d20fbd",
      "metadata": {
        "colab": {
          "base_uri": "https://localhost:8080/"
        },
        "id": "d1d20fbd",
        "outputId": "e357b3a0-1aa1-477a-f546-7709fc885af7"
      },
      "outputs": [
        {
          "output_type": "execute_result",
          "data": {
            "text/plain": [
              "2022"
            ]
          },
          "metadata": {},
          "execution_count": 1
        }
      ],
      "source": [
        "2022"
      ]
    },
    {
      "cell_type": "markdown",
      "id": "4fc1a8b2",
      "metadata": {
        "id": "4fc1a8b2"
      },
      "source": [
        "*2022 es un número entero.*"
      ]
    },
    {
      "cell_type": "markdown",
      "id": "16fc73d1-3252-4797-ab83-000a89afae99",
      "metadata": {
        "id": "16fc73d1-3252-4797-ab83-000a89afae99"
      },
      "source": [
        "##### **Decimales**"
      ]
    },
    {
      "cell_type": "code",
      "execution_count": null,
      "id": "28b60544",
      "metadata": {
        "colab": {
          "base_uri": "https://localhost:8080/"
        },
        "id": "28b60544",
        "outputId": "58ad8e40-3ebd-49e2-8aa6-3502c3b537db"
      },
      "outputs": [
        {
          "output_type": "execute_result",
          "data": {
            "text/plain": [
              "345.9"
            ]
          },
          "metadata": {},
          "execution_count": 2
        }
      ],
      "source": [
        "345.90"
      ]
    },
    {
      "cell_type": "markdown",
      "id": "8b0f2676",
      "metadata": {
        "id": "8b0f2676"
      },
      "source": [
        "*345.90 es un número decimal, se recuerda que la parte decimal se indica con el punto, *no con la coma*. Es decir, cualquier número entero que se le adicione un punto, pasa a ser un número decimal.*"
      ]
    },
    {
      "cell_type": "code",
      "execution_count": null,
      "id": "72dfa33e-1b87-4ea8-8e2c-bd4271c07ead",
      "metadata": {
        "colab": {
          "base_uri": "https://localhost:8080/"
        },
        "id": "72dfa33e-1b87-4ea8-8e2c-bd4271c07ead",
        "outputId": "4070f1b0-4ae5-436b-f137-fdc7f0026ef8"
      },
      "outputs": [
        {
          "output_type": "execute_result",
          "data": {
            "text/plain": [
              "345.0"
            ]
          },
          "metadata": {},
          "execution_count": 3
        }
      ],
      "source": [
        "345."
      ]
    },
    {
      "cell_type": "markdown",
      "id": "1af696a0-b593-4346-b9c9-ec61228d5308",
      "metadata": {
        "id": "1af696a0-b593-4346-b9c9-ec61228d5308"
      },
      "source": [
        "##### **Complejos**"
      ]
    },
    {
      "cell_type": "code",
      "execution_count": null,
      "id": "488921ed",
      "metadata": {
        "colab": {
          "base_uri": "https://localhost:8080/"
        },
        "id": "488921ed",
        "outputId": "275e4e70-1e20-47c7-ffce-1900814b9210"
      },
      "outputs": [
        {
          "output_type": "execute_result",
          "data": {
            "text/plain": [
              "34j"
            ]
          },
          "metadata": {},
          "execution_count": 4
        }
      ],
      "source": [
        "34j"
      ]
    },
    {
      "cell_type": "markdown",
      "id": "87c3f778",
      "metadata": {
        "id": "87c3f778"
      },
      "source": [
        "*34j es un número complejo. La letra j debe colocarse a continuación del número entero o decimal.*"
      ]
    },
    {
      "cell_type": "code",
      "execution_count": null,
      "id": "7d462d1b",
      "metadata": {
        "colab": {
          "base_uri": "https://localhost:8080/"
        },
        "id": "7d462d1b",
        "outputId": "d10cce48-885c-48ee-c95f-40b23bfe0085"
      },
      "outputs": [
        {
          "output_type": "execute_result",
          "data": {
            "text/plain": [
              "387.9j"
            ]
          },
          "metadata": {},
          "execution_count": 5
        }
      ],
      "source": [
        "387.9j"
      ]
    },
    {
      "cell_type": "markdown",
      "id": "bde3e77a-2952-4c90-93b7-b4a2058f756c",
      "metadata": {
        "id": "bde3e77a-2952-4c90-93b7-b4a2058f756c"
      },
      "source": [
        "##### **Positivos y negativos**"
      ]
    },
    {
      "cell_type": "markdown",
      "id": "45527b76",
      "metadata": {
        "id": "45527b76"
      },
      "source": [
        "**Se puede indicar si el número es positivo o es negativo.**"
      ]
    },
    {
      "cell_type": "code",
      "execution_count": null,
      "id": "1aa62f1a",
      "metadata": {
        "colab": {
          "base_uri": "https://localhost:8080/"
        },
        "id": "1aa62f1a",
        "outputId": "eea5690f-0e97-4957-b945-4e1d1e19bd3c"
      },
      "outputs": [
        {
          "output_type": "execute_result",
          "data": {
            "text/plain": [
              "583.97"
            ]
          },
          "metadata": {},
          "execution_count": 6
        }
      ],
      "source": [
        "+583.97"
      ]
    },
    {
      "cell_type": "markdown",
      "id": "3c7a5b35",
      "metadata": {
        "id": "3c7a5b35"
      },
      "source": [
        "*583.97 es un número positivo, en este caso no haría falta agregar el operador + al inicio del número. Por defecto los números son positivos.*"
      ]
    },
    {
      "cell_type": "code",
      "execution_count": null,
      "id": "4c7f9761",
      "metadata": {
        "colab": {
          "base_uri": "https://localhost:8080/"
        },
        "id": "4c7f9761",
        "outputId": "558ce2e5-4a43-4b33-8878-959529ba2a76"
      },
      "outputs": [
        {
          "output_type": "execute_result",
          "data": {
            "text/plain": [
              "-785.52"
            ]
          },
          "metadata": {},
          "execution_count": 7
        }
      ],
      "source": [
        "-785.52"
      ]
    },
    {
      "cell_type": "markdown",
      "id": "555ab226",
      "metadata": {
        "id": "555ab226"
      },
      "source": [
        "*-785.52 es un número negativo.*"
      ]
    },
    {
      "cell_type": "markdown",
      "id": "da742f29",
      "metadata": {
        "id": "da742f29"
      },
      "source": [
        "### **Operaciones básicas**"
      ]
    },
    {
      "cell_type": "markdown",
      "id": "9e6d52da",
      "metadata": {
        "id": "9e6d52da"
      },
      "source": [
        "**Las cuatro operaciones básicas son:**\n",
        "\n",
        "+ **la suma (+),**\n",
        "+ **la resta (-),** \n",
        "+ **la multiplicación (*) y** \n",
        "+ **la división (/).**\n",
        "\n",
        "*Al hacer operaciones en las que intervienen números enteros y decimales, el resultado es siempre decimal.* En el caso de que el resultado no tenga parte decimal, Python escribe 0 como parte decimal para indicar que el resultado es un número decimal"
      ]
    },
    {
      "cell_type": "markdown",
      "id": "c9243575",
      "metadata": {
        "id": "c9243575"
      },
      "source": [
        "#### **Sumas y restas**"
      ]
    },
    {
      "cell_type": "markdown",
      "id": "7285f5b1",
      "metadata": {
        "id": "7285f5b1"
      },
      "source": [
        "**En este caso, las sumas y las restas funcionan como esperamos que funcionen.**"
      ]
    },
    {
      "cell_type": "code",
      "execution_count": null,
      "id": "56db9b2e",
      "metadata": {
        "colab": {
          "base_uri": "https://localhost:8080/"
        },
        "id": "56db9b2e",
        "outputId": "c7f9f92c-cf3d-4f74-cb7a-ba2fdd19e820"
      },
      "outputs": [
        {
          "output_type": "execute_result",
          "data": {
            "text/plain": [
              "252"
            ]
          },
          "metadata": {},
          "execution_count": 8
        }
      ],
      "source": [
        "20+89+90+53"
      ]
    },
    {
      "cell_type": "markdown",
      "id": "40031c75",
      "metadata": {
        "id": "40031c75"
      },
      "source": [
        "*No es necesario dejar espacios entre los números y el símbolo +, si existen espacios Python no los tiene en cuenta.*"
      ]
    },
    {
      "cell_type": "code",
      "execution_count": null,
      "id": "6f98fe7e",
      "metadata": {
        "colab": {
          "base_uri": "https://localhost:8080/"
        },
        "id": "6f98fe7e",
        "outputId": "0076032e-77c4-4939-c198-6226f26ad0b5"
      },
      "outputs": [
        {
          "output_type": "execute_result",
          "data": {
            "text/plain": [
              "252"
            ]
          },
          "metadata": {},
          "execution_count": 9
        }
      ],
      "source": [
        "20 + 89    +        90                +                     53"
      ]
    },
    {
      "cell_type": "markdown",
      "id": "a0579733",
      "metadata": {
        "id": "a0579733"
      },
      "source": [
        "+ **Las operaciones de números enteros, dan por resultados números enteros.**\n",
        "+ **Las operaciones de números decimales, dan por resultados números decimales.**\n",
        "+ **Las operaciones de números complejos dan por resultados números complejos.**\n",
        "+ **Las operaciones de números enteros y números decimales, dan por resultado números decimales.**\n",
        "+ **Las operaciones de números complejos y números enteros y/o decimales, dan por resultado el número entero y/o decimal con el número complejo.**"
      ]
    },
    {
      "cell_type": "code",
      "execution_count": null,
      "id": "395666e0",
      "metadata": {
        "colab": {
          "base_uri": "https://localhost:8080/"
        },
        "id": "395666e0",
        "outputId": "aa8ef0c4-ef6b-4dcf-af68-84f667140177"
      },
      "outputs": [
        {
          "output_type": "execute_result",
          "data": {
            "text/plain": [
              "500"
            ]
          },
          "metadata": {},
          "execution_count": 10
        }
      ],
      "source": [
        "800 + 300 + 200 - 800"
      ]
    },
    {
      "cell_type": "code",
      "execution_count": null,
      "id": "e316db05",
      "metadata": {
        "colab": {
          "base_uri": "https://localhost:8080/"
        },
        "id": "e316db05",
        "outputId": "a0a7aaff-9ccf-4214-b336-210d6cfa396a"
      },
      "outputs": [
        {
          "output_type": "execute_result",
          "data": {
            "text/plain": [
              "50.8"
            ]
          },
          "metadata": {},
          "execution_count": 11
        }
      ],
      "source": [
        "30.70 + 20.10"
      ]
    },
    {
      "cell_type": "code",
      "execution_count": null,
      "id": "ed83a3c8",
      "metadata": {
        "colab": {
          "base_uri": "https://localhost:8080/"
        },
        "id": "ed83a3c8",
        "outputId": "cdbf6c52-ac7e-49b0-f552-3166d6deca27"
      },
      "outputs": [
        {
          "output_type": "execute_result",
          "data": {
            "text/plain": [
              "5.0"
            ]
          },
          "metadata": {},
          "execution_count": 12
        }
      ],
      "source": [
        "2.5 + 2.5"
      ]
    },
    {
      "cell_type": "markdown",
      "id": "7e1ef83c",
      "metadata": {
        "id": "7e1ef83c"
      },
      "source": [
        "**Si bien la operación 2.5 + 2.5 es una operación matemática que sabemos que da por resultado un número entero, al tratarse de dos números decimales, el resultado es un número decimal, en este caso indicado por el punto y el cero.**"
      ]
    },
    {
      "cell_type": "code",
      "execution_count": null,
      "id": "e29f4f86",
      "metadata": {
        "colab": {
          "base_uri": "https://localhost:8080/"
        },
        "id": "e29f4f86",
        "outputId": "f9e48550-729b-48bd-8de2-7253bc7ac93d"
      },
      "outputs": [
        {
          "output_type": "execute_result",
          "data": {
            "text/plain": [
              "50j"
            ]
          },
          "metadata": {},
          "execution_count": 13
        }
      ],
      "source": [
        "20j + 30j"
      ]
    },
    {
      "cell_type": "code",
      "execution_count": null,
      "id": "fcb81dac",
      "metadata": {
        "colab": {
          "base_uri": "https://localhost:8080/"
        },
        "id": "fcb81dac",
        "outputId": "71a7bf64-898d-41f7-942e-a9c8a8d819f1"
      },
      "outputs": [
        {
          "output_type": "execute_result",
          "data": {
            "text/plain": [
              "(30+20j)"
            ]
          },
          "metadata": {},
          "execution_count": 14
        }
      ],
      "source": [
        "20j + 30"
      ]
    },
    {
      "cell_type": "code",
      "execution_count": null,
      "id": "cd5db33b",
      "metadata": {
        "colab": {
          "base_uri": "https://localhost:8080/"
        },
        "id": "cd5db33b",
        "outputId": "9d3d6a58-eefc-43ec-c49d-d9f4471b901a"
      },
      "outputs": [
        {
          "output_type": "execute_result",
          "data": {
            "text/plain": [
              "(-30+20j)"
            ]
          },
          "metadata": {},
          "execution_count": 15
        }
      ],
      "source": [
        "20j - 30"
      ]
    },
    {
      "cell_type": "code",
      "execution_count": null,
      "id": "70c8f249",
      "metadata": {
        "colab": {
          "base_uri": "https://localhost:8080/"
        },
        "id": "70c8f249",
        "outputId": "2adc19d6-8951-447e-87b1-0674077e33c1"
      },
      "outputs": [
        {
          "output_type": "execute_result",
          "data": {
            "text/plain": [
              "(30.9+20j)"
            ]
          },
          "metadata": {},
          "execution_count": 16
        }
      ],
      "source": [
        "20j + 30.9"
      ]
    },
    {
      "cell_type": "code",
      "execution_count": null,
      "id": "dc0cc0f2",
      "metadata": {
        "colab": {
          "base_uri": "https://localhost:8080/"
        },
        "id": "dc0cc0f2",
        "outputId": "f0db0ab7-5586-432e-af0d-a3a6bb8d6a42"
      },
      "outputs": [
        {
          "output_type": "execute_result",
          "data": {
            "text/plain": [
              "(35+5j)"
            ]
          },
          "metadata": {},
          "execution_count": 17
        }
      ],
      "source": [
        "10j + 15 -5j +20 "
      ]
    },
    {
      "cell_type": "markdown",
      "id": "ca642644",
      "metadata": {
        "id": "ca642644"
      },
      "source": [
        "#### **Multiplicaciones y divisiones**"
      ]
    },
    {
      "cell_type": "code",
      "execution_count": null,
      "id": "d7bd9aa7",
      "metadata": {
        "colab": {
          "base_uri": "https://localhost:8080/"
        },
        "id": "d7bd9aa7",
        "outputId": "9f87801c-eb1e-46fc-ef15-33d99b48196a"
      },
      "outputs": [
        {
          "output_type": "execute_result",
          "data": {
            "text/plain": [
              "60"
            ]
          },
          "metadata": {},
          "execution_count": 18
        }
      ],
      "source": [
        "20 * 3"
      ]
    },
    {
      "cell_type": "code",
      "execution_count": null,
      "id": "2201ee35",
      "metadata": {
        "colab": {
          "base_uri": "https://localhost:8080/"
        },
        "id": "2201ee35",
        "outputId": "5fceb25c-058c-4820-a91a-6f2a7855e73e"
      },
      "outputs": [
        {
          "output_type": "execute_result",
          "data": {
            "text/plain": [
              "70.0"
            ]
          },
          "metadata": {},
          "execution_count": 19
        }
      ],
      "source": [
        "20 * 3.5"
      ]
    },
    {
      "cell_type": "code",
      "execution_count": null,
      "id": "03828e8d",
      "metadata": {
        "colab": {
          "base_uri": "https://localhost:8080/"
        },
        "id": "03828e8d",
        "outputId": "7bf92e37-07fa-47e2-c637-79b9d338070c"
      },
      "outputs": [
        {
          "output_type": "execute_result",
          "data": {
            "text/plain": [
              "60j"
            ]
          },
          "metadata": {},
          "execution_count": 20
        }
      ],
      "source": [
        "20 * 3j"
      ]
    },
    {
      "cell_type": "code",
      "execution_count": null,
      "id": "f8813ad5",
      "metadata": {
        "colab": {
          "base_uri": "https://localhost:8080/"
        },
        "id": "f8813ad5",
        "outputId": "696327de-edd2-4387-bc6a-2d7bf0169d1d"
      },
      "outputs": [
        {
          "output_type": "execute_result",
          "data": {
            "text/plain": [
              "60j"
            ]
          },
          "metadata": {},
          "execution_count": 21
        }
      ],
      "source": [
        "20j * 3"
      ]
    },
    {
      "cell_type": "markdown",
      "id": "6288b143",
      "metadata": {
        "id": "6288b143"
      },
      "source": [
        "**Ahora bien, en el caso de las divisiones de números enteros o números decimales, el resultado siempre será un número decimal. Cuando la operación sea de un número complejo, el resultado no será decimal, a menos que el número complejo tenga decimal.**"
      ]
    },
    {
      "cell_type": "code",
      "execution_count": null,
      "id": "367a6004",
      "metadata": {
        "colab": {
          "base_uri": "https://localhost:8080/"
        },
        "id": "367a6004",
        "outputId": "f51fd87c-ad95-4b96-bfae-ab331ba39ea9"
      },
      "outputs": [
        {
          "output_type": "execute_result",
          "data": {
            "text/plain": [
              "20.0"
            ]
          },
          "metadata": {},
          "execution_count": 22
        }
      ],
      "source": [
        "60 / 3"
      ]
    },
    {
      "cell_type": "code",
      "execution_count": null,
      "id": "fca5daf4",
      "metadata": {
        "colab": {
          "base_uri": "https://localhost:8080/"
        },
        "id": "fca5daf4",
        "outputId": "b9d18536-b4b8-42da-ead3-0e6ef8a19161"
      },
      "outputs": [
        {
          "output_type": "execute_result",
          "data": {
            "text/plain": [
              "20.3"
            ]
          },
          "metadata": {},
          "execution_count": 23
        }
      ],
      "source": [
        "60.9 / 3"
      ]
    },
    {
      "cell_type": "code",
      "execution_count": null,
      "id": "349e683f",
      "metadata": {
        "colab": {
          "base_uri": "https://localhost:8080/"
        },
        "id": "349e683f",
        "outputId": "ffcba1b1-e0b0-4390-a3f9-06be81454792"
      },
      "outputs": [
        {
          "output_type": "execute_result",
          "data": {
            "text/plain": [
              "20j"
            ]
          },
          "metadata": {},
          "execution_count": 24
        }
      ],
      "source": [
        "60j / 3"
      ]
    },
    {
      "cell_type": "code",
      "execution_count": null,
      "id": "e4440d4c",
      "metadata": {
        "colab": {
          "base_uri": "https://localhost:8080/"
        },
        "id": "e4440d4c",
        "outputId": "b8c481a7-2581-427c-cf4f-7b8a9efc0e2f"
      },
      "outputs": [
        {
          "output_type": "execute_result",
          "data": {
            "text/plain": [
              "20.3j"
            ]
          },
          "metadata": {},
          "execution_count": 25
        }
      ],
      "source": [
        "60.9j / 3"
      ]
    },
    {
      "cell_type": "markdown",
      "id": "09368137",
      "metadata": {
        "id": "09368137"
      },
      "source": [
        "**También en el caso de las divisiones, se puede obtener como resultado solo la parte entera del número con dos símbolos /**"
      ]
    },
    {
      "cell_type": "code",
      "execution_count": null,
      "id": "9551b082",
      "metadata": {
        "colab": {
          "base_uri": "https://localhost:8080/"
        },
        "id": "9551b082",
        "outputId": "194285c7-5157-43bb-c0f3-a23a7b856a90"
      },
      "outputs": [
        {
          "output_type": "execute_result",
          "data": {
            "text/plain": [
              "15.0"
            ]
          },
          "metadata": {},
          "execution_count": 26
        }
      ],
      "source": [
        "60 / 4"
      ]
    },
    {
      "cell_type": "code",
      "execution_count": null,
      "id": "beb10132",
      "metadata": {
        "colab": {
          "base_uri": "https://localhost:8080/"
        },
        "id": "beb10132",
        "outputId": "97d3d609-d336-40e2-8349-e90eb448e82d"
      },
      "outputs": [
        {
          "output_type": "execute_result",
          "data": {
            "text/plain": [
              "15"
            ]
          },
          "metadata": {},
          "execution_count": 27
        }
      ],
      "source": [
        "60 // 4"
      ]
    },
    {
      "cell_type": "markdown",
      "id": "6e613d9e",
      "metadata": {
        "id": "6e613d9e"
      },
      "source": [
        "#### **Algunas cuestiones en las operaciones básicas**"
      ]
    },
    {
      "cell_type": "markdown",
      "id": "82a98def",
      "metadata": {
        "id": "82a98def"
      },
      "source": [
        "**Cuando en una operación matemática aparecen varias operaciones, Python resuelve con las reglas de prioridad de las operaciones matemáticas, es decir, primero las multiplicaciones y divisiones, y luego las sumas y las restas...**"
      ]
    },
    {
      "cell_type": "code",
      "execution_count": null,
      "id": "7141ff5c",
      "metadata": {
        "colab": {
          "base_uri": "https://localhost:8080/"
        },
        "id": "7141ff5c",
        "outputId": "3b89a8e6-cac0-4434-8130-ef4525f309d1"
      },
      "outputs": [
        {
          "output_type": "execute_result",
          "data": {
            "text/plain": [
              "14.0"
            ]
          },
          "metadata": {},
          "execution_count": 28
        }
      ],
      "source": [
        "8 + 8 / 2 + 2"
      ]
    },
    {
      "cell_type": "markdown",
      "id": "f289d1aa",
      "metadata": {
        "id": "f289d1aa"
      },
      "source": [
        "**Si en la operación matemática se desea un orden específico, entonces debe ser indicado con el uso de paréntesis...**"
      ]
    },
    {
      "cell_type": "code",
      "execution_count": null,
      "id": "5eb6837b",
      "metadata": {
        "colab": {
          "base_uri": "https://localhost:8080/"
        },
        "id": "5eb6837b",
        "outputId": "b2eaf141-2389-4fd7-a55b-70b021d5f8d0"
      },
      "outputs": [
        {
          "output_type": "execute_result",
          "data": {
            "text/plain": [
              "4.0"
            ]
          },
          "metadata": {},
          "execution_count": 29
        }
      ],
      "source": [
        "(8 + 8) / (2 + 2)"
      ]
    },
    {
      "cell_type": "markdown",
      "id": "c3bc5097",
      "metadata": {
        "id": "c3bc5097"
      },
      "source": [
        "**Al realizar operaciones con números decimales, los resultados pueden presentar errores de redondeo....**"
      ]
    },
    {
      "cell_type": "code",
      "execution_count": null,
      "id": "c722d73e",
      "metadata": {
        "colab": {
          "base_uri": "https://localhost:8080/"
        },
        "id": "c722d73e",
        "outputId": "8c7a6505-48ba-49e1-db6d-3a734f047d28"
      },
      "outputs": [
        {
          "output_type": "execute_result",
          "data": {
            "text/plain": [
              "33.333333333333336"
            ]
          },
          "metadata": {},
          "execution_count": 30
        }
      ],
      "source": [
        "100 / 3"
      ]
    },
    {
      "cell_type": "markdown",
      "id": "8f831320",
      "metadata": {
        "id": "8f831320"
      },
      "source": [
        "**Este error se debe a que Python almacena los números decimales en binario con 53 bits de precisión (formato de coma flotante de doble precisión de la norma IEEE-754) y pasar de decimal a binario provoca errores de rendodeo. Si se necesita precisión absoluta, se deben utilizar módulos específicos para ello.**\n",
        "\n",
        "**Debido a esos errores de redondeo, dos operaciones matemáticas que debieran arrojar el mismo resultado, podrían dar resultados levemente diferentes, pero diferentes.**"
      ]
    },
    {
      "cell_type": "code",
      "execution_count": null,
      "id": "e82cf69c",
      "metadata": {
        "colab": {
          "base_uri": "https://localhost:8080/"
        },
        "id": "e82cf69c",
        "outputId": "b59b1d37-eea8-455e-b0ca-f2f510cd5714"
      },
      "outputs": [
        {
          "output_type": "execute_result",
          "data": {
            "text/plain": [
              "2.4"
            ]
          },
          "metadata": {},
          "execution_count": 31
        }
      ],
      "source": [
        "4 * 3 / 5"
      ]
    },
    {
      "cell_type": "code",
      "execution_count": null,
      "id": "9a090022",
      "metadata": {
        "colab": {
          "base_uri": "https://localhost:8080/"
        },
        "id": "9a090022",
        "outputId": "315d89c0-7851-477e-b11a-a5342779a1a4"
      },
      "outputs": [
        {
          "output_type": "execute_result",
          "data": {
            "text/plain": [
              "2.4000000000000004"
            ]
          },
          "metadata": {},
          "execution_count": 32
        }
      ],
      "source": [
        "4 / 5 * 3"
      ]
    },
    {
      "cell_type": "markdown",
      "id": "8a55749c",
      "metadata": {
        "id": "8a55749c"
      },
      "source": [
        "### **Potencias y raices**"
      ]
    },
    {
      "cell_type": "markdown",
      "id": "5533b0a1",
      "metadata": {
        "id": "5533b0a1"
      },
      "source": [
        "**Las potencias se calculan con el operador $**$, teniendo en cuenta que $x$ $**$ $y$ $=$ $x^y$. Utilizando exponentes negativos o decimales se pueden calcular potencias inversas o raíces n-ésimas.**"
      ]
    },
    {
      "cell_type": "markdown",
      "id": "e44240ae",
      "metadata": {
        "id": "e44240ae"
      },
      "source": [
        "**Si se quiere calcular un valor al cuadrado, por ejemplo $9^2$, entonces...**"
      ]
    },
    {
      "cell_type": "code",
      "execution_count": null,
      "id": "c99cd031",
      "metadata": {
        "colab": {
          "base_uri": "https://localhost:8080/"
        },
        "id": "c99cd031",
        "outputId": "61fad4e6-c87c-46f7-a867-c43f0276e6ae"
      },
      "outputs": [
        {
          "output_type": "execute_result",
          "data": {
            "text/plain": [
              "81"
            ]
          },
          "metadata": {},
          "execution_count": 33
        }
      ],
      "source": [
        "9 ** 2"
      ]
    },
    {
      "cell_type": "markdown",
      "id": "f9e98b7f",
      "metadata": {
        "id": "f9e98b7f"
      },
      "source": [
        "**O si se quiere calcular la raiz de un número, por ejemplo $\\sqrt{9}$\n",
        "entonces...**"
      ]
    },
    {
      "cell_type": "code",
      "execution_count": null,
      "id": "b70294b2",
      "metadata": {
        "colab": {
          "base_uri": "https://localhost:8080/"
        },
        "id": "b70294b2",
        "outputId": "9a6ab9c8-440b-4e2b-c012-81d567b075be"
      },
      "outputs": [
        {
          "output_type": "execute_result",
          "data": {
            "text/plain": [
              "3.0"
            ]
          },
          "metadata": {},
          "execution_count": 34
        }
      ],
      "source": [
        "9 ** 0.5"
      ]
    },
    {
      "cell_type": "markdown",
      "id": "d3958d9e",
      "metadata": {
        "id": "d3958d9e"
      },
      "source": [
        "**La raíz de un número entero da como resultado un número decimal.**"
      ]
    },
    {
      "cell_type": "code",
      "execution_count": null,
      "id": "cfd3191f",
      "metadata": {
        "colab": {
          "base_uri": "https://localhost:8080/"
        },
        "id": "cfd3191f",
        "outputId": "e340e698-d85a-430d-87f1-2222b11aa88c"
      },
      "outputs": [
        {
          "output_type": "execute_result",
          "data": {
            "text/plain": [
              "9.0"
            ]
          },
          "metadata": {},
          "execution_count": 35
        }
      ],
      "source": [
        "81 ** 0.5"
      ]
    },
    {
      "cell_type": "markdown",
      "id": "6264463e-dd3d-4bd6-b3b7-87eacac670ba",
      "metadata": {
        "id": "6264463e-dd3d-4bd6-b3b7-87eacac670ba"
      },
      "source": [
        "### **Bases**"
      ]
    },
    {
      "cell_type": "markdown",
      "id": "c9dc5041-1dfe-4108-9c38-7a7ab4953e8a",
      "metadata": {
        "id": "c9dc5041-1dfe-4108-9c38-7a7ab4953e8a"
      },
      "source": [
        "**Los números enteros son base 10 a menos que se utilice un prefijo para especificar otra base. Es posible que nunca necesitemos usar estas otras bases, pero nunca se sabe. Un ejemplo de ello son los números binarios (ceros y uno) que son base 2.**\n",
        "\n",
        "**En Python, los números enteros se pueden expresar en tres bases:**\n",
        "\n",
        "+ **base binaria (base 2)**\n",
        "+ **base octal (base 8)**\n",
        "+ **base hexadecimal (base 16)**\n",
        "\n",
        "**Estas bases son todas potencias de dos, y son útiles en algunos casos.**"
      ]
    },
    {
      "cell_type": "markdown",
      "id": "c98712e9-c5f3-44c1-88f2-3b37442a489c",
      "metadata": {
        "id": "c98712e9-c5f3-44c1-88f2-3b37442a489c"
      },
      "source": [
        "#### **Base 10**"
      ]
    },
    {
      "cell_type": "code",
      "execution_count": null,
      "id": "5be7bdc6-3c79-45c4-b863-2857053a1f21",
      "metadata": {
        "colab": {
          "base_uri": "https://localhost:8080/"
        },
        "id": "5be7bdc6-3c79-45c4-b863-2857053a1f21",
        "outputId": "70eaf334-25af-4e38-b2eb-fcade3c14d3c"
      },
      "outputs": [
        {
          "output_type": "execute_result",
          "data": {
            "text/plain": [
              "10"
            ]
          },
          "metadata": {},
          "execution_count": 36
        }
      ],
      "source": [
        "10"
      ]
    },
    {
      "cell_type": "markdown",
      "id": "382cffeb-66e2-4da4-be01-6eec99b07a81",
      "metadata": {
        "id": "382cffeb-66e2-4da4-be01-6eec99b07a81"
      },
      "source": [
        "#### **Base 2**"
      ]
    },
    {
      "cell_type": "code",
      "execution_count": null,
      "id": "f6227fdb-426d-4dc3-9c61-12cf46ac861a",
      "metadata": {
        "colab": {
          "base_uri": "https://localhost:8080/"
        },
        "id": "f6227fdb-426d-4dc3-9c61-12cf46ac861a",
        "outputId": "7c14f11b-ce49-4740-ae1f-d630c46f14f5"
      },
      "outputs": [
        {
          "output_type": "execute_result",
          "data": {
            "text/plain": [
              "10"
            ]
          },
          "metadata": {},
          "execution_count": 37
        }
      ],
      "source": [
        "0b1010"
      ]
    },
    {
      "cell_type": "markdown",
      "id": "442c799c-1dba-457e-b6ab-fdd9cb55ddb4",
      "metadata": {
        "id": "442c799c-1dba-457e-b6ab-fdd9cb55ddb4"
      },
      "source": [
        "#### **Base 8**"
      ]
    },
    {
      "cell_type": "code",
      "execution_count": null,
      "id": "f899388d-2089-4349-8219-8011cba78e74",
      "metadata": {
        "colab": {
          "base_uri": "https://localhost:8080/"
        },
        "id": "f899388d-2089-4349-8219-8011cba78e74",
        "outputId": "661d120b-3ec6-49b0-fcfb-5537a29502fa"
      },
      "outputs": [
        {
          "output_type": "execute_result",
          "data": {
            "text/plain": [
              "10"
            ]
          },
          "metadata": {},
          "execution_count": 38
        }
      ],
      "source": [
        "0o12"
      ]
    },
    {
      "cell_type": "markdown",
      "id": "35bb41d0-c93f-4440-9811-593bfab570bc",
      "metadata": {
        "id": "35bb41d0-c93f-4440-9811-593bfab570bc"
      },
      "source": [
        "#### **Base 16**"
      ]
    },
    {
      "cell_type": "code",
      "execution_count": null,
      "id": "2f0255e6-9d77-478f-9416-d5a465715dcf",
      "metadata": {
        "colab": {
          "base_uri": "https://localhost:8080/"
        },
        "id": "2f0255e6-9d77-478f-9416-d5a465715dcf",
        "outputId": "fd0eeff6-3263-4156-9805-97bde108e5e4"
      },
      "outputs": [
        {
          "output_type": "execute_result",
          "data": {
            "text/plain": [
              "10"
            ]
          },
          "metadata": {},
          "execution_count": 39
        }
      ],
      "source": [
        "0xa"
      ]
    },
    {
      "cell_type": "markdown",
      "id": "392a0664-240f-4c52-a9bc-dfaa598be607",
      "metadata": {
        "id": "392a0664-240f-4c52-a9bc-dfaa598be607"
      },
      "source": [
        "#### **Funciones integradas para bases**\n",
        "\n",
        "**Para corroborar los valores equivalentes en las distintas bases, se pueden utilizar funciones integradas.**"
      ]
    },
    {
      "cell_type": "code",
      "execution_count": null,
      "id": "a08edc70-936b-41b0-85ec-0d0bf08e0c85",
      "metadata": {
        "colab": {
          "base_uri": "https://localhost:8080/"
        },
        "id": "a08edc70-936b-41b0-85ec-0d0bf08e0c85",
        "outputId": "2080381e-ce79-40d7-e6bd-f26529c442ad"
      },
      "outputs": [
        {
          "output_type": "execute_result",
          "data": {
            "text/plain": [
              "10"
            ]
          },
          "metadata": {},
          "execution_count": 40
        }
      ],
      "source": [
        "10"
      ]
    },
    {
      "cell_type": "code",
      "execution_count": null,
      "id": "23c3f186-bfb0-4357-a3ea-a114d89484a4",
      "metadata": {
        "colab": {
          "base_uri": "https://localhost:8080/",
          "height": 35
        },
        "id": "23c3f186-bfb0-4357-a3ea-a114d89484a4",
        "outputId": "db6ce7db-fec1-4460-b55e-ed2e05d483c2"
      },
      "outputs": [
        {
          "output_type": "execute_result",
          "data": {
            "application/vnd.google.colaboratory.intrinsic+json": {
              "type": "string"
            },
            "text/plain": [
              "'0b1010'"
            ]
          },
          "metadata": {},
          "execution_count": 41
        }
      ],
      "source": [
        "bin(10)"
      ]
    },
    {
      "cell_type": "code",
      "execution_count": null,
      "id": "2b77a79c-ea2c-42a8-a54b-117d57588814",
      "metadata": {
        "colab": {
          "base_uri": "https://localhost:8080/",
          "height": 35
        },
        "id": "2b77a79c-ea2c-42a8-a54b-117d57588814",
        "outputId": "84b35886-54a6-4729-e6d3-6df231dab703"
      },
      "outputs": [
        {
          "output_type": "execute_result",
          "data": {
            "application/vnd.google.colaboratory.intrinsic+json": {
              "type": "string"
            },
            "text/plain": [
              "'0o12'"
            ]
          },
          "metadata": {},
          "execution_count": 42
        }
      ],
      "source": [
        "oct(10)"
      ]
    },
    {
      "cell_type": "code",
      "execution_count": null,
      "id": "bc15fde8-6972-493b-a591-b3e0fbf7f216",
      "metadata": {
        "colab": {
          "base_uri": "https://localhost:8080/",
          "height": 35
        },
        "id": "bc15fde8-6972-493b-a591-b3e0fbf7f216",
        "outputId": "05479db8-5dcc-4174-8659-9eb65b2dbc34"
      },
      "outputs": [
        {
          "output_type": "execute_result",
          "data": {
            "application/vnd.google.colaboratory.intrinsic+json": {
              "type": "string"
            },
            "text/plain": [
              "'0xa'"
            ]
          },
          "metadata": {},
          "execution_count": 43
        }
      ],
      "source": [
        "hex(10)"
      ]
    },
    {
      "cell_type": "markdown",
      "id": "88a37e57-1e95-46a8-9fb0-08e95d7be67c",
      "metadata": {
        "id": "88a37e57-1e95-46a8-9fb0-08e95d7be67c"
      },
      "source": [
        "### **Usando algunas de las funciones integradas**"
      ]
    },
    {
      "cell_type": "markdown",
      "id": "d854b63b-648a-4a0b-981a-40964634c748",
      "metadata": {
        "id": "d854b63b-648a-4a0b-981a-40964634c748"
      },
      "source": [
        "#### **int()**"
      ]
    },
    {
      "cell_type": "markdown",
      "id": "3a3d81da-2052-47ad-b340-75d2ca09f456",
      "metadata": {
        "id": "3a3d81da-2052-47ad-b340-75d2ca09f456"
      },
      "source": [
        "**Para cambiar un tipo de dato numérico a entero se utiliza la función int()**"
      ]
    },
    {
      "cell_type": "code",
      "execution_count": null,
      "id": "d250acfe-b8d4-4ac9-aead-b1af4fb54776",
      "metadata": {
        "colab": {
          "base_uri": "https://localhost:8080/"
        },
        "id": "d250acfe-b8d4-4ac9-aead-b1af4fb54776",
        "outputId": "86011538-27f0-43f8-f2e8-7679cad45bc4"
      },
      "outputs": [
        {
          "output_type": "execute_result",
          "data": {
            "text/plain": [
              "198"
            ]
          },
          "metadata": {},
          "execution_count": 44
        }
      ],
      "source": [
        "int(198.96)"
      ]
    },
    {
      "cell_type": "code",
      "execution_count": null,
      "id": "e534218a-892c-4cad-a343-739e889bfc9f",
      "metadata": {
        "colab": {
          "base_uri": "https://localhost:8080/"
        },
        "id": "e534218a-892c-4cad-a343-739e889bfc9f",
        "outputId": "769549bb-e7b2-4947-b337-049d90bc8aec"
      },
      "outputs": [
        {
          "output_type": "execute_result",
          "data": {
            "text/plain": [
              "10000"
            ]
          },
          "metadata": {},
          "execution_count": 45
        }
      ],
      "source": [
        "int(1.0e4)"
      ]
    },
    {
      "cell_type": "markdown",
      "id": "a99dfd05-db30-4888-82b6-78315460403c",
      "metadata": {
        "id": "a99dfd05-db30-4888-82b6-78315460403c"
      },
      "source": [
        "**También con la función int() se puede convertir una cadena de caracteres en números... pero esa cadena de caracteres debería indicar un número entero, positivo o negativo.**"
      ]
    },
    {
      "cell_type": "code",
      "execution_count": null,
      "id": "bdbaf6f5-350d-44a1-9210-793611a01e4e",
      "metadata": {
        "colab": {
          "base_uri": "https://localhost:8080/"
        },
        "id": "bdbaf6f5-350d-44a1-9210-793611a01e4e",
        "outputId": "c70fb246-b9dd-4b27-8787-8712abe10540"
      },
      "outputs": [
        {
          "output_type": "execute_result",
          "data": {
            "text/plain": [
              "35"
            ]
          },
          "metadata": {},
          "execution_count": 46
        }
      ],
      "source": [
        "int(\"35\")"
      ]
    },
    {
      "cell_type": "code",
      "execution_count": null,
      "id": "f2c1e3cc-280e-404d-9229-4d2dad2cb668",
      "metadata": {
        "colab": {
          "base_uri": "https://localhost:8080/"
        },
        "id": "f2c1e3cc-280e-404d-9229-4d2dad2cb668",
        "outputId": "939c150d-fd8d-4f4a-fb25-2880781c29b9"
      },
      "outputs": [
        {
          "output_type": "execute_result",
          "data": {
            "text/plain": [
              "-890"
            ]
          },
          "metadata": {},
          "execution_count": 47
        }
      ],
      "source": [
        "int(\"-890\")"
      ]
    },
    {
      "cell_type": "markdown",
      "id": "d33d2869-67e6-4b6d-a1dd-d68334133249",
      "metadata": {
        "id": "d33d2869-67e6-4b6d-a1dd-d68334133249"
      },
      "source": [
        "**Con la cadena de caracters no decimal, tambien se le puede indicar la base como segundo parámetro de la función int()**"
      ]
    },
    {
      "cell_type": "code",
      "execution_count": null,
      "id": "ec904f12-66d9-46e9-a266-d386dbf73f1a",
      "metadata": {
        "colab": {
          "base_uri": "https://localhost:8080/"
        },
        "id": "ec904f12-66d9-46e9-a266-d386dbf73f1a",
        "outputId": "c13b8772-4cbc-4fb5-ec7c-b9dde3d4f8b0"
      },
      "outputs": [
        {
          "output_type": "execute_result",
          "data": {
            "text/plain": [
              "10"
            ]
          },
          "metadata": {},
          "execution_count": 48
        }
      ],
      "source": [
        "int(\"10\", 10)"
      ]
    },
    {
      "cell_type": "code",
      "execution_count": null,
      "id": "8bfd5ffb-7a69-4700-ab55-916c7cc2566d",
      "metadata": {
        "colab": {
          "base_uri": "https://localhost:8080/"
        },
        "id": "8bfd5ffb-7a69-4700-ab55-916c7cc2566d",
        "outputId": "565d6f6e-392a-4482-ccc6-5bb24f298235"
      },
      "outputs": [
        {
          "output_type": "execute_result",
          "data": {
            "text/plain": [
              "2"
            ]
          },
          "metadata": {},
          "execution_count": 49
        }
      ],
      "source": [
        "int(\"10\", 2)"
      ]
    },
    {
      "cell_type": "code",
      "execution_count": null,
      "id": "51add469-396e-4c5d-8197-9caa4256b438",
      "metadata": {
        "colab": {
          "base_uri": "https://localhost:8080/"
        },
        "id": "51add469-396e-4c5d-8197-9caa4256b438",
        "outputId": "7c94b34b-4467-439d-e7b9-4db9d0d5aca5"
      },
      "outputs": [
        {
          "output_type": "execute_result",
          "data": {
            "text/plain": [
              "8"
            ]
          },
          "metadata": {},
          "execution_count": 50
        }
      ],
      "source": [
        "int(\"10\", 8)"
      ]
    },
    {
      "cell_type": "code",
      "execution_count": null,
      "id": "fd6d77f9-2ac5-423d-8afc-3bfb0d782944",
      "metadata": {
        "colab": {
          "base_uri": "https://localhost:8080/"
        },
        "id": "fd6d77f9-2ac5-423d-8afc-3bfb0d782944",
        "outputId": "1672e2af-3f75-4b55-90f6-3dbc1cdf09e3"
      },
      "outputs": [
        {
          "output_type": "execute_result",
          "data": {
            "text/plain": [
              "16"
            ]
          },
          "metadata": {},
          "execution_count": 51
        }
      ],
      "source": [
        "int(\"10\", 16)"
      ]
    },
    {
      "cell_type": "markdown",
      "id": "50d1f974-912f-477d-b68d-7c1b061ef456",
      "metadata": {
        "id": "50d1f974-912f-477d-b68d-7c1b061ef456"
      },
      "source": [
        "## **Cadenas de caracteres**"
      ]
    },
    {
      "cell_type": "markdown",
      "id": "88486600-56d6-4b61-a57f-484f521808e0",
      "metadata": {
        "id": "88486600-56d6-4b61-a57f-484f521808e0"
      },
      "source": [
        "**En principio las cadenas de caracteres se pueden delimitar con comillas simples o con comillas dobles...**"
      ]
    },
    {
      "cell_type": "code",
      "execution_count": null,
      "id": "02d9c7c3-9b38-4292-90d6-02b43b4242e5",
      "metadata": {
        "colab": {
          "base_uri": "https://localhost:8080/",
          "height": 35
        },
        "id": "02d9c7c3-9b38-4292-90d6-02b43b4242e5",
        "outputId": "3312b893-9dd0-43b2-cfdd-59b699c18f00"
      },
      "outputs": [
        {
          "output_type": "execute_result",
          "data": {
            "application/vnd.google.colaboratory.intrinsic+json": {
              "type": "string"
            },
            "text/plain": [
              "'Esta es una cadena de caracteres'"
            ]
          },
          "metadata": {},
          "execution_count": 52
        }
      ],
      "source": [
        "'Esta es una cadena de caracteres'"
      ]
    },
    {
      "cell_type": "code",
      "execution_count": null,
      "id": "5bd297c6-28d4-4c7e-b8d6-494f0c3fb6ff",
      "metadata": {
        "colab": {
          "base_uri": "https://localhost:8080/"
        },
        "id": "5bd297c6-28d4-4c7e-b8d6-494f0c3fb6ff",
        "outputId": "5ff89b08-468f-4a2f-a9c1-be22bd5c4791"
      },
      "outputs": [
        {
          "output_type": "stream",
          "name": "stdout",
          "text": [
            "Esta es una cadena de caracteres\n"
          ]
        }
      ],
      "source": [
        "print('Esta es una cadena de caracteres')"
      ]
    },
    {
      "cell_type": "code",
      "execution_count": null,
      "id": "4f21ba3d-fd45-48fb-9a59-2f4b8f6a16ca",
      "metadata": {
        "colab": {
          "base_uri": "https://localhost:8080/"
        },
        "id": "4f21ba3d-fd45-48fb-9a59-2f4b8f6a16ca",
        "outputId": "187114cc-4d12-406d-c15a-580a46a6217e"
      },
      "outputs": [
        {
          "output_type": "stream",
          "name": "stdout",
          "text": [
            "Esta es una cadena de caracteres\n"
          ]
        }
      ],
      "source": [
        "print(\"Esta es una cadena de caracteres\")"
      ]
    },
    {
      "cell_type": "code",
      "execution_count": null,
      "id": "e705e1b7-63e9-4b08-a493-407761410768",
      "metadata": {
        "colab": {
          "base_uri": "https://localhost:8080/",
          "height": 35
        },
        "id": "e705e1b7-63e9-4b08-a493-407761410768",
        "outputId": "398e7f58-07d0-4883-b95f-ab65250cf61e"
      },
      "outputs": [
        {
          "output_type": "execute_result",
          "data": {
            "application/vnd.google.colaboratory.intrinsic+json": {
              "type": "string"
            },
            "text/plain": [
              "'2022'"
            ]
          },
          "metadata": {},
          "execution_count": 55
        }
      ],
      "source": [
        "\"2022\""
      ]
    },
    {
      "cell_type": "code",
      "execution_count": null,
      "id": "9c7a28f8-ae88-4156-9a69-af42f4398318",
      "metadata": {
        "colab": {
          "base_uri": "https://localhost:8080/"
        },
        "id": "9c7a28f8-ae88-4156-9a69-af42f4398318",
        "outputId": "34684d1f-b0c0-4994-8df7-dd9e671fc889"
      },
      "outputs": [
        {
          "output_type": "stream",
          "name": "stdout",
          "text": [
            "2022\n"
          ]
        }
      ],
      "source": [
        "print(\"2022\")"
      ]
    },
    {
      "cell_type": "markdown",
      "id": "d3509a8d-f172-40d1-ae1c-d2723817f850",
      "metadata": {
        "id": "d3509a8d-f172-40d1-ae1c-d2723817f850"
      },
      "source": [
        "**Como se puede observar, la función print() muestra por la pantalla de nuestro dispositivo el contenido de la cadena de caracteres, pero no muestra las comillas delimitadoras de la cadena.**"
      ]
    },
    {
      "cell_type": "markdown",
      "id": "ca2160a1-7e9d-4d22-bc67-421f145f552e",
      "metadata": {
        "id": "ca2160a1-7e9d-4d22-bc67-421f145f552e"
      },
      "source": [
        "### **Concatenación**"
      ]
    },
    {
      "cell_type": "markdown",
      "id": "a923e771-d14c-42e0-9228-d8630fce0a37",
      "metadata": {
        "id": "a923e771-d14c-42e0-9228-d8630fce0a37"
      },
      "source": [
        "**Algo más que importante para destacar es que las cadenas de caracteres en Python son *inmutables*, y las cadenas de caracteres pueden concatenarse automáticamente.** "
      ]
    },
    {
      "cell_type": "code",
      "execution_count": null,
      "id": "cb98cdd1-b299-4daf-a314-b11026211a4b",
      "metadata": {
        "colab": {
          "base_uri": "https://localhost:8080/",
          "height": 35
        },
        "id": "cb98cdd1-b299-4daf-a314-b11026211a4b",
        "outputId": "48ccd680-e8ac-440b-ceff-9c7292e8132b"
      },
      "outputs": [
        {
          "output_type": "execute_result",
          "data": {
            "application/vnd.google.colaboratory.intrinsic+json": {
              "type": "string"
            },
            "text/plain": [
              "'Python for Data Analysis '"
            ]
          },
          "metadata": {},
          "execution_count": 57
        }
      ],
      "source": [
        "\"Py\" \"thon \" \"for \" \"Da\" \"ta \" \"Analy\" \"sis \""
      ]
    },
    {
      "cell_type": "markdown",
      "id": "43848483-28db-49ff-8d35-548aeb74718b",
      "metadata": {
        "id": "43848483-28db-49ff-8d35-548aeb74718b"
      },
      "source": [
        "### **Subíndices**"
      ]
    },
    {
      "cell_type": "code",
      "execution_count": null,
      "id": "7f1bf6dd-ace8-4488-bf57-d8d8ca46cd44",
      "metadata": {
        "id": "7f1bf6dd-ace8-4488-bf57-d8d8ca46cd44"
      },
      "outputs": [],
      "source": [
        "activo = \"Activo\"\n",
        "pasivo = \"Pasivo\"\n",
        "patrimonio = \"Patrimonio Neto\""
      ]
    },
    {
      "cell_type": "markdown",
      "id": "b3e50b8f-2a07-41df-a2c9-20b2473c1fce",
      "metadata": {
        "id": "b3e50b8f-2a07-41df-a2c9-20b2473c1fce"
      },
      "source": [
        "**Para obtener el primer caracter de alguna de las variables definidas, se indica ese caracter por su posición, entre corchetes, teniendo en cuenta que en Python siempre se empieza a contar desde cero. En el caso del Activo, si queremos la letra A, entonces debemos indicar el primer subíndice de la variable activo.**"
      ]
    },
    {
      "cell_type": "code",
      "execution_count": null,
      "id": "c4f1aee9-f19b-4105-bd3e-3986ed53e843",
      "metadata": {
        "colab": {
          "base_uri": "https://localhost:8080/",
          "height": 35
        },
        "id": "c4f1aee9-f19b-4105-bd3e-3986ed53e843",
        "outputId": "8363b540-952e-44ec-879f-38209c04d40f"
      },
      "outputs": [
        {
          "output_type": "execute_result",
          "data": {
            "application/vnd.google.colaboratory.intrinsic+json": {
              "type": "string"
            },
            "text/plain": [
              "'A'"
            ]
          },
          "metadata": {},
          "execution_count": 59
        }
      ],
      "source": [
        "activo[0]"
      ]
    },
    {
      "cell_type": "code",
      "execution_count": null,
      "id": "fcb48dd2-d3a5-4f64-9455-9c92091ce823",
      "metadata": {
        "colab": {
          "base_uri": "https://localhost:8080/"
        },
        "id": "fcb48dd2-d3a5-4f64-9455-9c92091ce823",
        "outputId": "c2bee942-3bf5-4634-9496-88377809b64d"
      },
      "outputs": [
        {
          "output_type": "stream",
          "name": "stdout",
          "text": [
            "A\n"
          ]
        }
      ],
      "source": [
        "print(activo[0])"
      ]
    },
    {
      "cell_type": "markdown",
      "id": "09a7ab30-7a26-4144-a488-edf1507485df",
      "metadata": {
        "id": "09a7ab30-7a26-4144-a488-edf1507485df"
      },
      "source": [
        "### **Subcadenas**"
      ]
    },
    {
      "cell_type": "markdown",
      "id": "2a4e9ac6-c7cd-476a-aee3-62678afa1175",
      "metadata": {
        "id": "2a4e9ac6-c7cd-476a-aee3-62678afa1175"
      },
      "source": [
        "**Tambien se pueden obtener subcadenas de caracteres de las variables de texto.**"
      ]
    },
    {
      "cell_type": "code",
      "execution_count": null,
      "id": "8b62e6a8-d919-4bd5-8c5f-bda4e169982c",
      "metadata": {
        "colab": {
          "base_uri": "https://localhost:8080/"
        },
        "id": "8b62e6a8-d919-4bd5-8c5f-bda4e169982c",
        "outputId": "dcd22ae2-b254-40d5-aede-cb4000ac6f52"
      },
      "outputs": [
        {
          "output_type": "stream",
          "name": "stdout",
          "text": [
            "Act\n"
          ]
        }
      ],
      "source": [
        "print(activo[0:3])"
      ]
    },
    {
      "cell_type": "code",
      "execution_count": null,
      "id": "1258c716-d45b-48f4-b865-daa1502dab02",
      "metadata": {
        "colab": {
          "base_uri": "https://localhost:8080/"
        },
        "id": "1258c716-d45b-48f4-b865-daa1502dab02",
        "outputId": "d7d0fa76-6944-47bc-f874-17812869e5b1"
      },
      "outputs": [
        {
          "output_type": "stream",
          "name": "stdout",
          "text": [
            "Pas\n"
          ]
        }
      ],
      "source": [
        "print(pasivo[0:3])"
      ]
    },
    {
      "cell_type": "code",
      "execution_count": null,
      "id": "aaa86ac6-68ff-4138-bb88-18c3d0a32e67",
      "metadata": {
        "colab": {
          "base_uri": "https://localhost:8080/"
        },
        "id": "aaa86ac6-68ff-4138-bb88-18c3d0a32e67",
        "outputId": "54a3a974-afb1-4c94-a104-927f2dd0667e"
      },
      "outputs": [
        {
          "output_type": "stream",
          "name": "stdout",
          "text": [
            "PNeto\n"
          ]
        }
      ],
      "source": [
        "print(patrimonio[0] + patrimonio[11:15])"
      ]
    },
    {
      "cell_type": "markdown",
      "id": "5a7c1bf3-d677-4a7b-b11f-191ac2365e67",
      "metadata": {
        "id": "5a7c1bf3-d677-4a7b-b11f-191ac2365e67"
      },
      "source": [
        "### **Uso de caracteres especiales**"
      ]
    },
    {
      "cell_type": "markdown",
      "id": "ab246d74-be53-4a3b-bef6-d6d5c75f1521",
      "metadata": {
        "id": "ab246d74-be53-4a3b-bef6-d6d5c75f1521"
      },
      "source": [
        "**Con el uso de los caracteres \\n se puede adicionar una linea más de texto, escribiendo todo el script en una línea.**"
      ]
    },
    {
      "cell_type": "code",
      "execution_count": null,
      "id": "ce0f5d49-e353-4cb0-ae51-7b861cf6ee13",
      "metadata": {
        "colab": {
          "base_uri": "https://localhost:8080/"
        },
        "id": "ce0f5d49-e353-4cb0-ae51-7b861cf6ee13",
        "outputId": "f52a70e4-711e-4f14-a154-b1afb8d7de42"
      },
      "outputs": [
        {
          "output_type": "stream",
          "name": "stdout",
          "text": [
            "Python for Data Analysis \n",
            "First Edition\n"
          ]
        }
      ],
      "source": [
        "print(\"Python for Data Analysis \\nFirst Edition\")"
      ]
    },
    {
      "cell_type": "markdown",
      "id": "11abb39b-c6d7-4043-bf29-5b5dbb38faeb",
      "metadata": {
        "id": "11abb39b-c6d7-4043-bf29-5b5dbb38faeb"
      },
      "source": [
        "Con el uso de los caracteres \\t se puede centrar la cadena de caracteres."
      ]
    },
    {
      "cell_type": "code",
      "execution_count": null,
      "id": "beff7e72-59d9-4a3f-a3c0-95952269ea33",
      "metadata": {
        "colab": {
          "base_uri": "https://localhost:8080/"
        },
        "id": "beff7e72-59d9-4a3f-a3c0-95952269ea33",
        "outputId": "794d405b-5b48-4fbc-818d-2a5a81c246ce"
      },
      "outputs": [
        {
          "output_type": "stream",
          "name": "stdout",
          "text": [
            "\tPython for Data Analysis \n",
            "\tFirst Editiont\n"
          ]
        }
      ],
      "source": [
        "print(\"\\tPython for Data Analysis \\n\\tFirst Editiont\")"
      ]
    },
    {
      "cell_type": "markdown",
      "id": "7326e28a-6f04-4d22-a6be-739225f34736",
      "metadata": {
        "id": "7326e28a-6f04-4d22-a6be-739225f34736"
      },
      "source": [
        "### **Usando algunas de las funciones integradas**"
      ]
    },
    {
      "cell_type": "markdown",
      "id": "ddb1d891-cfa8-4baa-9055-6d796e787906",
      "metadata": {
        "id": "ddb1d891-cfa8-4baa-9055-6d796e787906"
      },
      "source": [
        "#### **str()**"
      ]
    },
    {
      "cell_type": "markdown",
      "id": "6a6cde86-574b-4562-bb02-e710e47a2043",
      "metadata": {
        "id": "6a6cde86-574b-4562-bb02-e710e47a2043"
      },
      "source": [
        "**Se puede crear una cadena de caracteres a partir de otro tipo de datos mediante la función str()**"
      ]
    },
    {
      "cell_type": "code",
      "execution_count": null,
      "id": "bb06ebf9-2228-4468-9483-64f37c29aeb9",
      "metadata": {
        "colab": {
          "base_uri": "https://localhost:8080/",
          "height": 35
        },
        "id": "bb06ebf9-2228-4468-9483-64f37c29aeb9",
        "outputId": "05e2d2b2-0981-4f6a-8278-6f05293b496d"
      },
      "outputs": [
        {
          "output_type": "execute_result",
          "data": {
            "application/vnd.google.colaboratory.intrinsic+json": {
              "type": "string"
            },
            "text/plain": [
              "'987.9'"
            ]
          },
          "metadata": {},
          "execution_count": 66
        }
      ],
      "source": [
        "str(987.90)"
      ]
    },
    {
      "cell_type": "code",
      "execution_count": null,
      "id": "b7a25a16-70d4-4137-a660-d413a600bd8a",
      "metadata": {
        "colab": {
          "base_uri": "https://localhost:8080/",
          "height": 35
        },
        "id": "b7a25a16-70d4-4137-a660-d413a600bd8a",
        "outputId": "4058ef22-5d94-47e5-8ff6-63dc101ecee7"
      },
      "outputs": [
        {
          "output_type": "execute_result",
          "data": {
            "application/vnd.google.colaboratory.intrinsic+json": {
              "type": "string"
            },
            "text/plain": [
              "'True'"
            ]
          },
          "metadata": {},
          "execution_count": 67
        }
      ],
      "source": [
        "str(True)"
      ]
    },
    {
      "cell_type": "markdown",
      "id": "3b669478-cfe7-4f6b-9245-09e10f1024d3",
      "metadata": {
        "id": "3b669478-cfe7-4f6b-9245-09e10f1024d3"
      },
      "source": [
        "#### **len()**"
      ]
    },
    {
      "cell_type": "markdown",
      "id": "746eb671-0f39-4e8c-98c4-24bfda89d9a3",
      "metadata": {
        "id": "746eb671-0f39-4e8c-98c4-24bfda89d9a3"
      },
      "source": [
        "**Esta función cuenta cuantos caracteres hay en una cadena de caracteres.**"
      ]
    },
    {
      "cell_type": "code",
      "execution_count": null,
      "id": "8ba0f218-a03f-4fd8-a43d-9e87d7f37e2c",
      "metadata": {
        "colab": {
          "base_uri": "https://localhost:8080/"
        },
        "id": "8ba0f218-a03f-4fd8-a43d-9e87d7f37e2c",
        "outputId": "8da298e4-0c92-4f57-e048-364a576027a2"
      },
      "outputs": [
        {
          "output_type": "execute_result",
          "data": {
            "text/plain": [
              "18"
            ]
          },
          "metadata": {},
          "execution_count": 68
        }
      ],
      "source": [
        "len(\"NTT Data Argentina\")"
      ]
    },
    {
      "cell_type": "markdown",
      "id": "a7f1ce32-21b2-4807-b712-bfb3576733d5",
      "metadata": {
        "id": "a7f1ce32-21b2-4807-b712-bfb3576733d5"
      },
      "source": [
        "**Hemos llegado al fin de este cuaderno, felicitaciones hemos aprendido operaciones básicas numéricas, cadenas de caracteres y hemos usado algunas funciones integradas de Python, ahora a seguir en el proximo cuaderno...** "
      ]
    },
    {
      "cell_type": "markdown",
      "id": "babfb035-7174-44d2-bb7f-c7314632bba9",
      "metadata": {
        "id": "babfb035-7174-44d2-bb7f-c7314632bba9"
      },
      "source": [
        "![nenunenu](https://emojipedia-us.s3.dualstack.us-west-1.amazonaws.com/thumbs/60/apple/124/smiling-face-with-smiling-eyes_1f60a.png)"
      ]
    }
  ],
  "metadata": {
    "kernelspec": {
      "display_name": "Python 3 (ipykernel)",
      "language": "python",
      "name": "python3"
    },
    "language_info": {
      "codemirror_mode": {
        "name": "ipython",
        "version": 3
      },
      "file_extension": ".py",
      "mimetype": "text/x-python",
      "name": "python",
      "nbconvert_exporter": "python",
      "pygments_lexer": "ipython3",
      "version": "3.10.2"
    },
    "colab": {
      "name": "py-01.ipynb",
      "provenance": [],
      "collapsed_sections": [
        "d854b63b-648a-4a0b-981a-40964634c748"
      ],
      "include_colab_link": true
    }
  },
  "nbformat": 4,
  "nbformat_minor": 5
}