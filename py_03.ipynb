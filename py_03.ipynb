{
  "cells": [
    {
      "cell_type": "markdown",
      "metadata": {
        "id": "view-in-github",
        "colab_type": "text"
      },
      "source": [
        "<a href=\"https://colab.research.google.com/github/cristiandarioortegayubro/UBS/blob/main/py_03.ipynb\" target=\"_parent\"><img src=\"https://colab.research.google.com/assets/colab-badge.svg\" alt=\"Open In Colab\"/></a>"
      ]
    },
    {
      "cell_type": "markdown",
      "id": "acbd9514",
      "metadata": {
        "id": "acbd9514"
      },
      "source": [
        "![UBS](https://github.com/cristiandarioortegayubro/UBS/blob/main/Logo%20UBS.jpeg?raw=true)"
      ]
    },
    {
      "cell_type": "markdown",
      "id": "49f579e7",
      "metadata": {
        "id": "49f579e7"
      },
      "source": [
        "![logo](https://www.python.org/static/community_logos/python-powered-w-100x40.png)"
      ]
    },
    {
      "cell_type": "markdown",
      "id": "afc1bec4-82b5-4b1e-8a1a-ef05538c0199",
      "metadata": {
        "id": "afc1bec4-82b5-4b1e-8a1a-ef05538c0199"
      },
      "source": [
        "## **Estructuras de control, funciones y módulos**"
      ]
    },
    {
      "cell_type": "markdown",
      "id": "cdf0ac99-772a-4fb8-8a30-98433a1ba4b0",
      "metadata": {
        "id": "cdf0ac99-772a-4fb8-8a30-98433a1ba4b0"
      },
      "source": [
        "### **Estructuras de control**"
      ]
    },
    {
      "cell_type": "markdown",
      "id": "eb33c029-7bd2-4f66-a581-34dec2cb6b72",
      "metadata": {
        "id": "eb33c029-7bd2-4f66-a581-34dec2cb6b72"
      },
      "source": [
        "**A veces se necesita hacer algo más de una vez...**"
      ]
    },
    {
      "cell_type": "markdown",
      "id": "4babb0af-ab41-47a5-a5e1-cbfb81f1b9af",
      "metadata": {
        "id": "4babb0af-ab41-47a5-a5e1-cbfb81f1b9af"
      },
      "source": [
        "#### **if - elif - else**"
      ]
    },
    {
      "cell_type": "markdown",
      "id": "46c88d0b-1f4f-42ed-b013-08f33c390e9b",
      "metadata": {
        "id": "46c88d0b-1f4f-42ed-b013-08f33c390e9b"
      },
      "source": [
        "**Las sentencia if, acompañada de ... elif ... else ... permiten condicionar la ejecución de uno o varios bloques de sentencias al cumplimiento de una o varias condiciones.**\n",
        "\n",
        "***Para una sola condición, se usa la estructura de control if...***"
      ]
    },
    {
      "cell_type": "code",
      "execution_count": null,
      "id": "a4277530-5fe8-4ffd-b3b0-8317d2a3564d",
      "metadata": {
        "id": "a4277530-5fe8-4ffd-b3b0-8317d2a3564d",
        "outputId": "42bce928-81d3-42e3-b499-686485bf812a"
      },
      "outputs": [
        {
          "name": "stdin",
          "output_type": "stream",
          "text": [
            "Escriba un número positivo:  -5\n"
          ]
        }
      ],
      "source": [
        "positivo = int(input(\"Escriba un número positivo: \"))"
      ]
    },
    {
      "cell_type": "code",
      "execution_count": null,
      "id": "62519978-3bce-4ccc-86cb-f2784713e70b",
      "metadata": {
        "id": "62519978-3bce-4ccc-86cb-f2784713e70b",
        "outputId": "1da2e179-d0ff-4989-fe39-f117dc50300b"
      },
      "outputs": [
        {
          "name": "stdout",
          "output_type": "stream",
          "text": [
            "No es un número positivo!\n",
            "El número es -5\n"
          ]
        }
      ],
      "source": [
        "if positivo < 0:\n",
        "    print(\"No es un número positivo!\")\n",
        "print(f\"El número es {positivo}\")"
      ]
    },
    {
      "cell_type": "markdown",
      "id": "cae180dd-6927-4901-a62e-d3cd7eb5268b",
      "metadata": {
        "id": "cae180dd-6927-4901-a62e-d3cd7eb5268b"
      },
      "source": [
        "**Los bloques de sentencias pertenecientes a la condición deben tener un espacio, lo que indica que están supeditadas al cumplimiento de la condición...**"
      ]
    },
    {
      "cell_type": "code",
      "execution_count": null,
      "id": "a3f08af2-842a-4a47-abd7-3c158b3a964b",
      "metadata": {
        "id": "a3f08af2-842a-4a47-abd7-3c158b3a964b",
        "outputId": "27c4f57a-ec42-416f-a237-72e0d9c89f81"
      },
      "outputs": [
        {
          "name": "stdout",
          "output_type": "stream",
          "text": [
            "No es un número positivo!\n",
            "El número es -5\n"
          ]
        }
      ],
      "source": [
        "if positivo < 0:\n",
        "    print(\"No es un número positivo!\")\n",
        "    print(f\"El número es {positivo}\")"
      ]
    },
    {
      "cell_type": "code",
      "execution_count": null,
      "id": "7d67a458-556c-4a54-a068-a83b0103a9fa",
      "metadata": {
        "id": "7d67a458-556c-4a54-a068-a83b0103a9fa",
        "outputId": "e1af46c8-01bd-4185-bc56-9805e8fb3f59"
      },
      "outputs": [
        {
          "name": "stdin",
          "output_type": "stream",
          "text": [
            "Escriba un número positivo:  10\n"
          ]
        }
      ],
      "source": [
        "positivo = int(input(\"Escriba un número positivo: \"))"
      ]
    },
    {
      "cell_type": "code",
      "execution_count": null,
      "id": "11d8bbf5-695f-40d8-ad51-83a59b60a268",
      "metadata": {
        "id": "11d8bbf5-695f-40d8-ad51-83a59b60a268",
        "outputId": "9f0c3948-5f48-48f0-e105-fef3c99a9467"
      },
      "outputs": [
        {
          "name": "stdout",
          "output_type": "stream",
          "text": [
            "El número es 10\n"
          ]
        }
      ],
      "source": [
        "if positivo < 0:\n",
        "    print(\"No es un número positivo!\")\n",
        "print(f\"El número es {positivo}\")"
      ]
    },
    {
      "cell_type": "code",
      "execution_count": null,
      "id": "fb89c2fe-e8bc-4f0d-a955-bbae71f8f3ba",
      "metadata": {
        "id": "fb89c2fe-e8bc-4f0d-a955-bbae71f8f3ba"
      },
      "outputs": [],
      "source": [
        "if positivo < 0:\n",
        "    print(\"No es un número positivo!\")\n",
        "    print(f\"El número es {positivo}\")"
      ]
    },
    {
      "cell_type": "markdown",
      "id": "6d6cead4-23a5-492c-9b66-4adb1121ddde",
      "metadata": {
        "id": "6d6cead4-23a5-492c-9b66-4adb1121ddde"
      },
      "source": [
        "***Por eso el resultado de la ejecución de este script es distinto del anterior...***"
      ]
    },
    {
      "cell_type": "markdown",
      "id": "a077d7c5-dbb4-4034-8ea2-1a5e2c7d9281",
      "metadata": {
        "id": "a077d7c5-dbb4-4034-8ea2-1a5e2c7d9281"
      },
      "source": [
        "**La sentencia if con la bifurcación else permite que se ejecute una instruccion cuando se cumple una condición, y que se ejecuten otras instrucciones cuando no se cumple esa condición.**\n",
        "\n",
        "***En inglés \"if\" significa \"si\" (condición) y \"else\" significa \"si no\".***\n",
        "***Entonces, para dos condiciones, se usa la estructura de control if y else...***"
      ]
    },
    {
      "cell_type": "code",
      "execution_count": null,
      "id": "cc1f8099-87a2-4f27-a049-7327f66df1bb",
      "metadata": {
        "id": "cc1f8099-87a2-4f27-a049-7327f66df1bb",
        "outputId": "f85834ae-fefc-43af-8c4e-979303b9037b"
      },
      "outputs": [
        {
          "name": "stdin",
          "output_type": "stream",
          "text": [
            "¿Cuántos años tiene?  15\n"
          ]
        },
        {
          "name": "stdout",
          "output_type": "stream",
          "text": [
            "Es menor de edad, no puede ser titular de una tarjeta de crédito\n",
            "¡Nos vemos!\n"
          ]
        }
      ],
      "source": [
        "edad = int(input(\"¿Cuántos años tiene? \"))\n",
        "if edad < 18:\n",
        "    print(\"Es menor de edad, no puede ser titular de una tarjeta de crédito\")\n",
        "else:\n",
        "    print(\"Es mayor de edad, usted puede ser titular de una tarjeta de crédito\")\n",
        "print(\"¡Nos vemos!\")"
      ]
    },
    {
      "cell_type": "markdown",
      "id": "92b8a10f-2868-436e-b5a3-c03fb63792f1",
      "metadata": {
        "id": "92b8a10f-2868-436e-b5a3-c03fb63792f1"
      },
      "source": [
        "**Otra forma de hacerlo...**"
      ]
    },
    {
      "cell_type": "code",
      "execution_count": null,
      "id": "a1d00779-4d1a-4ed5-a550-f930e96b46ae",
      "metadata": {
        "id": "a1d00779-4d1a-4ed5-a550-f930e96b46ae",
        "outputId": "22cf114e-957e-4ee5-8941-1d42aa2ce08e"
      },
      "outputs": [
        {
          "name": "stdin",
          "output_type": "stream",
          "text": [
            "¿Cuántos años tiene?  19\n"
          ]
        },
        {
          "name": "stdout",
          "output_type": "stream",
          "text": [
            "Es usted mayor de edad\n",
            "Puede ser titular de una tarjeta de crédito\n",
            "¡Nos vemos!\n"
          ]
        }
      ],
      "source": [
        "edad = int(input(\"¿Cuántos años tiene? \"))\n",
        "if edad < 18:\n",
        "    print(\"Es usted menor de edad\")\n",
        "    print(\"Recuerde que no tiene la edad poseer una tarjeta de crédito\")\n",
        "else:\n",
        "    print(\"Es usted mayor de edad\")\n",
        "    print(\"Puede ser titular de una tarjeta de crédito\")\n",
        "print(\"¡Nos vemos!\")"
      ]
    },
    {
      "cell_type": "markdown",
      "id": "27d9e0e7-43a5-4aef-a18d-5b9021767efb",
      "metadata": {
        "id": "27d9e0e7-43a5-4aef-a18d-5b9021767efb"
      },
      "source": [
        "**Ahora, presentamos a la morsa :=**\n",
        "\n",
        "~~~python\n",
        "nombre := expresion\n",
        "~~~\n",
        "\n",
        "**Normalmente una tarea y una prueba pueden tomar dos pasos...**"
      ]
    },
    {
      "cell_type": "code",
      "execution_count": null,
      "id": "f4e2af7e-3450-4aee-aa76-c3e6316f598d",
      "metadata": {
        "id": "f4e2af7e-3450-4aee-aa76-c3e6316f598d"
      },
      "outputs": [],
      "source": [
        "stockminino = 200\n",
        "stock = 50 * 5"
      ]
    },
    {
      "cell_type": "code",
      "execution_count": null,
      "id": "d71d0db5-82f7-4bbf-85cf-c1528bf58dca",
      "metadata": {
        "id": "d71d0db5-82f7-4bbf-85cf-c1528bf58dca",
        "outputId": "d7bbc291-d917-4ee2-ee4e-a2b95b450150"
      },
      "outputs": [
        {
          "data": {
            "text/plain": [
              "50"
            ]
          },
          "execution_count": 39,
          "metadata": {},
          "output_type": "execute_result"
        }
      ],
      "source": [
        "existencias = stock - stockminino\n",
        "existencias"
      ]
    },
    {
      "cell_type": "code",
      "execution_count": null,
      "id": "a74e5dc6-268d-404b-9111-d7ecd8faa006",
      "metadata": {
        "id": "a74e5dc6-268d-404b-9111-d7ecd8faa006",
        "outputId": "62e55876-c54c-4afe-bde4-e01fd12ca77d"
      },
      "outputs": [
        {
          "name": "stdout",
          "output_type": "stream",
          "text": [
            "Es hora de reponer existencias, tenemos que comprar 150 unidades\n"
          ]
        }
      ],
      "source": [
        "if existencias >= stockminino:\n",
        "    print(\"Estamos bien con las existencias, tenemos\", existencias, \"de más\")\n",
        "else:\n",
        "    print(\"Es hora de reponer existencias, tenemos que comprar\", stockminino - existencias, \"unidades\")"
      ]
    },
    {
      "cell_type": "markdown",
      "id": "4eb91ead-03b0-420a-b6b1-f2b41675aae7",
      "metadata": {
        "id": "4eb91ead-03b0-420a-b6b1-f2b41675aae7"
      },
      "source": [
        "**Con el nuevo poder de colmillo (también conocido como expresiones de asignación) se puede combinar en un solo paso las tareas y las pruebas:**"
      ]
    },
    {
      "cell_type": "code",
      "execution_count": null,
      "id": "fceedb78-b405-48b4-b7a5-f4432ea3f53c",
      "metadata": {
        "id": "fceedb78-b405-48b4-b7a5-f4432ea3f53c"
      },
      "outputs": [],
      "source": [
        "stockminino = 200\n",
        "stock = 50 * 5"
      ]
    },
    {
      "cell_type": "code",
      "execution_count": null,
      "id": "8f3cd382-ee22-4be7-a108-d24f63936b9b",
      "metadata": {
        "id": "8f3cd382-ee22-4be7-a108-d24f63936b9b",
        "outputId": "40c790ba-02a3-4adc-9a12-888e6fd87c5a"
      },
      "outputs": [
        {
          "name": "stdout",
          "output_type": "stream",
          "text": [
            "Es hora de reponer existencias, tenemos que comprar 150 unidades\n"
          ]
        }
      ],
      "source": [
        "if existencias := stock - stockminino >= stockminino:\n",
        "    print(\"Estamos bien con las existencias, tenemos\", stock - stockminino, \"de más\")\n",
        "else:\n",
        "    print(\"Es hora de reponer existencias, tenemos que comprar\", stockminino -((stock)-(stockminino)), \"unidades\")"
      ]
    },
    {
      "cell_type": "markdown",
      "id": "c794c761-0dd5-4efc-9f23-413fe514c751",
      "metadata": {
        "id": "c794c761-0dd5-4efc-9f23-413fe514c751"
      },
      "source": [
        "***Más de dos alternativas: if ... elif ... else ...***\n",
        "\n",
        "~~~python\n",
        "if condicion_1:\n",
        "     sentencia_1\n",
        "     \n",
        "elif condicion_2:\n",
        "     sentencia_2\n",
        "     \n",
        "else:\n",
        "     sentencia_3\n",
        "~~~\n",
        "\n",
        "- ***Si se cumple la condición 1, se ejecuta la sentencia 1***\n",
        "- ***Si no se cumple la condición 1 pero sí que se cumple la condición 2, se ejecuta la sentencia 2***\n",
        "- ***Si no se cumplen ni la condición 1 ni la condición 2, se ejecuta la sentencia 3.***\n",
        "\n",
        "***Entonces, para más de dos condiciones, se usa la estructura de control if, elif y else...***"
      ]
    },
    {
      "cell_type": "code",
      "execution_count": null,
      "id": "3865d512-8ea7-47d2-b85f-881aa4d9fc1b",
      "metadata": {
        "id": "3865d512-8ea7-47d2-b85f-881aa4d9fc1b",
        "outputId": "329e21c0-8aec-40a5-bc51-9ff3834d5c6d"
      },
      "outputs": [
        {
          "name": "stdin",
          "output_type": "stream",
          "text": [
            "Ingresar un número entero positivo o negativo, por favor:  7\n"
          ]
        },
        {
          "name": "stdout",
          "output_type": "stream",
          "text": [
            "El numero 7 ingresado es positivo\n"
          ]
        }
      ],
      "source": [
        "x = int(input(\"Ingresar un número entero positivo o negativo, por favor: \"))\n",
        "if x < 0:\n",
        "    print(f\"El numero {x} ingresado es negativo\") \n",
        "elif x == 0:\n",
        "    print(f\"El numero ingresado es cero\")\n",
        "else:\n",
        "    print(f\"El numero {x} ingresado es positivo\")"
      ]
    },
    {
      "cell_type": "markdown",
      "id": "2811359b-8dc9-473c-a893-9ff8987260e4",
      "metadata": {
        "id": "2811359b-8dc9-473c-a893-9ff8987260e4"
      },
      "source": [
        "**Otro ejemplo...**"
      ]
    },
    {
      "cell_type": "code",
      "execution_count": null,
      "id": "138642ff-5932-4676-8343-cee92e9c505f",
      "metadata": {
        "id": "138642ff-5932-4676-8343-cee92e9c505f",
        "outputId": "010bbbd5-4473-46c8-c973-fbd183ff3114"
      },
      "outputs": [
        {
          "name": "stdin",
          "output_type": "stream",
          "text": [
            "Ingresar un número del rango -5 al 5, por favor:  -3\n"
          ]
        },
        {
          "name": "stdout",
          "output_type": "stream",
          "text": [
            "tres negativo\n"
          ]
        }
      ],
      "source": [
        "x = int(input(\"Ingresar un número del rango -5 al 5, por favor: \"))\n",
        "if x == 0:\n",
        "    print(\"cero\")\n",
        "elif x == -3:\n",
        "    print(\"tres negativo\")\n",
        "elif x < 0:\n",
        "    print(\"valor negativo\")\n",
        "elif x == 3:\n",
        "    print(\"tres positivo\")\n",
        "else: \n",
        "    print(\"valor positivo\")"
      ]
    },
    {
      "cell_type": "markdown",
      "id": "0df392f7-1635-42da-aa33-514316af9f63",
      "metadata": {
        "id": "0df392f7-1635-42da-aa33-514316af9f63"
      },
      "source": [
        "#### **for**"
      ]
    },
    {
      "cell_type": "markdown",
      "id": "71b2ec2e-efa1-4b89-8ee4-994828e0c1c2",
      "metadata": {
        "id": "71b2ec2e-efa1-4b89-8ee4-994828e0c1c2"
      },
      "source": [
        "**En general, un bucle es una estructura de control que repite un bloque de instrucciones un número predeterrminado de veces.** \n",
        "\n",
        "**El bloque de instrucciones que se repite se suele llamar cuerpo del bucle y cada repetición se suele llamar iteración. La sintaxis es la siguiente:**\n",
        "\n",
        "~~~python\n",
        "for variable in elemento iterable (lista, cadena, range, etc.):\n",
        "    cuerpo bucle\n",
        "~~~"
      ]
    },
    {
      "cell_type": "code",
      "execution_count": null,
      "id": "fcec3ff0-0b15-4090-9cb4-33daa336f90e",
      "metadata": {
        "id": "fcec3ff0-0b15-4090-9cb4-33daa336f90e",
        "outputId": "89ef36f3-fedd-4f06-debc-1954f31edb19"
      },
      "outputs": [
        {
          "name": "stdout",
          "output_type": "stream",
          "text": [
            "Si el valor asignado a x es 3, entonces su cuadrado es 9\n",
            "Si el valor asignado a x es 14, entonces su cuadrado es 196\n",
            "Si el valor asignado a x es 15, entonces su cuadrado es 225\n",
            "Si el valor asignado a x es 56, entonces su cuadrado es 3136\n",
            "Si el valor asignado a x es 67, entonces su cuadrado es 4489\n"
          ]
        }
      ],
      "source": [
        "lista = [3, 14, 15, 56, 67]\n",
        "for x in lista:\n",
        "    print(f\"Si el valor asignado a x es {x}, entonces su cuadrado es {x ** 2}\")"
      ]
    },
    {
      "cell_type": "markdown",
      "id": "18a7c800-0d36-4d5e-a5eb-171a88b7aeb7",
      "metadata": {
        "id": "18a7c800-0d36-4d5e-a5eb-171a88b7aeb7"
      },
      "source": [
        "**Otro ejemplo...**"
      ]
    },
    {
      "cell_type": "code",
      "execution_count": null,
      "id": "6b6a1bf4-340c-480c-a157-362266e492ac",
      "metadata": {
        "id": "6b6a1bf4-340c-480c-a157-362266e492ac",
        "outputId": "6b5cbf2f-1154-4441-8259-15fd350d7811"
      },
      "outputs": [
        {
          "name": "stdout",
          "output_type": "stream",
          "text": [
            "1 x 1 = 1\n",
            "2 x 2 = 4\n",
            "3 x 3 = 9\n",
            "4 x 4 = 16\n",
            "5 x 5 = 25\n"
          ]
        }
      ],
      "source": [
        "lista = [1, 2, 3, 4, 5]\n",
        "for i in lista:\n",
        "    print(f\"{i} x {i} = {i ** 2}\")"
      ]
    },
    {
      "cell_type": "markdown",
      "id": "efa7979b-03a9-47f6-ac25-5a2e700914e4",
      "metadata": {
        "id": "efa7979b-03a9-47f6-ac25-5a2e700914e4"
      },
      "source": [
        "#### **while**"
      ]
    },
    {
      "cell_type": "markdown",
      "id": "a78de1bc-5449-4b9a-be7d-23e88b6c4ca8",
      "metadata": {
        "id": "a78de1bc-5449-4b9a-be7d-23e88b6c4ca8"
      },
      "source": [
        "**El mecanismo de bucle más simple en Python es while...**\n",
        "\n",
        "~~~python\n",
        "while condicion:\n",
        "    cuerpo bucle\n",
        "~~~\n",
        "\n",
        "**La ejecución de la estructura de control while es asi:**\n",
        "\n",
        "**Python evalúa la condición:**\n",
        "- ***si el resultado es Verdadero (True) se ejecuta el cuerpo del bucle. Una vez ejecutado el cuerpo del bucle, luego se repite el proceso (se evalúa de nuevo la condición y, si es cierta, se ejecuta de nuevo el cuerpo del bucle) una y otra vez mientras la condición sea cierta.***\n",
        "- ***si el resultado es Falso (False), el cuerpo del bucle no se ejecuta y continúa la ejecución del resto del script.***\n",
        "\n",
        "**La variable o las variables que aparezcan en la condición se llaman variables de control. Las variables de control deben definirse antes del bucle while y modificarse en el bucle while.**"
      ]
    },
    {
      "cell_type": "code",
      "execution_count": null,
      "id": "fdc55361-1319-45d1-b10f-bce5e9cccc25",
      "metadata": {
        "id": "fdc55361-1319-45d1-b10f-bce5e9cccc25",
        "outputId": "2fb1fbd5-09ea-4e5c-f4cc-8af56442ccd6"
      },
      "outputs": [
        {
          "name": "stdout",
          "output_type": "stream",
          "text": [
            "1\n",
            "2\n",
            "3\n",
            "4\n",
            "5\n"
          ]
        }
      ],
      "source": [
        "cuenta = 1\n",
        "while cuenta <= 5:\n",
        "    print(cuenta)\n",
        "    cuenta += 1"
      ]
    },
    {
      "cell_type": "code",
      "execution_count": null,
      "id": "509eb625-ba5c-4432-ad61-ebae6728e285",
      "metadata": {
        "id": "509eb625-ba5c-4432-ad61-ebae6728e285",
        "outputId": "38b8f044-fe75-4e5b-e3df-a5356a36ceef"
      },
      "outputs": [
        {
          "name": "stdout",
          "output_type": "stream",
          "text": [
            "Comienzo del bucle while\n",
            "1\n",
            "2\n",
            "3\n",
            "4\n",
            "5\n",
            "6\n",
            "7\n",
            "8\n",
            "9\n",
            "Bucle while finalizado\n"
          ]
        }
      ],
      "source": [
        "cuenta = 1\n",
        "print(\"Comienzo del bucle while\")\n",
        "while cuenta <= 9:\n",
        "    print(cuenta)\n",
        "    cuenta += 1\n",
        "print(\"Bucle while finalizado\")"
      ]
    },
    {
      "cell_type": "code",
      "execution_count": null,
      "id": "c71ca46f-9396-4788-8526-62d91bd29418",
      "metadata": {
        "id": "c71ca46f-9396-4788-8526-62d91bd29418",
        "outputId": "29dbaf92-49cc-4ae3-8fd6-9ff383119917"
      },
      "outputs": [
        {
          "name": "stdout",
          "output_type": "stream",
          "text": [
            "Comienzo del bucle while\n",
            "1\n",
            "4\n",
            "13\n",
            "40\n",
            "Bucle while finalizado\n"
          ]
        }
      ],
      "source": [
        "i = 1\n",
        "print(\"Comienzo del bucle while\")\n",
        "while i <= 60:\n",
        "  print(i)\n",
        "  i = 3 * i + 1\n",
        "print(\"Bucle while finalizado\")"
      ]
    },
    {
      "cell_type": "code",
      "execution_count": null,
      "id": "0833e3f4-a82b-4a6e-989a-eb2995a5786b",
      "metadata": {
        "id": "0833e3f4-a82b-4a6e-989a-eb2995a5786b",
        "outputId": "e718c635-7a2c-4a45-a701-61ef36c091c2"
      },
      "outputs": [
        {
          "name": "stdin",
          "output_type": "stream",
          "text": [
            "Escriba un número positivo:  -7\n"
          ]
        },
        {
          "name": "stdout",
          "output_type": "stream",
          "text": [
            "¡Ha escrito un número negativo! Inténtelo de nuevo\n"
          ]
        },
        {
          "name": "stdin",
          "output_type": "stream",
          "text": [
            "Escriba un número positivo:  9\n"
          ]
        },
        {
          "name": "stdout",
          "output_type": "stream",
          "text": [
            "Gracias\n"
          ]
        }
      ],
      "source": [
        "numero = int(input(\"Escriba un número positivo: \"))\n",
        "while numero < 0:\n",
        "  print(\"¡Ha escrito un número negativo! Inténtelo de nuevo\")\n",
        "  numero = int(input(\"Escriba un número positivo: \"))\n",
        "print(\"Gracias\")"
      ]
    },
    {
      "cell_type": "markdown",
      "id": "4025557c-9fcd-443f-af6a-ab79b3989260",
      "metadata": {
        "id": "4025557c-9fcd-443f-af6a-ab79b3989260"
      },
      "source": [
        "### **Operadores**"
      ]
    },
    {
      "cell_type": "markdown",
      "id": "20e7622c-09dc-4d85-9bb8-7b3e18b33bdb",
      "metadata": {
        "id": "20e7622c-09dc-4d85-9bb8-7b3e18b33bdb"
      },
      "source": [
        "+ **igualdad           ==**\n",
        "+ **desigualdad        !=**\n",
        "+ **menos que          <**\n",
        "+ **menor o igual que  <=**\n",
        "+ **mayor que          >**\n",
        "+ **mayor o igual que  >=**"
      ]
    },
    {
      "cell_type": "code",
      "execution_count": null,
      "id": "d35f708c-403c-4397-a3a8-f7a9398c3dc8",
      "metadata": {
        "id": "d35f708c-403c-4397-a3a8-f7a9398c3dc8"
      },
      "outputs": [],
      "source": [
        "x = 10"
      ]
    },
    {
      "cell_type": "code",
      "execution_count": null,
      "id": "8da05ea4-99a5-4ce4-9d29-eeea47f66d01",
      "metadata": {
        "id": "8da05ea4-99a5-4ce4-9d29-eeea47f66d01",
        "outputId": "fd62e872-9e15-4e3b-9e05-027e51f9696c"
      },
      "outputs": [
        {
          "data": {
            "text/plain": [
              "False"
            ]
          },
          "execution_count": 23,
          "metadata": {},
          "output_type": "execute_result"
        }
      ],
      "source": [
        "x == 7"
      ]
    },
    {
      "cell_type": "code",
      "execution_count": null,
      "id": "611e36da-7fee-40ae-b42d-7056516354f0",
      "metadata": {
        "id": "611e36da-7fee-40ae-b42d-7056516354f0",
        "outputId": "8e971125-c51a-4c95-e1ae-ef71610ea8e3"
      },
      "outputs": [
        {
          "data": {
            "text/plain": [
              "True"
            ]
          },
          "execution_count": 24,
          "metadata": {},
          "output_type": "execute_result"
        }
      ],
      "source": [
        "x == 10"
      ]
    },
    {
      "cell_type": "code",
      "execution_count": null,
      "id": "bda40115-c7e2-4010-b70c-e0911691ef12",
      "metadata": {
        "id": "bda40115-c7e2-4010-b70c-e0911691ef12",
        "outputId": "ff19a14b-d485-43d1-a12d-22880b33a6c7"
      },
      "outputs": [
        {
          "data": {
            "text/plain": [
              "True"
            ]
          },
          "execution_count": 25,
          "metadata": {},
          "output_type": "execute_result"
        }
      ],
      "source": [
        "x != 9"
      ]
    },
    {
      "cell_type": "code",
      "execution_count": null,
      "id": "5e48e183-c37f-41cd-be6c-2dc933f4b641",
      "metadata": {
        "id": "5e48e183-c37f-41cd-be6c-2dc933f4b641",
        "outputId": "9c07a71b-b995-4900-e838-90cd9305a158"
      },
      "outputs": [
        {
          "data": {
            "text/plain": [
              "True"
            ]
          },
          "execution_count": 26,
          "metadata": {},
          "output_type": "execute_result"
        }
      ],
      "source": [
        "9 < x"
      ]
    },
    {
      "cell_type": "code",
      "execution_count": null,
      "id": "f16354ef-e7b5-439f-9f90-6d7a57d98b0d",
      "metadata": {
        "id": "f16354ef-e7b5-439f-9f90-6d7a57d98b0d",
        "outputId": "0147990b-d001-4dff-a9f4-4d4ceed1a1e5"
      },
      "outputs": [
        {
          "data": {
            "text/plain": [
              "True"
            ]
          },
          "execution_count": 27,
          "metadata": {},
          "output_type": "execute_result"
        }
      ],
      "source": [
        "12 >= x"
      ]
    },
    {
      "cell_type": "markdown",
      "id": "bcaa6f86-ea4e-4352-be7c-87d6dc3a778c",
      "metadata": {
        "id": "bcaa6f86-ea4e-4352-be7c-87d6dc3a778c"
      },
      "source": [
        "### **Funciones**"
      ]
    },
    {
      "cell_type": "markdown",
      "id": "4584c0ed-8406-4a00-9ac3-a54e6a67f212",
      "metadata": {
        "id": "4584c0ed-8406-4a00-9ac3-a54e6a67f212"
      },
      "source": [
        "**El primer paso para la reutilización de código es la función: una función es entonces una pieza de código con nombre, separada de todas las demás. Una función puede tomar cualquier número y tipo de parámetros de entrada y devolver cualquier número y tipo de resultados de salida.**"
      ]
    },
    {
      "cell_type": "markdown",
      "id": "f608d339-c742-4156-80c4-dd0c6fecdf76",
      "metadata": {
        "id": "f608d339-c742-4156-80c4-dd0c6fecdf76"
      },
      "source": [
        "***Para definir una función, se debe escribir el nombre de la función y entre paréntesis los parámetros de la función y, por último, dos puntos. Los nombres de la función tienen las mismas reglas que los nombres de variables (deben comenzar con una letra y contener solo letras, o números).***"
      ]
    },
    {
      "cell_type": "code",
      "execution_count": null,
      "id": "7027fbe5-777b-4f57-b267-ac1882c0aeb9",
      "metadata": {
        "id": "7027fbe5-777b-4f57-b267-ac1882c0aeb9"
      },
      "outputs": [],
      "source": [
        "def potenciacuadrada(num):\n",
        "    return num ** 2"
      ]
    },
    {
      "cell_type": "markdown",
      "id": "c7144ba0-06c5-4e22-a854-5fb26c643e25",
      "metadata": {
        "id": "c7144ba0-06c5-4e22-a854-5fb26c643e25"
      },
      "source": [
        "**A esta función se llama simplemente escribiendo su nombre y paréntesis, el nombre que le pusimos fue potenciacuadrada**"
      ]
    },
    {
      "cell_type": "code",
      "execution_count": null,
      "id": "18f72673-dac4-4e7a-9541-a06d4466870b",
      "metadata": {
        "id": "18f72673-dac4-4e7a-9541-a06d4466870b",
        "outputId": "e67cdcf3-e429-4cae-fbf1-c5a3c778393b"
      },
      "outputs": [
        {
          "data": {
            "text/plain": [
              "9"
            ]
          },
          "execution_count": 45,
          "metadata": {},
          "output_type": "execute_result"
        }
      ],
      "source": [
        "potenciacuadrada(3)"
      ]
    },
    {
      "cell_type": "markdown",
      "id": "0fb78c20-8244-4f8f-a27f-1581fcdcbc87",
      "metadata": {
        "id": "0fb78c20-8244-4f8f-a27f-1581fcdcbc87"
      },
      "source": [
        "**Cuando se llama a una función, Python ejecuta el código dentro de su definición...**"
      ]
    },
    {
      "cell_type": "markdown",
      "id": "87f07ef9-f146-4955-a122-b2a7dfa53739",
      "metadata": {
        "id": "87f07ef9-f146-4955-a122-b2a7dfa53739"
      },
      "source": [
        "#### **Argumentos y parámetros**"
      ]
    },
    {
      "cell_type": "markdown",
      "id": "78f6ec62-c1ab-41a5-ade6-d482336265fe",
      "metadata": {
        "id": "78f6ec62-c1ab-41a5-ade6-d482336265fe"
      },
      "source": [
        "**Los valores que se pasan a la función cuando se llama se conocen como argumentos. Cuando se llama a una función con argumentos, los valores de esos argumentos se copian en sus parámetros correspondientes dentro de la función.**"
      ]
    },
    {
      "cell_type": "markdown",
      "id": "0f2d1134-ca0e-42a5-a52f-a3ee94890bdb",
      "metadata": {
        "id": "0f2d1134-ca0e-42a5-a52f-a3ee94890bdb"
      },
      "source": [
        "##### **Por posición**\n",
        "\n",
        "**Los argumentos de la función,  se reciben por orden en los parámetros definidos. Se dice por tanto que son argumentos por posición...**"
      ]
    },
    {
      "cell_type": "code",
      "execution_count": null,
      "id": "7247332b-a220-4a01-af88-f3ef375be4fb",
      "metadata": {
        "id": "7247332b-a220-4a01-af88-f3ef375be4fb"
      },
      "outputs": [],
      "source": [
        "def resta(a, b):\n",
        "    return a - b"
      ]
    },
    {
      "cell_type": "code",
      "execution_count": null,
      "id": "60d42006-8f83-442f-b232-2a54b7bda7f6",
      "metadata": {
        "id": "60d42006-8f83-442f-b232-2a54b7bda7f6",
        "outputId": "46111067-3b3c-4038-8da1-862a73a2029e"
      },
      "outputs": [
        {
          "data": {
            "text/plain": [
              "20"
            ]
          },
          "execution_count": 47,
          "metadata": {},
          "output_type": "execute_result"
        }
      ],
      "source": [
        "resta(100, 80)"
      ]
    },
    {
      "cell_type": "code",
      "execution_count": null,
      "id": "7e9fc126-bb43-4704-a5b2-9c50808b2a06",
      "metadata": {
        "id": "7e9fc126-bb43-4704-a5b2-9c50808b2a06",
        "outputId": "bfed69aa-ed26-485e-a211-c78a48975718"
      },
      "outputs": [
        {
          "data": {
            "text/plain": [
              "50"
            ]
          },
          "execution_count": 48,
          "metadata": {},
          "output_type": "execute_result"
        }
      ],
      "source": [
        "resta(500, 450)"
      ]
    },
    {
      "cell_type": "markdown",
      "id": "a3df5f80-92f2-4a79-b0ce-7166f834c910",
      "metadata": {
        "id": "a3df5f80-92f2-4a79-b0ce-7166f834c910"
      },
      "source": [
        "##### **Por nombre**\n",
        "\n",
        "**Es posible evadir el orden de los parámetros si se indica durante la llamada que valor tiene cada parámetro a partir de su nombre...**"
      ]
    },
    {
      "cell_type": "code",
      "execution_count": null,
      "id": "cc4105f3-f677-4f7d-a0e6-6a06a3b13555",
      "metadata": {
        "id": "cc4105f3-f677-4f7d-a0e6-6a06a3b13555"
      },
      "outputs": [],
      "source": [
        "def suma(a, b):\n",
        "    return a + b"
      ]
    },
    {
      "cell_type": "code",
      "execution_count": null,
      "id": "0606cb3b-4d76-4982-99ab-683b37a5e520",
      "metadata": {
        "id": "0606cb3b-4d76-4982-99ab-683b37a5e520",
        "outputId": "7ba18bb5-a95a-4e18-c3ab-9e0d3a0440dc"
      },
      "outputs": [
        {
          "data": {
            "text/plain": [
              "1450"
            ]
          },
          "execution_count": 50,
          "metadata": {},
          "output_type": "execute_result"
        }
      ],
      "source": [
        "suma(b=1000, a=450)"
      ]
    },
    {
      "cell_type": "code",
      "execution_count": null,
      "id": "feddf302-52c9-4fa7-b3e6-c7652d447b96",
      "metadata": {
        "id": "feddf302-52c9-4fa7-b3e6-c7652d447b96",
        "outputId": "b6b0f906-ad12-420f-ff2a-fea348e48317"
      },
      "outputs": [
        {
          "data": {
            "text/plain": [
              "600"
            ]
          },
          "execution_count": 51,
          "metadata": {},
          "output_type": "execute_result"
        }
      ],
      "source": [
        "suma(b=500, a=100)"
      ]
    },
    {
      "cell_type": "markdown",
      "id": "4bcd2492-366f-49b8-85fa-8bb06ccd439c",
      "metadata": {
        "id": "4bcd2492-366f-49b8-85fa-8bb06ccd439c"
      },
      "source": [
        "#### **Ejemplos**"
      ]
    },
    {
      "cell_type": "code",
      "execution_count": null,
      "id": "02141921-11c0-4ccf-bc28-2f2757e80969",
      "metadata": {
        "id": "02141921-11c0-4ccf-bc28-2f2757e80969"
      },
      "outputs": [],
      "source": [
        "color = \"rojo\""
      ]
    },
    {
      "cell_type": "code",
      "execution_count": null,
      "id": "12576cbf-0acb-49fb-83b5-29e4d56f0a6c",
      "metadata": {
        "id": "12576cbf-0acb-49fb-83b5-29e4d56f0a6c"
      },
      "outputs": [],
      "source": [
        "def semaforo(color):\n",
        "    if color == \"rojo\":\n",
        "        return \"No debo cruzar la calle.\"\n",
        "    elif color == \"verde\":\n",
        "        return \"Puedo cruzar la calle.\"\n",
        "    elif color == 'amarillo':\n",
        "        return \"Podría cruzar la calle, pero con precaución.\"\n",
        "    else:\n",
        "        return \"Ni idea que es esto \" + color +  \". ¿Seré daltónico?...\""
      ]
    },
    {
      "cell_type": "code",
      "execution_count": null,
      "id": "9ad6e3c3-14b6-4e97-a836-fccbd640e9ff",
      "metadata": {
        "id": "9ad6e3c3-14b6-4e97-a836-fccbd640e9ff",
        "outputId": "65cc0bdf-62ff-45ec-8980-1b9a66d8fda4"
      },
      "outputs": [
        {
          "data": {
            "text/plain": [
              "'No debo cruzar la calle.'"
            ]
          },
          "execution_count": 66,
          "metadata": {},
          "output_type": "execute_result"
        }
      ],
      "source": [
        "semaforo(color)"
      ]
    },
    {
      "cell_type": "code",
      "execution_count": null,
      "id": "a090f1a8-e5b8-4851-b564-34c4cbfff10a",
      "metadata": {
        "id": "a090f1a8-e5b8-4851-b564-34c4cbfff10a",
        "outputId": "3ec03bcc-c6c5-4f86-dd6a-a9c3e517de7d"
      },
      "outputs": [
        {
          "data": {
            "text/plain": [
              "'Ni idea que es esto azul. ¿Seré daltónico?...'"
            ]
          },
          "execution_count": 67,
          "metadata": {},
          "output_type": "execute_result"
        }
      ],
      "source": [
        "semaforo(\"azul\")"
      ]
    },
    {
      "cell_type": "code",
      "execution_count": null,
      "id": "3223f527-b176-4a4d-b2ea-992423ddeb5c",
      "metadata": {
        "id": "3223f527-b176-4a4d-b2ea-992423ddeb5c",
        "outputId": "dd7b4af5-a3f0-465d-b8f9-3e6de655f73b"
      },
      "outputs": [
        {
          "name": "stdout",
          "output_type": "stream",
          "text": [
            "No debo cruzar la calle.\n"
          ]
        }
      ],
      "source": [
        "comentario = semaforo(color)\n",
        "print(comentario)"
      ]
    },
    {
      "cell_type": "markdown",
      "id": "708f1f82-3953-4b01-b871-407bcf02dab6",
      "metadata": {
        "id": "708f1f82-3953-4b01-b871-407bcf02dab6"
      },
      "source": [
        "**La función hizo lo siguiente:**\n",
        "\n",
        "+ ***Asignó el valor de la variable color al parámetro color de la función semaforo.***\n",
        "+ ***Ejecutó la cadena lógica if -elif - else***\n",
        "+ ***Devuelve una cadena de caracteres.***"
      ]
    },
    {
      "cell_type": "markdown",
      "id": "971a6cb0-a07d-449a-89be-974742226673",
      "metadata": {
        "id": "971a6cb0-a07d-449a-89be-974742226673"
      },
      "source": [
        "### **None**"
      ]
    },
    {
      "cell_type": "markdown",
      "id": "58b40ba9-bdcd-4666-85ef-d9b8fe6790d9",
      "metadata": {
        "id": "58b40ba9-bdcd-4666-85ef-d9b8fe6790d9"
      },
      "source": [
        "***Tambien se puede usar el valor ninguno... None.***\n",
        "\n",
        "**None es un valor especial de Python que ocupa un lugar cuando no hay nada que decir. No es lo mismo que el valor booleano, aunque parece falso cuando se lo evalúa como booleano.**"
      ]
    },
    {
      "cell_type": "code",
      "execution_count": null,
      "id": "1b74f0ca-225d-4ba1-a22f-f6f617283661",
      "metadata": {
        "id": "1b74f0ca-225d-4ba1-a22f-f6f617283661"
      },
      "outputs": [],
      "source": [
        "nada = None"
      ]
    },
    {
      "cell_type": "code",
      "execution_count": null,
      "id": "8de4e08e-8deb-4701-9f28-c307730c76a1",
      "metadata": {
        "id": "8de4e08e-8deb-4701-9f28-c307730c76a1",
        "outputId": "061f68da-7234-42de-efec-6af2057159ab"
      },
      "outputs": [
        {
          "name": "stdout",
          "output_type": "stream",
          "text": [
            "Acá no hay nada\n"
          ]
        }
      ],
      "source": [
        "if nada:\n",
        "    print(\"Acá puede haber algo\")\n",
        "else:\n",
        "    print(\"Acá no hay nada\")"
      ]
    },
    {
      "cell_type": "markdown",
      "id": "f4ea01cb-9858-4199-81f4-5c85a25d39db",
      "metadata": {
        "id": "f4ea01cb-9858-4199-81f4-5c85a25d39db"
      },
      "source": [
        "**Tambien se lo podría hacer de esta forma:**"
      ]
    },
    {
      "cell_type": "code",
      "execution_count": null,
      "id": "05d2a2ab-4ac9-49da-b8a3-47a56e36db40",
      "metadata": {
        "id": "05d2a2ab-4ac9-49da-b8a3-47a56e36db40",
        "outputId": "c43a79d4-3d10-4ba4-aa56-e7272baa79b4"
      },
      "outputs": [
        {
          "name": "stdout",
          "output_type": "stream",
          "text": [
            "Acá no hay nada\n"
          ]
        }
      ],
      "source": [
        "if nada is None:\n",
        "     print(\"Acá no hay nada\")\n",
        "else:\n",
        "     print(\"Acá puede haber algo\")"
      ]
    },
    {
      "cell_type": "markdown",
      "id": "3417dead-da76-4e0d-876e-83caab0143cd",
      "metadata": {
        "id": "3417dead-da76-4e0d-876e-83caab0143cd"
      },
      "source": [
        "**Esto parece una distinción sutil, pero es importante en Python. Se debe poder distinguir un valor que falta de un valor vacío.**"
      ]
    },
    {
      "cell_type": "markdown",
      "id": "1242ffc3-27a6-4d1c-b785-01db3b22e182",
      "metadata": {
        "id": "1242ffc3-27a6-4d1c-b785-01db3b22e182"
      },
      "source": [
        "### **Módulos**"
      ]
    },
    {
      "cell_type": "markdown",
      "id": "efeea73d-dcc4-487b-aa41-0a83312a76ba",
      "metadata": {
        "id": "efeea73d-dcc4-487b-aa41-0a83312a76ba"
      },
      "source": [
        "**Un módulo es solo un archivo de cualquier código Python. A veces, la biblioteca estándar no tiene lo que se necesita, o no lo hace de la manera correcta. Hay todo un mundo de software Python de código abierto y de terceros...**"
      ]
    },
    {
      "cell_type": "markdown",
      "id": "de5f00cf-ca7d-458b-b6fd-579be694ebe1",
      "metadata": {
        "id": "de5f00cf-ca7d-458b-b6fd-579be694ebe1"
      },
      "source": [
        "https://pypi.org/"
      ]
    },
    {
      "cell_type": "code",
      "execution_count": null,
      "id": "25ee451d-dd1c-48e8-b3d7-bcaebfa72b6a",
      "metadata": {
        "id": "25ee451d-dd1c-48e8-b3d7-bcaebfa72b6a",
        "outputId": "dc3a2ce7-e7c3-4807-812f-ac174cc2b69f"
      },
      "outputs": [
        {
          "name": "stdout",
          "output_type": "stream",
          "text": [
            "The Zen of Python, by Tim Peters\n",
            "\n",
            "Beautiful is better than ugly.\n",
            "Explicit is better than implicit.\n",
            "Simple is better than complex.\n",
            "Complex is better than complicated.\n",
            "Flat is better than nested.\n",
            "Sparse is better than dense.\n",
            "Readability counts.\n",
            "Special cases aren't special enough to break the rules.\n",
            "Although practicality beats purity.\n",
            "Errors should never pass silently.\n",
            "Unless explicitly silenced.\n",
            "In the face of ambiguity, refuse the temptation to guess.\n",
            "There should be one-- and preferably only one --obvious way to do it.\n",
            "Although that way may not be obvious at first unless you're Dutch.\n",
            "Now is better than never.\n",
            "Although never is often better than *right* now.\n",
            "If the implementation is hard to explain, it's a bad idea.\n",
            "If the implementation is easy to explain, it may be a good idea.\n",
            "Namespaces are one honking great idea -- let's do more of those!\n"
          ]
        }
      ],
      "source": [
        "import this"
      ]
    },
    {
      "cell_type": "markdown",
      "id": "7ac951c5-b09d-449c-8ba4-ab4ccd88c3f2",
      "metadata": {
        "id": "7ac951c5-b09d-449c-8ba4-ab4ccd88c3f2"
      },
      "source": [
        "**Hemos llegado al fin de este cuaderno, felicitaciones hemos aprendido un poco más, ahora a seguir en el proximo cuaderno...** "
      ]
    },
    {
      "cell_type": "markdown",
      "id": "f3d425c5-617e-4b00-a335-dbf5f6ef257f",
      "metadata": {
        "id": "f3d425c5-617e-4b00-a335-dbf5f6ef257f"
      },
      "source": [
        "![nenunenu](https://emojipedia-us.s3.dualstack.us-west-1.amazonaws.com/thumbs/60/apple/124/smiling-face-with-smiling-eyes_1f60a.png)"
      ]
    }
  ],
  "metadata": {
    "kernelspec": {
      "display_name": "Python 3 (ipykernel)",
      "language": "python",
      "name": "python3"
    },
    "language_info": {
      "codemirror_mode": {
        "name": "ipython",
        "version": 3
      },
      "file_extension": ".py",
      "mimetype": "text/x-python",
      "name": "python",
      "nbconvert_exporter": "python",
      "pygments_lexer": "ipython3",
      "version": "3.10.2"
    },
    "toc-autonumbering": false,
    "toc-showmarkdowntxt": false,
    "colab": {
      "name": "py-03.ipynb",
      "provenance": [],
      "collapsed_sections": [],
      "include_colab_link": true
    }
  },
  "nbformat": 4,
  "nbformat_minor": 5
}