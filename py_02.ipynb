{
  "cells": [
    {
      "cell_type": "markdown",
      "metadata": {
        "id": "view-in-github",
        "colab_type": "text"
      },
      "source": [
        "<a href=\"https://colab.research.google.com/github/cristiandarioortegayubro/UBS/blob/main/py_02.ipynb\" target=\"_parent\"><img src=\"https://colab.research.google.com/assets/colab-badge.svg\" alt=\"Open In Colab\"/></a>"
      ]
    },
    {
      "cell_type": "markdown",
      "id": "acbd9514",
      "metadata": {
        "id": "acbd9514"
      },
      "source": [
        "![UBS](https://github.com/cristiandarioortegayubro/UBS/blob/main/Logo%20UBS.jpeg?raw=true)"
      ]
    },
    {
      "cell_type": "markdown",
      "id": "49f579e7",
      "metadata": {
        "id": "49f579e7"
      },
      "source": [
        "![logo](https://www.python.org/static/community_logos/python-powered-w-100x40.png)"
      ]
    },
    {
      "cell_type": "markdown",
      "id": "6e754985-cdd9-4a64-9d7f-fcfbfa78abef",
      "metadata": {
        "id": "6e754985-cdd9-4a64-9d7f-fcfbfa78abef"
      },
      "source": [
        "## **Creación y asignación de variables, y tipos de datos**"
      ]
    },
    {
      "cell_type": "markdown",
      "id": "0704d660-cd44-4b7e-918d-65a4633e915e",
      "metadata": {
        "id": "0704d660-cd44-4b7e-918d-65a4633e915e"
      },
      "source": [
        "### **Variables**"
      ]
    },
    {
      "cell_type": "markdown",
      "id": "bb7917f8-9206-4d4d-bbd9-d5319cfde855",
      "metadata": {
        "id": "bb7917f8-9206-4d4d-bbd9-d5319cfde855"
      },
      "source": [
        "**El concepto \"variable\" proviene de las matemáticas. En matemáticas, una variable es un símbolo que forma parte de una expresión, una operación o de una fórmula. Normalmente las variables se representan mediante letras del alfabeto latino ( $x, y, z, n, i, j,$ etc.). Dependiendo del contexto en que se usen, las variables significan cosas distintas, por ejemplo:**"
      ]
    },
    {
      "cell_type": "markdown",
      "id": "e83db8dc-369e-417f-aba4-ce0955a6ca3c",
      "metadata": {
        "id": "e83db8dc-369e-417f-aba4-ce0955a6ca3c"
      },
      "source": [
        "- En el caso del álgebra, una variable representa una cantidad desconocida que se relaciona con otras y que en algunos casos podemos averiguar:\n",
        "\n",
        "$$x+3=5$$"
      ]
    },
    {
      "cell_type": "markdown",
      "id": "0a4583d9-59be-444c-a61c-8e56a2bfa862",
      "metadata": {
        "id": "0a4583d9-59be-444c-a61c-8e56a2bfa862"
      },
      "source": [
        "- En el caso del análisis matemático, una variable no representa una cantidad determinada, sino que representa todo un conjunto de valores:\n",
        "\n",
        "$$ y = x+1$$"
      ]
    },
    {
      "cell_type": "markdown",
      "id": "3c4e9170",
      "metadata": {
        "id": "3c4e9170"
      },
      "source": [
        "### **Creación y asignación de variables**"
      ]
    },
    {
      "cell_type": "markdown",
      "id": "317cded4-e923-4b35-a7c7-2f1346d36d50",
      "metadata": {
        "id": "317cded4-e923-4b35-a7c7-2f1346d36d50"
      },
      "source": [
        "**En Programación también existe el concepto de \"variable\", parecido pero no idéntico al concepto matemático.**"
      ]
    },
    {
      "cell_type": "code",
      "execution_count": null,
      "id": "10aff9f8-3837-4f22-bf89-023c9984c4e7",
      "metadata": {
        "id": "10aff9f8-3837-4f22-bf89-023c9984c4e7"
      },
      "outputs": [],
      "source": [
        "a = 2"
      ]
    },
    {
      "cell_type": "markdown",
      "id": "db55cf9c-f271-46e0-a27f-e9f168e8a36b",
      "metadata": {
        "id": "db55cf9c-f271-46e0-a27f-e9f168e8a36b"
      },
      "source": [
        "**El símbolo $=$ hay que entenderlo como una asignación, no como una igualdad matemática. En Python las variables son \"etiquetas\" que permiten hacer referencia a los datos (que se guardan en unas \"cajas\" llamadas objetos), ya que Python es un lenguaje de programación orientado a objetos y su modelo de datos también está basado en objetos.**"
      ]
    },
    {
      "cell_type": "markdown",
      "id": "dbd8f260-4bba-4fa6-bad1-ad6e0b5247a0",
      "metadata": {
        "id": "dbd8f260-4bba-4fa6-bad1-ad6e0b5247a0"
      },
      "source": [
        "**Para cada dato que aparece en un script, Python crea un objeto que lo contiene. Cada objeto tiene:**\n",
        "\n",
        "- ***Un identificador único (un número entero distinto para cada objeto). El identificador permite referirse al objeto sin ambigüedades.***\n",
        "- ***Un tipo de dato (entero, decimal, cadena de caracteres, etc.). El tipo de datos permite saber qué operaciones pueden hacerse con el dato.***\n",
        "- ***Un valor (el propio dato).***\n",
        "\n",
        "**Así, las variables en Python no guardan los datos, sino que son simples nombres para poder hacer referencia a esos objetos. Los nombres de las variables no pueden espacios en blanco.**"
      ]
    },
    {
      "cell_type": "markdown",
      "id": "750850af-92ad-4ed2-8462-438ff2f48b4e",
      "metadata": {
        "id": "750850af-92ad-4ed2-8462-438ff2f48b4e"
      },
      "source": [
        "- **Un indentificador...**"
      ]
    },
    {
      "cell_type": "code",
      "execution_count": null,
      "id": "8e0a1627-19f9-4f4f-9d41-2c4785043bf4",
      "metadata": {
        "colab": {
          "base_uri": "https://localhost:8080/"
        },
        "id": "8e0a1627-19f9-4f4f-9d41-2c4785043bf4",
        "outputId": "d3218824-aee1-4fb0-87dc-ee6aa8b7fdac"
      },
      "outputs": [
        {
          "output_type": "execute_result",
          "data": {
            "text/plain": [
              "140199648551600"
            ]
          },
          "metadata": {},
          "execution_count": 2
        }
      ],
      "source": [
        "id(\"Python\")"
      ]
    },
    {
      "cell_type": "code",
      "execution_count": null,
      "id": "31ea980b-7150-4cbf-8cbf-a988212027e8",
      "metadata": {
        "colab": {
          "base_uri": "https://localhost:8080/"
        },
        "id": "31ea980b-7150-4cbf-8cbf-a988212027e8",
        "outputId": "e54d8a6e-d513-4683-a114-f57d66574fea"
      },
      "outputs": [
        {
          "output_type": "execute_result",
          "data": {
            "text/plain": [
              "94507481031392"
            ]
          },
          "metadata": {},
          "execution_count": 3
        }
      ],
      "source": [
        "id(200)"
      ]
    },
    {
      "cell_type": "code",
      "execution_count": null,
      "id": "81480701-ade7-456e-bcf8-256fd742f2b2",
      "metadata": {
        "colab": {
          "base_uri": "https://localhost:8080/"
        },
        "id": "81480701-ade7-456e-bcf8-256fd742f2b2",
        "outputId": "b7364046-3126-439a-961e-33bb671521d6"
      },
      "outputs": [
        {
          "output_type": "execute_result",
          "data": {
            "text/plain": [
              "94507481031392"
            ]
          },
          "metadata": {},
          "execution_count": 4
        }
      ],
      "source": [
        "a = 200\n",
        "id(a)"
      ]
    },
    {
      "cell_type": "markdown",
      "id": "e4c38ba6-e839-4f1f-a412-23b6a5f0c921",
      "metadata": {
        "id": "e4c38ba6-e839-4f1f-a412-23b6a5f0c921"
      },
      "source": [
        "+ **Un tipo de dato...**"
      ]
    },
    {
      "cell_type": "code",
      "execution_count": null,
      "id": "845eeb0c-4372-498d-8475-6d0568aea249",
      "metadata": {
        "colab": {
          "base_uri": "https://localhost:8080/"
        },
        "id": "845eeb0c-4372-498d-8475-6d0568aea249",
        "outputId": "e5c3c1f0-898c-4a60-9e41-c2869c77fbd0"
      },
      "outputs": [
        {
          "output_type": "execute_result",
          "data": {
            "text/plain": [
              "bool"
            ]
          },
          "metadata": {},
          "execution_count": 5
        }
      ],
      "source": [
        "type(True)"
      ]
    },
    {
      "cell_type": "code",
      "execution_count": null,
      "id": "babf0ccb-5973-4aaa-8715-f90affdb7181",
      "metadata": {
        "colab": {
          "base_uri": "https://localhost:8080/"
        },
        "id": "babf0ccb-5973-4aaa-8715-f90affdb7181",
        "outputId": "7679d132-3b4c-4c30-c1fb-7048a5d94dfa"
      },
      "outputs": [
        {
          "output_type": "execute_result",
          "data": {
            "text/plain": [
              "str"
            ]
          },
          "metadata": {},
          "execution_count": 6
        }
      ],
      "source": [
        "type(\"Python\")"
      ]
    },
    {
      "cell_type": "code",
      "execution_count": null,
      "id": "5c970379-d873-4bf0-805b-db2d192ae9ec",
      "metadata": {
        "colab": {
          "base_uri": "https://localhost:8080/"
        },
        "id": "5c970379-d873-4bf0-805b-db2d192ae9ec",
        "outputId": "25053587-a984-489a-9e24-ef760bc49e8a"
      },
      "outputs": [
        {
          "output_type": "execute_result",
          "data": {
            "text/plain": [
              "int"
            ]
          },
          "metadata": {},
          "execution_count": 7
        }
      ],
      "source": [
        "type(2022)"
      ]
    },
    {
      "cell_type": "code",
      "execution_count": null,
      "id": "0a85f658-a54a-4071-9fae-af53b7eecedd",
      "metadata": {
        "colab": {
          "base_uri": "https://localhost:8080/"
        },
        "id": "0a85f658-a54a-4071-9fae-af53b7eecedd",
        "outputId": "95cd2c8e-90f3-4134-c1ba-335bfc083eda"
      },
      "outputs": [
        {
          "output_type": "execute_result",
          "data": {
            "text/plain": [
              "float"
            ]
          },
          "metadata": {},
          "execution_count": 8
        }
      ],
      "source": [
        "type(3.14)"
      ]
    },
    {
      "cell_type": "code",
      "execution_count": null,
      "id": "38086b90-a493-4531-9c0b-6b9ff410d623",
      "metadata": {
        "colab": {
          "base_uri": "https://localhost:8080/"
        },
        "id": "38086b90-a493-4531-9c0b-6b9ff410d623",
        "outputId": "3d7add81-8a4c-430f-8a54-c2e9e0b46958"
      },
      "outputs": [
        {
          "output_type": "execute_result",
          "data": {
            "text/plain": [
              "complex"
            ]
          },
          "metadata": {},
          "execution_count": 9
        }
      ],
      "source": [
        "type(3j)"
      ]
    },
    {
      "cell_type": "markdown",
      "id": "55292932-636f-4ac0-811f-9404ba5f2209",
      "metadata": {
        "id": "55292932-636f-4ac0-811f-9404ba5f2209"
      },
      "source": [
        "**Por otro lado, en Python se distingue entre objetos mutables y objetos inmutables:**\n",
        "\n",
        "- *Los objetos inmutables son objetos que no se pueden modificar. Por ejemplo, los números, las cadenas y las tuplas son objetos inmutables.*\n",
        "- *Los objetos mutables son objetos que se pueden modificar. Por ejemplo, las listas y los diccionarios son objetos mutables.*"
      ]
    },
    {
      "cell_type": "markdown",
      "id": "17de6ac0-8a45-4847-97df-3381715014cc",
      "metadata": {
        "id": "17de6ac0-8a45-4847-97df-3381715014cc"
      },
      "source": [
        "#### **Variables numéricas**"
      ]
    },
    {
      "cell_type": "code",
      "execution_count": null,
      "id": "ecd65f93-c48d-42d9-993f-685adbb6b973",
      "metadata": {
        "id": "ecd65f93-c48d-42d9-993f-685adbb6b973"
      },
      "outputs": [],
      "source": [
        "num1 = 900\n",
        "num2 = 450"
      ]
    },
    {
      "cell_type": "markdown",
      "id": "8c3c46b3-ce89-4f09-a03d-fc0b01c0af53",
      "metadata": {
        "id": "8c3c46b3-ce89-4f09-a03d-fc0b01c0af53"
      },
      "source": [
        "***A las variables num1 y num2 se les asigna un valor numérico. Luego se pueden realizar operaciones matemáticas directamente con las variables...***"
      ]
    },
    {
      "cell_type": "code",
      "execution_count": null,
      "id": "cf63a5cf-8677-4dae-93c5-3ea2640fd2ee",
      "metadata": {
        "colab": {
          "base_uri": "https://localhost:8080/"
        },
        "id": "cf63a5cf-8677-4dae-93c5-3ea2640fd2ee",
        "outputId": "a0a56706-b8b0-4fae-ea17-b474a72eae03"
      },
      "outputs": [
        {
          "output_type": "execute_result",
          "data": {
            "text/plain": [
              "1350"
            ]
          },
          "metadata": {},
          "execution_count": 11
        }
      ],
      "source": [
        "num1 + num2"
      ]
    },
    {
      "cell_type": "markdown",
      "id": "efb246d2-e4d9-455e-8115-f5a84c0e0efa",
      "metadata": {
        "id": "efb246d2-e4d9-455e-8115-f5a84c0e0efa"
      },
      "source": [
        "***Tambien se le puede asignar a una nueva variable, en este caso num3, una determinada operación matemática, y luego \"llamar\" esa variable.***"
      ]
    },
    {
      "cell_type": "code",
      "execution_count": null,
      "id": "b7060ca1-ccb4-4634-bd63-765701412635",
      "metadata": {
        "colab": {
          "base_uri": "https://localhost:8080/"
        },
        "id": "b7060ca1-ccb4-4634-bd63-765701412635",
        "outputId": "da882a5e-2e04-48ca-9c3d-c1eb092fe4e2"
      },
      "outputs": [
        {
          "output_type": "execute_result",
          "data": {
            "text/plain": [
              "1350"
            ]
          },
          "metadata": {},
          "execution_count": 12
        }
      ],
      "source": [
        "num3 = num1 + num2\n",
        "num3"
      ]
    },
    {
      "cell_type": "code",
      "execution_count": null,
      "id": "70f4bcb7-9a8d-4566-b8d2-793f69b5d62c",
      "metadata": {
        "colab": {
          "base_uri": "https://localhost:8080/"
        },
        "id": "70f4bcb7-9a8d-4566-b8d2-793f69b5d62c",
        "outputId": "1cd1bbea-a7a8-4296-e7c8-528e8b6566b2"
      },
      "outputs": [
        {
          "output_type": "execute_result",
          "data": {
            "text/plain": [
              "1350"
            ]
          },
          "metadata": {},
          "execution_count": 13
        }
      ],
      "source": [
        "num3"
      ]
    },
    {
      "cell_type": "markdown",
      "id": "acd77fca-9f28-44ff-bfa2-506e3a662f52",
      "metadata": {
        "id": "acd77fca-9f28-44ff-bfa2-506e3a662f52"
      },
      "source": [
        "***Si el impuesto al valor agregado es el $21$% y se quiere calcular el impuesto resultante de un producto y luego adicionar al precio el impuesto para llegar al valor que el consumidor final termina pagando, entonces:***"
      ]
    },
    {
      "cell_type": "code",
      "execution_count": null,
      "id": "8708f124-995a-4538-9ef4-9396848a0cc7",
      "metadata": {
        "id": "8708f124-995a-4538-9ef4-9396848a0cc7"
      },
      "outputs": [],
      "source": [
        "iva = 21 / 100"
      ]
    },
    {
      "cell_type": "code",
      "execution_count": null,
      "id": "f8813ad5",
      "metadata": {
        "colab": {
          "base_uri": "https://localhost:8080/"
        },
        "id": "f8813ad5",
        "outputId": "281b526c-11a8-45cf-f7e5-afb59d8c6847"
      },
      "outputs": [
        {
          "output_type": "execute_result",
          "data": {
            "text/plain": [
              "60j"
            ]
          },
          "metadata": {},
          "execution_count": 15
        }
      ],
      "source": [
        "20j * 3"
      ]
    },
    {
      "cell_type": "code",
      "execution_count": null,
      "id": "6ce8f33f-38f5-452e-82c8-cbb91cc829a0",
      "metadata": {
        "id": "6ce8f33f-38f5-452e-82c8-cbb91cc829a0"
      },
      "outputs": [],
      "source": [
        "precio = 2000"
      ]
    },
    {
      "cell_type": "code",
      "execution_count": null,
      "id": "e49ac74e-8632-435e-bf9e-496ec876d5d5",
      "metadata": {
        "colab": {
          "base_uri": "https://localhost:8080/"
        },
        "id": "e49ac74e-8632-435e-bf9e-496ec876d5d5",
        "outputId": "9d1a1244-1167-484d-8d0e-feb0027cc67f"
      },
      "outputs": [
        {
          "output_type": "execute_result",
          "data": {
            "text/plain": [
              "420.0"
            ]
          },
          "metadata": {},
          "execution_count": 17
        }
      ],
      "source": [
        "precio * iva"
      ]
    },
    {
      "cell_type": "code",
      "execution_count": null,
      "id": "8a1432f2-ff72-4c3f-9648-41d2c0ccedc0",
      "metadata": {
        "id": "8a1432f2-ff72-4c3f-9648-41d2c0ccedc0"
      },
      "outputs": [],
      "source": [
        "impuesto = precio * iva"
      ]
    },
    {
      "cell_type": "markdown",
      "id": "6288b143",
      "metadata": {
        "id": "6288b143"
      },
      "source": [
        "***Ahora bien, en el caso de las divisiones de números enteros o números decimales, el resultado siempre será un número decimal. Cuando la operación sea de un número complejo, el resultado no será decimal, a menos que el número complejo tenga decimal.***"
      ]
    },
    {
      "cell_type": "code",
      "execution_count": null,
      "id": "84763625-ace4-46d4-8987-4a63898ac14d",
      "metadata": {
        "colab": {
          "base_uri": "https://localhost:8080/"
        },
        "id": "84763625-ace4-46d4-8987-4a63898ac14d",
        "outputId": "ebf688a5-bd7e-41ca-e4d5-722c662e1e8a"
      },
      "outputs": [
        {
          "output_type": "execute_result",
          "data": {
            "text/plain": [
              "420.0"
            ]
          },
          "metadata": {},
          "execution_count": 19
        }
      ],
      "source": [
        "impuesto"
      ]
    },
    {
      "cell_type": "code",
      "execution_count": null,
      "id": "c5ed3a21-c55c-417e-b06d-692f7bf265c5",
      "metadata": {
        "colab": {
          "base_uri": "https://localhost:8080/"
        },
        "id": "c5ed3a21-c55c-417e-b06d-692f7bf265c5",
        "outputId": "c936dd9c-b7e4-4f95-def5-973b3fc579c0"
      },
      "outputs": [
        {
          "output_type": "execute_result",
          "data": {
            "text/plain": [
              "2420.0"
            ]
          },
          "metadata": {},
          "execution_count": 20
        }
      ],
      "source": [
        "precio_con_iva = precio + impuesto\n",
        "precio_con_iva"
      ]
    },
    {
      "cell_type": "markdown",
      "id": "07db3fba-a4f7-4b74-8d7e-ef96642efe6a",
      "metadata": {
        "id": "07db3fba-a4f7-4b74-8d7e-ef96642efe6a"
      },
      "source": [
        "**Resuelto de otra forma...**"
      ]
    },
    {
      "cell_type": "code",
      "execution_count": null,
      "id": "8b53d0bd-4788-4b49-a23c-f1385014d016",
      "metadata": {
        "colab": {
          "base_uri": "https://localhost:8080/"
        },
        "id": "8b53d0bd-4788-4b49-a23c-f1385014d016",
        "outputId": "31520b09-8e31-426d-972f-b8fe9eefcaa1"
      },
      "outputs": [
        {
          "output_type": "execute_result",
          "data": {
            "text/plain": [
              "420.0"
            ]
          },
          "metadata": {},
          "execution_count": 21
        }
      ],
      "source": [
        "iva = 21 / 100\n",
        "precio = 2000\n",
        "precio * iva"
      ]
    },
    {
      "cell_type": "code",
      "execution_count": null,
      "id": "79c6866e-0f9f-45ce-af3b-36e74cad9508",
      "metadata": {
        "colab": {
          "base_uri": "https://localhost:8080/"
        },
        "id": "79c6866e-0f9f-45ce-af3b-36e74cad9508",
        "outputId": "fb3758a4-6e56-4ca5-c673-b00a995c8c20"
      },
      "outputs": [
        {
          "output_type": "execute_result",
          "data": {
            "text/plain": [
              "2420.0"
            ]
          },
          "metadata": {},
          "execution_count": 22
        }
      ],
      "source": [
        "precio + _"
      ]
    },
    {
      "cell_type": "markdown",
      "id": "f3dded36-4bff-4804-8cb3-37d833f387d2",
      "metadata": {
        "id": "f3dded36-4bff-4804-8cb3-37d833f387d2"
      },
      "source": [
        "**¿Qué tipo de datos tiene la variable num1?... ¿y la variable iva?...**"
      ]
    },
    {
      "cell_type": "code",
      "execution_count": null,
      "id": "f703d8c1-98a8-4203-baa8-9de2ab548baf",
      "metadata": {
        "colab": {
          "base_uri": "https://localhost:8080/"
        },
        "id": "f703d8c1-98a8-4203-baa8-9de2ab548baf",
        "outputId": "22d31f92-3bec-467c-ab91-5d029eeb7d84"
      },
      "outputs": [
        {
          "output_type": "execute_result",
          "data": {
            "text/plain": [
              "int"
            ]
          },
          "metadata": {},
          "execution_count": 23
        }
      ],
      "source": [
        "type(num1)"
      ]
    },
    {
      "cell_type": "markdown",
      "id": "24f54e06-2414-4fa8-93ea-f41480e59fa0",
      "metadata": {
        "id": "24f54e06-2414-4fa8-93ea-f41480e59fa0"
      },
      "source": [
        "*num1 es entero*"
      ]
    },
    {
      "cell_type": "code",
      "execution_count": null,
      "id": "ec8570ac-4474-466f-8421-ab6d9742b460",
      "metadata": {
        "colab": {
          "base_uri": "https://localhost:8080/"
        },
        "id": "ec8570ac-4474-466f-8421-ab6d9742b460",
        "outputId": "a26d0de9-0eea-49bc-af22-7bff96459e6a"
      },
      "outputs": [
        {
          "output_type": "execute_result",
          "data": {
            "text/plain": [
              "float"
            ]
          },
          "metadata": {},
          "execution_count": 24
        }
      ],
      "source": [
        "type(iva)"
      ]
    },
    {
      "cell_type": "markdown",
      "id": "0535c80d-2e68-41f3-8f8e-98e891c3928a",
      "metadata": {
        "id": "0535c80d-2e68-41f3-8f8e-98e891c3928a"
      },
      "source": [
        "*iva es decimal*"
      ]
    },
    {
      "cell_type": "markdown",
      "id": "8d292749-cffe-4388-a943-62f94a11fd84",
      "metadata": {
        "id": "8d292749-cffe-4388-a943-62f94a11fd84"
      },
      "source": [
        "#### **Variables de texto**"
      ]
    },
    {
      "cell_type": "markdown",
      "id": "9c5def8c-ace9-4850-b49a-f1818ca87b29",
      "metadata": {
        "id": "9c5def8c-ace9-4850-b49a-f1818ca87b29"
      },
      "source": [
        "**Las cadenas de caracteres deben estar entre comillas simples o comillas dobles. Para esta versión de Python es indistinto si se utilizan las comillas simples o las comillas dobles. Lo que no puede hacerse es en la misma cadena de caracteres usar distintas comillas, la simple y la doble.**"
      ]
    },
    {
      "cell_type": "code",
      "execution_count": null,
      "id": "9890d3c9-85f0-444e-8495-34233325df06",
      "metadata": {
        "id": "9890d3c9-85f0-444e-8495-34233325df06"
      },
      "outputs": [],
      "source": [
        "texto1 = \"Python for Data Analysis \"\n",
        "texto2 = 'First Edition'"
      ]
    },
    {
      "cell_type": "code",
      "execution_count": null,
      "id": "459325d4-0e0e-4843-8cdb-28d818592e0b",
      "metadata": {
        "colab": {
          "base_uri": "https://localhost:8080/"
        },
        "id": "459325d4-0e0e-4843-8cdb-28d818592e0b",
        "outputId": "258ee649-7119-4335-987d-ef3c80b9a5d0"
      },
      "outputs": [
        {
          "output_type": "stream",
          "name": "stdout",
          "text": [
            "Python for Data Analysis \n",
            "First Edition\n"
          ]
        }
      ],
      "source": [
        "print(texto1)\n",
        "print(texto2)"
      ]
    },
    {
      "cell_type": "markdown",
      "id": "26a77e82-41ce-49a0-9335-addeedc2634c",
      "metadata": {
        "id": "26a77e82-41ce-49a0-9335-addeedc2634c"
      },
      "source": [
        "**Pero puede resultar que en nuestra cadenas de caracteres se necesiten las comillas, en ese caso se pueden usar primero las comillas simples (para indicar cadena de caracteres) y luego las comillas dobles (en el texto que queremos con comillas).**"
      ]
    },
    {
      "cell_type": "code",
      "execution_count": null,
      "id": "367a6004",
      "metadata": {
        "colab": {
          "base_uri": "https://localhost:8080/"
        },
        "id": "367a6004",
        "outputId": "7da84ceb-a02a-423b-8fe6-6e1c53c40eab"
      },
      "outputs": [
        {
          "output_type": "execute_result",
          "data": {
            "text/plain": [
              "20.0"
            ]
          },
          "metadata": {},
          "execution_count": 27
        }
      ],
      "source": [
        "60 / 3"
      ]
    },
    {
      "cell_type": "code",
      "execution_count": null,
      "id": "4c0bfb5f-2c1d-41ac-92a3-a8c7a93901eb",
      "metadata": {
        "id": "4c0bfb5f-2c1d-41ac-92a3-a8c7a93901eb"
      },
      "outputs": [],
      "source": [
        "texto3 = '\"First Edition\"'"
      ]
    },
    {
      "cell_type": "code",
      "execution_count": null,
      "id": "fca5daf4",
      "metadata": {
        "colab": {
          "base_uri": "https://localhost:8080/"
        },
        "id": "fca5daf4",
        "outputId": "2498c280-afe1-4b0e-cabd-5e184d3cd19c"
      },
      "outputs": [
        {
          "output_type": "execute_result",
          "data": {
            "text/plain": [
              "20.3"
            ]
          },
          "metadata": {},
          "execution_count": 29
        }
      ],
      "source": [
        "60.9 / 3"
      ]
    },
    {
      "cell_type": "code",
      "execution_count": null,
      "id": "65a1f365-c5b9-4bf1-92e3-4d887091729d",
      "metadata": {
        "colab": {
          "base_uri": "https://localhost:8080/"
        },
        "id": "65a1f365-c5b9-4bf1-92e3-4d887091729d",
        "outputId": "3f7daa6b-2eb1-47a1-9ac6-70e6e860e0d4"
      },
      "outputs": [
        {
          "output_type": "stream",
          "name": "stdout",
          "text": [
            "Python for Data Analysis \n",
            "\"First Edition\"\n"
          ]
        }
      ],
      "source": [
        "print(texto1)\n",
        "print(texto3)"
      ]
    },
    {
      "cell_type": "code",
      "execution_count": null,
      "id": "349e683f",
      "metadata": {
        "colab": {
          "base_uri": "https://localhost:8080/"
        },
        "id": "349e683f",
        "outputId": "521d475e-9df5-4893-bad5-5123883a05df"
      },
      "outputs": [
        {
          "output_type": "execute_result",
          "data": {
            "text/plain": [
              "20j"
            ]
          },
          "metadata": {},
          "execution_count": 31
        }
      ],
      "source": [
        "60j / 3"
      ]
    },
    {
      "cell_type": "markdown",
      "id": "d5b836c2-8b47-4461-9f50-de2c75263f32",
      "metadata": {
        "id": "d5b836c2-8b47-4461-9f50-de2c75263f32"
      },
      "source": [
        "**Python también proporciona una interfaz llamada f-strings para imprimir texto con el valor de las variables definidas. Es muy útil cuando desea imprimir resultados con texto adicional para hacerlos más legibles e interpretar los resultados...**"
      ]
    },
    {
      "cell_type": "code",
      "execution_count": null,
      "id": "e4440d4c",
      "metadata": {
        "colab": {
          "base_uri": "https://localhost:8080/"
        },
        "id": "e4440d4c",
        "outputId": "7c30b2ed-1e4d-4bb5-c601-c9500ca22c98"
      },
      "outputs": [
        {
          "output_type": "execute_result",
          "data": {
            "text/plain": [
              "20.3j"
            ]
          },
          "metadata": {},
          "execution_count": 32
        }
      ],
      "source": [
        "60.9j / 3"
      ]
    },
    {
      "cell_type": "code",
      "execution_count": null,
      "id": "16e8b809-fdc6-4ae0-b85a-3001adff6d9b",
      "metadata": {
        "colab": {
          "base_uri": "https://localhost:8080/"
        },
        "id": "16e8b809-fdc6-4ae0-b85a-3001adff6d9b",
        "outputId": "edbee34c-6c86-4629-b4c8-a1b0155d3091"
      },
      "outputs": [
        {
          "output_type": "stream",
          "name": "stdout",
          "text": [
            "Python for Data Analysis - First Edition - Ed. 2022\n"
          ]
        }
      ],
      "source": [
        "print(f\"{texto1}- {texto2} - Ed. 2022\")"
      ]
    },
    {
      "cell_type": "code",
      "execution_count": null,
      "id": "2ccd9ebe-24c4-4fc8-b494-b18946a431fb",
      "metadata": {
        "id": "2ccd9ebe-24c4-4fc8-b494-b18946a431fb"
      },
      "outputs": [],
      "source": [
        "texto4 = texto1 + texto3"
      ]
    },
    {
      "cell_type": "code",
      "execution_count": null,
      "id": "671d8d7c-0c5f-4cc6-8931-37de39928353",
      "metadata": {
        "colab": {
          "base_uri": "https://localhost:8080/"
        },
        "id": "671d8d7c-0c5f-4cc6-8931-37de39928353",
        "outputId": "8a7f59b7-2982-410b-ec5a-63f360b33806"
      },
      "outputs": [
        {
          "output_type": "stream",
          "name": "stdout",
          "text": [
            "Python for Data Analysis \"First Edition\"\n"
          ]
        }
      ],
      "source": [
        "print(texto4)"
      ]
    },
    {
      "cell_type": "markdown",
      "id": "3f6300f9-41f1-4685-8b79-65b10f6a6400",
      "metadata": {
        "id": "3f6300f9-41f1-4685-8b79-65b10f6a6400"
      },
      "source": [
        "**Se pueden usar algunos caracteres especiales para dar cierto tratamiento a la cadena de caracteres.**"
      ]
    },
    {
      "cell_type": "code",
      "execution_count": 1,
      "id": "905bd948-b4e2-49bf-8695-e0f716c25d76",
      "metadata": {
        "colab": {
          "base_uri": "https://localhost:8080/"
        },
        "id": "905bd948-b4e2-49bf-8695-e0f716c25d76",
        "outputId": "c59799a9-9b06-4623-ea9e-8094aaf2da0e"
      },
      "outputs": [
        {
          "output_type": "stream",
          "name": "stdout",
          "text": [
            "Python \n",
            "for Data Analysis\n"
          ]
        }
      ],
      "source": [
        "texto5 = \"Python \\nfor Data Analysis\"\n",
        "print(texto5)"
      ]
    },
    {
      "cell_type": "markdown",
      "id": "617a220b-716d-4bfe-8d7a-e40ecee5c798",
      "metadata": {
        "id": "617a220b-716d-4bfe-8d7a-e40ecee5c798"
      },
      "source": [
        "**A las variables de texto se le pueden aplicar formatos...**"
      ]
    },
    {
      "cell_type": "code",
      "execution_count": null,
      "id": "eab9ece1-73d2-4476-bdea-f40a55ceda1d",
      "metadata": {
        "colab": {
          "base_uri": "https://localhost:8080/",
          "height": 35
        },
        "id": "eab9ece1-73d2-4476-bdea-f40a55ceda1d",
        "outputId": "3ef1e1bf-31bd-4429-a9e8-6d70a1c88ac1"
      },
      "outputs": [
        {
          "output_type": "execute_result",
          "data": {
            "application/vnd.google.colaboratory.intrinsic+json": {
              "type": "string"
            },
            "text/plain": [
              "'Python for Data Analysis '"
            ]
          },
          "metadata": {},
          "execution_count": 37
        }
      ],
      "source": [
        "texto1"
      ]
    },
    {
      "cell_type": "markdown",
      "id": "b459376a-91aa-4d7e-8724-450000bbc726",
      "metadata": {
        "id": "b459376a-91aa-4d7e-8724-450000bbc726"
      },
      "source": [
        "**Todo el texto de la variable en mayúscula...**"
      ]
    },
    {
      "cell_type": "code",
      "execution_count": null,
      "id": "2bf63270-f522-4955-9232-44fb589e3d1c",
      "metadata": {
        "colab": {
          "base_uri": "https://localhost:8080/",
          "height": 35
        },
        "id": "2bf63270-f522-4955-9232-44fb589e3d1c",
        "outputId": "bdb3a676-68c6-450f-df79-62740c7f6ac1"
      },
      "outputs": [
        {
          "output_type": "execute_result",
          "data": {
            "application/vnd.google.colaboratory.intrinsic+json": {
              "type": "string"
            },
            "text/plain": [
              "'PYTHON FOR DATA ANALYSIS '"
            ]
          },
          "metadata": {},
          "execution_count": 38
        }
      ],
      "source": [
        "texto1.upper()"
      ]
    },
    {
      "cell_type": "markdown",
      "id": "e45d20fa-461d-4dfd-b9e5-3a19486e2d27",
      "metadata": {
        "id": "e45d20fa-461d-4dfd-b9e5-3a19486e2d27"
      },
      "source": [
        "**Todo el texto de la variable en minúscula...**"
      ]
    },
    {
      "cell_type": "code",
      "execution_count": null,
      "id": "c3d5c3b5-0e96-4caf-8dfd-5afdd9e46064",
      "metadata": {
        "colab": {
          "base_uri": "https://localhost:8080/",
          "height": 35
        },
        "id": "c3d5c3b5-0e96-4caf-8dfd-5afdd9e46064",
        "outputId": "6d267017-2124-4bf0-9335-8322570c7b81"
      },
      "outputs": [
        {
          "output_type": "execute_result",
          "data": {
            "application/vnd.google.colaboratory.intrinsic+json": {
              "type": "string"
            },
            "text/plain": [
              "'python for data analysis '"
            ]
          },
          "metadata": {},
          "execution_count": 39
        }
      ],
      "source": [
        "texto1.lower()"
      ]
    },
    {
      "cell_type": "markdown",
      "id": "86e041dc-2332-4136-a451-4398449d7819",
      "metadata": {
        "id": "86e041dc-2332-4136-a451-4398449d7819"
      },
      "source": [
        "**Intercambio de mayúsculas y minúsculas en el texto de la variable...**"
      ]
    },
    {
      "cell_type": "code",
      "execution_count": null,
      "id": "5cc25027-7f30-4050-a5e9-f89b9b5f3bc8",
      "metadata": {
        "colab": {
          "base_uri": "https://localhost:8080/",
          "height": 35
        },
        "id": "5cc25027-7f30-4050-a5e9-f89b9b5f3bc8",
        "outputId": "baf5c184-166d-4da9-81b0-22e2fa7e4d78"
      },
      "outputs": [
        {
          "output_type": "execute_result",
          "data": {
            "application/vnd.google.colaboratory.intrinsic+json": {
              "type": "string"
            },
            "text/plain": [
              "'pYTHON FOR dATA aNALYSIS '"
            ]
          },
          "metadata": {},
          "execution_count": 40
        }
      ],
      "source": [
        "texto1.swapcase()"
      ]
    },
    {
      "cell_type": "markdown",
      "id": "f4f0563b-f254-4dab-b787-0dd1741fa199",
      "metadata": {
        "id": "f4f0563b-f254-4dab-b787-0dd1741fa199"
      },
      "source": [
        "**¿Qué tipo de datos tiene la variable texto1?...**"
      ]
    },
    {
      "cell_type": "code",
      "execution_count": null,
      "id": "9932ce44-401a-45c9-b717-5f943813af87",
      "metadata": {
        "colab": {
          "base_uri": "https://localhost:8080/"
        },
        "id": "9932ce44-401a-45c9-b717-5f943813af87",
        "outputId": "04a21197-5a1b-4495-bb33-d69772a313cf"
      },
      "outputs": [
        {
          "output_type": "execute_result",
          "data": {
            "text/plain": [
              "str"
            ]
          },
          "metadata": {},
          "execution_count": 41
        }
      ],
      "source": [
        "type(texto1)"
      ]
    },
    {
      "cell_type": "markdown",
      "id": "0f38c2f5-e873-4ce5-99be-7543d83dbb42",
      "metadata": {
        "id": "0f38c2f5-e873-4ce5-99be-7543d83dbb42"
      },
      "source": [
        "*texto1 es una cadena de caracteres...*"
      ]
    },
    {
      "cell_type": "markdown",
      "id": "3dcc542b-eadf-4b41-8b55-b4afd4df14cc",
      "metadata": {
        "id": "3dcc542b-eadf-4b41-8b55-b4afd4df14cc"
      },
      "source": [
        "### **Tipos de Datos**"
      ]
    },
    {
      "cell_type": "markdown",
      "id": "9898bd8d-9201-4715-87e9-de86c3f121d5",
      "metadata": {
        "id": "9898bd8d-9201-4715-87e9-de86c3f121d5"
      },
      "source": [
        "#### **Tuplas**"
      ]
    },
    {
      "cell_type": "markdown",
      "id": "7d6dbe05-2be8-491b-886d-bfed44547782",
      "metadata": {
        "id": "7d6dbe05-2be8-491b-886d-bfed44547782"
      },
      "source": [
        "**En Python, una tupla es un conjunto ordenado de elementos del mismo o diferente tipo. Las tuplas se representan escribiendo los elementos entre paréntesis y separados por comas. Recordar, siempre tiene que estar presente la coma.**"
      ]
    },
    {
      "cell_type": "code",
      "execution_count": null,
      "id": "46ceecc8-50d3-4018-8317-5a3c4d2f0253",
      "metadata": {
        "colab": {
          "base_uri": "https://localhost:8080/"
        },
        "id": "46ceecc8-50d3-4018-8317-5a3c4d2f0253",
        "outputId": "94241a61-5f72-4675-9214-ea86ce6c6d7d"
      },
      "outputs": [
        {
          "output_type": "execute_result",
          "data": {
            "text/plain": [
              "(1, 'a', 3.14, True)"
            ]
          },
          "metadata": {},
          "execution_count": 42
        }
      ],
      "source": [
        "(1, \"a\", 3.14, True)"
      ]
    },
    {
      "cell_type": "code",
      "execution_count": null,
      "id": "0d3c4d78-2475-4015-8873-551df31af619",
      "metadata": {
        "colab": {
          "base_uri": "https://localhost:8080/"
        },
        "id": "0d3c4d78-2475-4015-8873-551df31af619",
        "outputId": "9294b1ce-5c17-43e5-f460-01c18a3e8d1b"
      },
      "outputs": [
        {
          "output_type": "execute_result",
          "data": {
            "text/plain": [
              "(1, 'a', 3.14, 'b', 2435, 'c', 765)"
            ]
          },
          "metadata": {},
          "execution_count": 43
        }
      ],
      "source": [
        "(1, \"a\", 3.14, \"b\", 2435, \"c\", 765)"
      ]
    },
    {
      "cell_type": "markdown",
      "id": "f1ba020a-8324-4b06-a8c7-fc0c49765f33",
      "metadata": {
        "id": "f1ba020a-8324-4b06-a8c7-fc0c49765f33"
      },
      "source": [
        "**En realidad no es necesario escribir los paréntesis para indicar que se trata de una tupla, basta con escribir las comas, pero Python siempre nos va a mostrar los paréntesis:**"
      ]
    },
    {
      "cell_type": "code",
      "execution_count": null,
      "id": "0f58d4c3-8476-44fc-be1d-a4563c48c8f4",
      "metadata": {
        "colab": {
          "base_uri": "https://localhost:8080/"
        },
        "id": "0f58d4c3-8476-44fc-be1d-a4563c48c8f4",
        "outputId": "6ba32122-7ef6-4e5a-831c-3231bb80855b"
      },
      "outputs": [
        {
          "output_type": "execute_result",
          "data": {
            "text/plain": [
              "(5, 'b', 6.28)"
            ]
          },
          "metadata": {},
          "execution_count": 44
        }
      ],
      "source": [
        "5, \"b\", 6.28"
      ]
    },
    {
      "cell_type": "code",
      "execution_count": null,
      "id": "48c101ba-8907-4c09-8bfc-6c7808333a4b",
      "metadata": {
        "colab": {
          "base_uri": "https://localhost:8080/"
        },
        "id": "48c101ba-8907-4c09-8bfc-6c7808333a4b",
        "outputId": "4b0a4e2b-50c5-4eb8-9b8f-20c4d0a87949"
      },
      "outputs": [
        {
          "output_type": "execute_result",
          "data": {
            "text/plain": [
              "(1, 'a', 3.14, 'b', 2435, 'c', 765)"
            ]
          },
          "metadata": {},
          "execution_count": 45
        }
      ],
      "source": [
        "1, \"a\", 3.14, \"b\", 2435, \"c\", 765"
      ]
    },
    {
      "cell_type": "markdown",
      "id": "e177f9a3-ea7f-4a73-bc0a-a5f3952b3d7c",
      "metadata": {
        "id": "e177f9a3-ea7f-4a73-bc0a-a5f3952b3d7c"
      },
      "source": [
        "##### **Cantidad de elementos**"
      ]
    },
    {
      "cell_type": "markdown",
      "id": "e7be707b-8983-4b17-9faf-53d19191ccdf",
      "metadata": {
        "id": "e7be707b-8983-4b17-9faf-53d19191ccdf"
      },
      "source": [
        "**Ulizando la conocida función len() podemos saber cuantos elementos tiene nuestra tupla...**"
      ]
    },
    {
      "cell_type": "code",
      "execution_count": null,
      "id": "8b6faaa4-ea55-449d-a2ac-e6a72effd30a",
      "metadata": {
        "colab": {
          "base_uri": "https://localhost:8080/"
        },
        "id": "8b6faaa4-ea55-449d-a2ac-e6a72effd30a",
        "outputId": "92908ec6-783a-4b46-fa53-41cedabfee59"
      },
      "outputs": [
        {
          "output_type": "execute_result",
          "data": {
            "text/plain": [
              "9"
            ]
          },
          "metadata": {},
          "execution_count": 46
        }
      ],
      "source": [
        "len((1, \"a\", 3.14, 7, \"b\", 90.87, False, 89, \"listo\"))"
      ]
    },
    {
      "cell_type": "code",
      "execution_count": null,
      "id": "f169be94-52a2-4bb4-af33-d31de2216293",
      "metadata": {
        "colab": {
          "base_uri": "https://localhost:8080/"
        },
        "id": "f169be94-52a2-4bb4-af33-d31de2216293",
        "outputId": "dc997fe4-f099-4db1-b348-90c5e4d40acc"
      },
      "outputs": [
        {
          "output_type": "execute_result",
          "data": {
            "text/plain": [
              "7"
            ]
          },
          "metadata": {},
          "execution_count": 47
        }
      ],
      "source": [
        "a = (9, \"z\", \"yo\", 3.14, 6.28, \"exacto\", True)\n",
        "len(a)"
      ]
    },
    {
      "cell_type": "code",
      "execution_count": null,
      "id": "24fb0a76-ca6b-4524-8d5f-b722c7f13f47",
      "metadata": {
        "id": "24fb0a76-ca6b-4524-8d5f-b722c7f13f47"
      },
      "outputs": [],
      "source": [
        "b = (1, \"a\", 3.14, 7, \"b\", 90.87, False, 89, \"listo\")"
      ]
    },
    {
      "cell_type": "code",
      "execution_count": null,
      "id": "2d4689cf-cba0-4d03-a796-68058b1ec178",
      "metadata": {
        "colab": {
          "base_uri": "https://localhost:8080/"
        },
        "id": "2d4689cf-cba0-4d03-a796-68058b1ec178",
        "outputId": "bdf5fa85-b510-4ae3-8a8c-657206dd8140"
      },
      "outputs": [
        {
          "output_type": "execute_result",
          "data": {
            "text/plain": [
              "2"
            ]
          },
          "metadata": {},
          "execution_count": 49
        }
      ],
      "source": [
        "len((a,b))"
      ]
    },
    {
      "cell_type": "code",
      "execution_count": null,
      "id": "fbdd602d-0bcc-4749-aa6d-a1705bb7f5a7",
      "metadata": {
        "colab": {
          "base_uri": "https://localhost:8080/"
        },
        "id": "fbdd602d-0bcc-4749-aa6d-a1705bb7f5a7",
        "outputId": "cb78500a-b6da-4cc9-9fb7-606d39698aff"
      },
      "outputs": [
        {
          "output_type": "execute_result",
          "data": {
            "text/plain": [
              "16"
            ]
          },
          "metadata": {},
          "execution_count": 50
        }
      ],
      "source": [
        "len((a+b))"
      ]
    },
    {
      "cell_type": "markdown",
      "id": "ccbb83d9-afbc-4b67-aaa2-242992dcaee9",
      "metadata": {
        "id": "ccbb83d9-afbc-4b67-aaa2-242992dcaee9"
      },
      "source": [
        "**Podemos tener una tupla de un solo elemento, pero sí o sí en el script tiene que estar la coma para indicar que es una tupla...**"
      ]
    },
    {
      "cell_type": "code",
      "execution_count": null,
      "id": "6671cc76-b691-4c1d-a9bc-077f6646b696",
      "metadata": {
        "colab": {
          "base_uri": "https://localhost:8080/"
        },
        "id": "6671cc76-b691-4c1d-a9bc-077f6646b696",
        "outputId": "5e9988a2-0c0a-4ebb-dfc3-98b937ba0599"
      },
      "outputs": [
        {
          "output_type": "execute_result",
          "data": {
            "text/plain": [
              "('uno',)"
            ]
          },
          "metadata": {},
          "execution_count": 51
        }
      ],
      "source": [
        "c = (\"uno\",)\n",
        "c"
      ]
    },
    {
      "cell_type": "code",
      "execution_count": null,
      "id": "4442610f-f022-4926-8e55-4b44a298a165",
      "metadata": {
        "colab": {
          "base_uri": "https://localhost:8080/"
        },
        "id": "4442610f-f022-4926-8e55-4b44a298a165",
        "outputId": "37f4d10a-2a08-4b5e-92fe-5ef6ab3756f2"
      },
      "outputs": [
        {
          "output_type": "execute_result",
          "data": {
            "text/plain": [
              "('uno',)"
            ]
          },
          "metadata": {},
          "execution_count": 52
        }
      ],
      "source": [
        "c = \"uno\",\n",
        "c"
      ]
    },
    {
      "cell_type": "markdown",
      "id": "b23d870a-6e25-4660-be27-227f71804755",
      "metadata": {
        "id": "b23d870a-6e25-4660-be27-227f71804755"
      },
      "source": [
        "**Si nos olvidamos de la coma, el dato asignado a la variable c, se convierte en una cadena de caracteres en este caso...**"
      ]
    },
    {
      "cell_type": "code",
      "execution_count": null,
      "id": "d627794e-7a77-4a25-967d-ff6fbbfe7ef4",
      "metadata": {
        "colab": {
          "base_uri": "https://localhost:8080/",
          "height": 35
        },
        "id": "d627794e-7a77-4a25-967d-ff6fbbfe7ef4",
        "outputId": "ac1d9408-0492-47bc-94f0-5ddad9a3afd1"
      },
      "outputs": [
        {
          "output_type": "execute_result",
          "data": {
            "application/vnd.google.colaboratory.intrinsic+json": {
              "type": "string"
            },
            "text/plain": [
              "'uno'"
            ]
          },
          "metadata": {},
          "execution_count": 53
        }
      ],
      "source": [
        "c = \"uno\"\n",
        "c"
      ]
    },
    {
      "cell_type": "markdown",
      "id": "bbd074e9-71d7-4e48-bd30-f3c6c52c988b",
      "metadata": {
        "id": "bbd074e9-71d7-4e48-bd30-f3c6c52c988b"
      },
      "source": [
        "**Nos damos cuenta porque Python siempre muestra la tupla entre paréntesis y sus elementos separados por coma... También se puede crear una tupla vacía, sin elementos...**"
      ]
    },
    {
      "cell_type": "code",
      "execution_count": null,
      "id": "ec316cc0-f04d-4d3d-87b0-da65415f4c02",
      "metadata": {
        "colab": {
          "base_uri": "https://localhost:8080/"
        },
        "id": "ec316cc0-f04d-4d3d-87b0-da65415f4c02",
        "outputId": "388a46ba-a1a1-4c43-fbdd-68ba2e4c9e1e"
      },
      "outputs": [
        {
          "output_type": "execute_result",
          "data": {
            "text/plain": [
              "()"
            ]
          },
          "metadata": {},
          "execution_count": 54
        }
      ],
      "source": [
        "d = ()\n",
        "d"
      ]
    },
    {
      "cell_type": "code",
      "execution_count": null,
      "id": "4265f7b6-67f6-49aa-b658-de7cdb30b604",
      "metadata": {
        "colab": {
          "base_uri": "https://localhost:8080/"
        },
        "id": "4265f7b6-67f6-49aa-b658-de7cdb30b604",
        "outputId": "c7074dc2-210d-4280-ec02-0e2e4e9c1da4"
      },
      "outputs": [
        {
          "output_type": "execute_result",
          "data": {
            "text/plain": [
              "0"
            ]
          },
          "metadata": {},
          "execution_count": 55
        }
      ],
      "source": [
        "len(d)"
      ]
    },
    {
      "cell_type": "markdown",
      "id": "e10dfcb0-0f0f-487a-a17b-53af43128b05",
      "metadata": {
        "id": "e10dfcb0-0f0f-487a-a17b-53af43128b05"
      },
      "source": [
        "##### **Función type()**"
      ]
    },
    {
      "cell_type": "markdown",
      "id": "7e68a67a-5e63-4ef7-9a4d-f4b9ff884f13",
      "metadata": {
        "id": "7e68a67a-5e63-4ef7-9a4d-f4b9ff884f13"
      },
      "source": [
        "**¿Es la variable d una tupla?... ¿y el resto de las variables definidas?...**"
      ]
    },
    {
      "cell_type": "code",
      "execution_count": null,
      "id": "32c62fb9-3df4-4e46-bcbd-3e7b8a519ce5",
      "metadata": {
        "colab": {
          "base_uri": "https://localhost:8080/"
        },
        "id": "32c62fb9-3df4-4e46-bcbd-3e7b8a519ce5",
        "outputId": "caae05e1-bd5b-4a6e-824b-02b70db0c135"
      },
      "outputs": [
        {
          "output_type": "execute_result",
          "data": {
            "text/plain": [
              "tuple"
            ]
          },
          "metadata": {},
          "execution_count": 56
        }
      ],
      "source": [
        "type(d)"
      ]
    },
    {
      "cell_type": "code",
      "execution_count": null,
      "id": "f316b919-9cd7-4eb9-a142-10f3ae06e9d2",
      "metadata": {
        "colab": {
          "base_uri": "https://localhost:8080/"
        },
        "id": "f316b919-9cd7-4eb9-a142-10f3ae06e9d2",
        "outputId": "fc537fcb-a334-4a82-e56c-59107b288324"
      },
      "outputs": [
        {
          "output_type": "execute_result",
          "data": {
            "text/plain": [
              "tuple"
            ]
          },
          "metadata": {},
          "execution_count": 57
        }
      ],
      "source": [
        "type(a)"
      ]
    },
    {
      "cell_type": "markdown",
      "id": "73217370-5c47-4a6d-a7e7-ad6d3f4a7180",
      "metadata": {
        "id": "73217370-5c47-4a6d-a7e7-ad6d3f4a7180"
      },
      "source": [
        "##### **Asignación de tupla a variables**"
      ]
    },
    {
      "cell_type": "code",
      "execution_count": null,
      "id": "b422a542-0041-4440-93fe-09fb1544f23b",
      "metadata": {
        "id": "b422a542-0041-4440-93fe-09fb1544f23b"
      },
      "outputs": [],
      "source": [
        "limites = 100 , 200, 300"
      ]
    },
    {
      "cell_type": "code",
      "execution_count": null,
      "id": "d341966a-15a4-447e-a510-0a4707817a45",
      "metadata": {
        "id": "d341966a-15a4-447e-a510-0a4707817a45"
      },
      "outputs": [],
      "source": [
        "a, b, c = limites"
      ]
    },
    {
      "cell_type": "code",
      "execution_count": null,
      "id": "14025e38-9e19-4441-b206-cd676d894f3f",
      "metadata": {
        "colab": {
          "base_uri": "https://localhost:8080/"
        },
        "id": "14025e38-9e19-4441-b206-cd676d894f3f",
        "outputId": "046f6144-7751-40bd-b8ae-1b9231286a6a"
      },
      "outputs": [
        {
          "output_type": "execute_result",
          "data": {
            "text/plain": [
              "100"
            ]
          },
          "metadata": {},
          "execution_count": 60
        }
      ],
      "source": [
        "a"
      ]
    },
    {
      "cell_type": "code",
      "execution_count": null,
      "id": "5eb3dc74-09bc-4f01-be97-430954a4fe3c",
      "metadata": {
        "colab": {
          "base_uri": "https://localhost:8080/"
        },
        "id": "5eb3dc74-09bc-4f01-be97-430954a4fe3c",
        "outputId": "7015be2a-3e85-4992-fa6e-4790aaccbbb3"
      },
      "outputs": [
        {
          "output_type": "execute_result",
          "data": {
            "text/plain": [
              "200"
            ]
          },
          "metadata": {},
          "execution_count": 61
        }
      ],
      "source": [
        "b"
      ]
    },
    {
      "cell_type": "code",
      "execution_count": null,
      "id": "3368e08e-c6f3-40da-8b1f-6bfb5c583047",
      "metadata": {
        "colab": {
          "base_uri": "https://localhost:8080/"
        },
        "id": "3368e08e-c6f3-40da-8b1f-6bfb5c583047",
        "outputId": "cff65110-bc45-4336-fc0d-c51441e2aab6"
      },
      "outputs": [
        {
          "output_type": "execute_result",
          "data": {
            "text/plain": [
              "300"
            ]
          },
          "metadata": {},
          "execution_count": 62
        }
      ],
      "source": [
        "c"
      ]
    },
    {
      "cell_type": "markdown",
      "id": "01a9ebfd-a8c6-4f20-8170-380ce2901166",
      "metadata": {
        "id": "01a9ebfd-a8c6-4f20-8170-380ce2901166"
      },
      "source": [
        "##### **Modificando tuplas**"
      ]
    },
    {
      "cell_type": "markdown",
      "id": "b977346b-41d6-484c-a643-98926166d357",
      "metadata": {
        "id": "b977346b-41d6-484c-a643-98926166d357"
      },
      "source": [
        "**Las tuplas tambien son *inmutables*, no se pueden modificar, pero se pueden concatenar**"
      ]
    },
    {
      "cell_type": "code",
      "execution_count": null,
      "id": "71d5e467-d928-41ae-992b-89a523657a95",
      "metadata": {
        "id": "71d5e467-d928-41ae-992b-89a523657a95"
      },
      "outputs": [],
      "source": [
        "tupla1 = \"rojo\", \"amarillo\"\n",
        "tupla2 = \"verde\","
      ]
    },
    {
      "cell_type": "code",
      "execution_count": null,
      "id": "742b28cb-fb80-4a0f-b2de-e408a6c51962",
      "metadata": {
        "colab": {
          "base_uri": "https://localhost:8080/"
        },
        "id": "742b28cb-fb80-4a0f-b2de-e408a6c51962",
        "outputId": "322f16de-1d64-40a2-d335-6b625ff7fc5e"
      },
      "outputs": [
        {
          "output_type": "execute_result",
          "data": {
            "text/plain": [
              "('rojo', 'amarillo', 'verde')"
            ]
          },
          "metadata": {},
          "execution_count": 64
        }
      ],
      "source": [
        "tupla1 + tupla2"
      ]
    },
    {
      "cell_type": "markdown",
      "id": "8b133951-9027-4766-bb0c-31399ed2b565",
      "metadata": {
        "id": "8b133951-9027-4766-bb0c-31399ed2b565"
      },
      "source": [
        "**O de esta forma...**"
      ]
    },
    {
      "cell_type": "code",
      "execution_count": null,
      "id": "51a0dbff-f35c-43da-a9d1-d28c212da234",
      "metadata": {
        "colab": {
          "base_uri": "https://localhost:8080/"
        },
        "id": "51a0dbff-f35c-43da-a9d1-d28c212da234",
        "outputId": "697dc6b4-7ccf-4f81-bfe0-cd2869d6cb9b"
      },
      "outputs": [
        {
          "output_type": "execute_result",
          "data": {
            "text/plain": [
              "('rojo', 'amarillo', 'verde')"
            ]
          },
          "metadata": {},
          "execution_count": 65
        }
      ],
      "source": [
        "tupla1 += tupla2\n",
        "tupla1"
      ]
    },
    {
      "cell_type": "markdown",
      "id": "147c6ccf-6ef4-440c-b20b-06311b51aec9",
      "metadata": {
        "id": "147c6ccf-6ef4-440c-b20b-06311b51aec9"
      },
      "source": [
        "**Lo importante es saber que no se ha modificado la tupla1, ya que Python ha creado un nuevo objeto, lo que podemos verificar con la función id() para ver el identificador del objeto...**"
      ]
    },
    {
      "cell_type": "code",
      "execution_count": null,
      "id": "cd3deb53-0b0f-42fc-ba19-263dbab4c7c2",
      "metadata": {
        "colab": {
          "base_uri": "https://localhost:8080/"
        },
        "id": "cd3deb53-0b0f-42fc-ba19-263dbab4c7c2",
        "outputId": "99e3cb46-939f-44a7-a925-8020dc197fba"
      },
      "outputs": [
        {
          "output_type": "execute_result",
          "data": {
            "text/plain": [
              "140199085673360"
            ]
          },
          "metadata": {},
          "execution_count": 66
        }
      ],
      "source": [
        "tupla1 = \"rojo\", \"amarillo\"\n",
        "id(tupla1)"
      ]
    },
    {
      "cell_type": "code",
      "execution_count": null,
      "id": "3200bdb4-1c93-4792-b0e8-1db314e84dd5",
      "metadata": {
        "colab": {
          "base_uri": "https://localhost:8080/"
        },
        "id": "3200bdb4-1c93-4792-b0e8-1db314e84dd5",
        "outputId": "26ca22d4-2a21-41f3-a3a8-83f232bba99b"
      },
      "outputs": [
        {
          "output_type": "execute_result",
          "data": {
            "text/plain": [
              "140199015862608"
            ]
          },
          "metadata": {},
          "execution_count": 67
        }
      ],
      "source": [
        "tupla2 = \"verde\",\n",
        "id(tupla2)"
      ]
    },
    {
      "cell_type": "code",
      "execution_count": null,
      "id": "e144f854-b79b-439d-97e5-3204e0bf6bf8",
      "metadata": {
        "colab": {
          "base_uri": "https://localhost:8080/"
        },
        "id": "e144f854-b79b-439d-97e5-3204e0bf6bf8",
        "outputId": "ee589466-bbdb-485e-fb58-19f797c16120"
      },
      "outputs": [
        {
          "output_type": "execute_result",
          "data": {
            "text/plain": [
              "140199015990928"
            ]
          },
          "metadata": {},
          "execution_count": 68
        }
      ],
      "source": [
        "tupla1 += tupla2\n",
        "id(tupla1)"
      ]
    },
    {
      "cell_type": "markdown",
      "id": "65716c12-2367-4c20-8a15-9317b1141374",
      "metadata": {
        "id": "65716c12-2367-4c20-8a15-9317b1141374"
      },
      "source": [
        "##### **Convertir a tupla**"
      ]
    },
    {
      "cell_type": "markdown",
      "id": "95935cec-8e7c-4a5e-8db9-b7007b023a3f",
      "metadata": {
        "id": "95935cec-8e7c-4a5e-8db9-b7007b023a3f"
      },
      "source": [
        "**Si tengo otra cosa, por ejemplo una lista, puedo convertirla a una tupla usando la función tuple()**"
      ]
    },
    {
      "cell_type": "code",
      "execution_count": null,
      "id": "9d20dce1-41cc-4858-96d6-917e8c95545f",
      "metadata": {
        "colab": {
          "base_uri": "https://localhost:8080/"
        },
        "id": "9d20dce1-41cc-4858-96d6-917e8c95545f",
        "outputId": "62573bc7-6a06-4f72-d7b1-48c1820adc00"
      },
      "outputs": [
        {
          "output_type": "execute_result",
          "data": {
            "text/plain": [
              "list"
            ]
          },
          "metadata": {},
          "execution_count": 69
        }
      ],
      "source": [
        "lista = [2, 4, 6, 8, 10, 12, 14, 16, 18, 20]\n",
        "type(lista)"
      ]
    },
    {
      "cell_type": "code",
      "execution_count": null,
      "id": "f8d792cb-9f3f-4c11-ae31-ea1c53f1c292",
      "metadata": {
        "colab": {
          "base_uri": "https://localhost:8080/"
        },
        "id": "f8d792cb-9f3f-4c11-ae31-ea1c53f1c292",
        "outputId": "b5ffd202-5750-47a2-c15d-77e0c9ad0b6c"
      },
      "outputs": [
        {
          "output_type": "execute_result",
          "data": {
            "text/plain": [
              "(2, 4, 6, 8, 10, 12, 14, 16, 18, 20)"
            ]
          },
          "metadata": {},
          "execution_count": 70
        }
      ],
      "source": [
        "lista = tuple(lista)\n",
        "lista"
      ]
    },
    {
      "cell_type": "code",
      "execution_count": null,
      "id": "07084d5b-3b81-4b59-aa46-50086c238e6f",
      "metadata": {
        "colab": {
          "base_uri": "https://localhost:8080/"
        },
        "id": "07084d5b-3b81-4b59-aa46-50086c238e6f",
        "outputId": "f182fece-0448-4304-94c3-3b5a81896064"
      },
      "outputs": [
        {
          "output_type": "execute_result",
          "data": {
            "text/plain": [
              "tuple"
            ]
          },
          "metadata": {},
          "execution_count": 71
        }
      ],
      "source": [
        "type(lista)"
      ]
    },
    {
      "cell_type": "markdown",
      "id": "8c464ee0-4df5-4ca2-bbcb-b157660ebb80",
      "metadata": {
        "id": "8c464ee0-4df5-4ca2-bbcb-b157660ebb80"
      },
      "source": [
        "#### **Listas**"
      ]
    },
    {
      "cell_type": "markdown",
      "id": "05fd7b4c-c064-45ad-a2e8-7f3607b63bec",
      "metadata": {
        "id": "05fd7b4c-c064-45ad-a2e8-7f3607b63bec"
      },
      "source": [
        "**Las listas son conjuntos ordenados de elementos (números, cadenas de caracteres, tuplas, listas, etc). Las listas se delimitan por corchetes [ ] y los elementos se separan por comas.**\n",
        "\n",
        "**Las listas son buenas para realizar un seguimiento de las cosas por su orden, especialmente cuando el orden y el contenido puede cambiar. A diferencia de las tuplas, las listas si son *mutables*. Se puede cambiar una lista, agregar nuevos elementos y eliminar o reemplazar elementos existentes. El mismo valor puede aparecer más de una vez en una lista...**"
      ]
    },
    {
      "cell_type": "markdown",
      "id": "18aafaf8-596c-4003-8b6c-75bb4aee691a",
      "metadata": {
        "id": "18aafaf8-596c-4003-8b6c-75bb4aee691a"
      },
      "source": [
        "##### **Cantidad de elementos**"
      ]
    },
    {
      "cell_type": "code",
      "execution_count": null,
      "id": "6f374848-8d63-4db2-919e-54df08d73f85",
      "metadata": {
        "colab": {
          "base_uri": "https://localhost:8080/"
        },
        "id": "6f374848-8d63-4db2-919e-54df08d73f85",
        "outputId": "0f22a61e-94b0-4ebd-8749-e74cb2bcd275"
      },
      "outputs": [
        {
          "output_type": "execute_result",
          "data": {
            "text/plain": [
              "3"
            ]
          },
          "metadata": {},
          "execution_count": 72
        }
      ],
      "source": [
        "componentes = [\"Activo\", \"Pasivo\", \"Patrimonio Neto\"]\n",
        "len(componentes)"
      ]
    },
    {
      "cell_type": "markdown",
      "id": "1e915dae-336e-4210-8105-ad5c75e5c37c",
      "metadata": {
        "id": "1e915dae-336e-4210-8105-ad5c75e5c37c"
      },
      "source": [
        "**La lista tambien puede estar vacía...**"
      ]
    },
    {
      "cell_type": "code",
      "execution_count": null,
      "id": "1f6aad7a-c31c-4b49-812b-8139e51c9eff",
      "metadata": {
        "colab": {
          "base_uri": "https://localhost:8080/"
        },
        "id": "1f6aad7a-c31c-4b49-812b-8139e51c9eff",
        "outputId": "65b38189-661a-449a-c00f-9cb999a08de0"
      },
      "outputs": [
        {
          "output_type": "execute_result",
          "data": {
            "text/plain": [
              "0"
            ]
          },
          "metadata": {},
          "execution_count": 73
        }
      ],
      "source": [
        "lista = []\n",
        "len(lista)"
      ]
    },
    {
      "cell_type": "markdown",
      "id": "4ff917a2-6fab-4765-8ae5-aff4fd23d03a",
      "metadata": {
        "id": "4ff917a2-6fab-4765-8ae5-aff4fd23d03a"
      },
      "source": [
        "##### **Función type()**"
      ]
    },
    {
      "cell_type": "code",
      "execution_count": null,
      "id": "6e1f0cd6-00db-485a-9a92-864c5998cbef",
      "metadata": {
        "colab": {
          "base_uri": "https://localhost:8080/"
        },
        "id": "6e1f0cd6-00db-485a-9a92-864c5998cbef",
        "outputId": "0f631cbe-9e3c-4737-a8e6-bbb8b61997f6"
      },
      "outputs": [
        {
          "output_type": "execute_result",
          "data": {
            "text/plain": [
              "list"
            ]
          },
          "metadata": {},
          "execution_count": 74
        }
      ],
      "source": [
        "type(componentes)"
      ]
    },
    {
      "cell_type": "markdown",
      "id": "a26d6324-b35a-4a87-a863-47b22569fbf8",
      "metadata": {
        "id": "a26d6324-b35a-4a87-a863-47b22569fbf8"
      },
      "source": [
        "##### **Convertir a lista**"
      ]
    },
    {
      "cell_type": "markdown",
      "id": "aebc227e-1b3c-4234-a624-4a48f260c517",
      "metadata": {
        "id": "aebc227e-1b3c-4234-a624-4a48f260c517"
      },
      "source": [
        "**La función list() convierte otros tipos de datos en listas...**"
      ]
    },
    {
      "cell_type": "code",
      "execution_count": null,
      "id": "3b4fd973-e9b0-4298-8316-8d9859a5713d",
      "metadata": {
        "colab": {
          "base_uri": "https://localhost:8080/"
        },
        "id": "3b4fd973-e9b0-4298-8316-8d9859a5713d",
        "outputId": "284c8c30-2668-4f96-e761-8b25b1c8cf8c"
      },
      "outputs": [
        {
          "output_type": "execute_result",
          "data": {
            "text/plain": [
              "tuple"
            ]
          },
          "metadata": {},
          "execution_count": 75
        }
      ],
      "source": [
        "tupla = 20, 40, 60, 80\n",
        "type(tupla)"
      ]
    },
    {
      "cell_type": "code",
      "execution_count": null,
      "id": "16ca46dc-e568-430d-b770-0ef4bb7e78d8",
      "metadata": {
        "colab": {
          "base_uri": "https://localhost:8080/"
        },
        "id": "16ca46dc-e568-430d-b770-0ef4bb7e78d8",
        "outputId": "247979c9-0286-4e3c-bc8f-ab0d6d1ef61b"
      },
      "outputs": [
        {
          "output_type": "execute_result",
          "data": {
            "text/plain": [
              "[20, 40, 60, 80]"
            ]
          },
          "metadata": {},
          "execution_count": 76
        }
      ],
      "source": [
        "tupla = list(tupla)\n",
        "tupla"
      ]
    },
    {
      "cell_type": "code",
      "execution_count": null,
      "id": "e4cb2394-0d80-47d9-86b2-7c0e52a8ccd8",
      "metadata": {
        "colab": {
          "base_uri": "https://localhost:8080/"
        },
        "id": "e4cb2394-0d80-47d9-86b2-7c0e52a8ccd8",
        "outputId": "4fb44fd3-60a4-4924-dd60-8cdc0fda8788"
      },
      "outputs": [
        {
          "output_type": "execute_result",
          "data": {
            "text/plain": [
              "list"
            ]
          },
          "metadata": {},
          "execution_count": 77
        }
      ],
      "source": [
        "type(tupla)"
      ]
    },
    {
      "cell_type": "markdown",
      "id": "2ebc8fbe-1604-4c50-963f-d19c17b587cf",
      "metadata": {
        "id": "2ebc8fbe-1604-4c50-963f-d19c17b587cf"
      },
      "source": [
        "**También se podría convertir por ejemplo, una cadena de caracteres en una lista...**"
      ]
    },
    {
      "cell_type": "code",
      "execution_count": null,
      "id": "9dca9ce4-49f1-4a92-8606-0071f0837120",
      "metadata": {
        "colab": {
          "base_uri": "https://localhost:8080/"
        },
        "id": "9dca9ce4-49f1-4a92-8606-0071f0837120",
        "outputId": "d415f665-47b1-4ca6-e76d-01f5b83f7d79"
      },
      "outputs": [
        {
          "output_type": "execute_result",
          "data": {
            "text/plain": [
              "['A', 'c', 't', 'i', 'v', 'o']"
            ]
          },
          "metadata": {},
          "execution_count": 78
        }
      ],
      "source": [
        "activo = list(\"Activo\")\n",
        "activo"
      ]
    },
    {
      "cell_type": "markdown",
      "id": "8fe06ae8-6ab4-4392-b9ee-aadb84ef5f33",
      "metadata": {
        "id": "8fe06ae8-6ab4-4392-b9ee-aadb84ef5f33"
      },
      "source": [
        "##### **Agregando y eliminando elementos**"
      ]
    },
    {
      "cell_type": "code",
      "execution_count": null,
      "id": "5416152e-3332-413c-b58f-222181fea10d",
      "metadata": {
        "colab": {
          "base_uri": "https://localhost:8080/"
        },
        "id": "5416152e-3332-413c-b58f-222181fea10d",
        "outputId": "fd3f5403-e425-424d-f05e-2e1a111f8e4c"
      },
      "outputs": [
        {
          "output_type": "execute_result",
          "data": {
            "text/plain": [
              "[20, 40, 60, 80]"
            ]
          },
          "metadata": {},
          "execution_count": 79
        }
      ],
      "source": [
        "lista = [20, 40, 60, 80]\n",
        "lista"
      ]
    },
    {
      "cell_type": "markdown",
      "id": "468eb096-d55a-4fdc-a8bb-5fa34e5d5845",
      "metadata": {
        "id": "468eb096-d55a-4fdc-a8bb-5fa34e5d5845"
      },
      "source": [
        "**Para agregar elementos a la lista, se utiliza la función append()**"
      ]
    },
    {
      "cell_type": "code",
      "execution_count": null,
      "id": "9ef3221d-d884-4346-951c-5f0391e32828",
      "metadata": {
        "colab": {
          "base_uri": "https://localhost:8080/"
        },
        "id": "9ef3221d-d884-4346-951c-5f0391e32828",
        "outputId": "3178850a-95ec-43d5-99d9-617d86fd4c2c"
      },
      "outputs": [
        {
          "output_type": "execute_result",
          "data": {
            "text/plain": [
              "[20, 40, 60, 80, 100]"
            ]
          },
          "metadata": {},
          "execution_count": 80
        }
      ],
      "source": [
        "lista.append(100)\n",
        "lista"
      ]
    },
    {
      "cell_type": "markdown",
      "id": "c2b955bf-d788-4537-b59e-9a8375613040",
      "metadata": {
        "id": "c2b955bf-d788-4537-b59e-9a8375613040"
      },
      "source": [
        "**Para eliminar elementos de la lista, se utiliza la instrucción del de Python. En este caso se elimina el último elemento de la lista...**"
      ]
    },
    {
      "cell_type": "code",
      "execution_count": null,
      "id": "9c5f216e-f918-4491-9de6-b062450dacdd",
      "metadata": {
        "colab": {
          "base_uri": "https://localhost:8080/"
        },
        "id": "9c5f216e-f918-4491-9de6-b062450dacdd",
        "outputId": "3b3d4ecc-4eff-4986-f00e-6255542bd15b"
      },
      "outputs": [
        {
          "output_type": "execute_result",
          "data": {
            "text/plain": [
              "[20, 40, 60, 80]"
            ]
          },
          "metadata": {},
          "execution_count": 81
        }
      ],
      "source": [
        "del lista[-1]\n",
        "lista"
      ]
    },
    {
      "cell_type": "markdown",
      "id": "006f459e-af79-44cd-a185-86660462f934",
      "metadata": {
        "id": "006f459e-af79-44cd-a185-86660462f934"
      },
      "source": [
        "**Tambien se puede utilizar la función remove() para eliminar un elemento de la lista. Tener cuidado si en la lista existen elementos duplicados...**"
      ]
    },
    {
      "cell_type": "code",
      "execution_count": null,
      "id": "90ba8d83-c4c6-4a89-a356-b248b96c2d76",
      "metadata": {
        "colab": {
          "base_uri": "https://localhost:8080/"
        },
        "id": "90ba8d83-c4c6-4a89-a356-b248b96c2d76",
        "outputId": "b023e0b4-6d5d-4256-a37d-ba0e7664c70d"
      },
      "outputs": [
        {
          "output_type": "execute_result",
          "data": {
            "text/plain": [
              "[20, 40, 60, 80, 100]"
            ]
          },
          "metadata": {},
          "execution_count": 82
        }
      ],
      "source": [
        "lista.append(100)\n",
        "lista"
      ]
    },
    {
      "cell_type": "code",
      "execution_count": null,
      "id": "922eb604-960c-4091-b8be-c6b28612214d",
      "metadata": {
        "colab": {
          "base_uri": "https://localhost:8080/"
        },
        "id": "922eb604-960c-4091-b8be-c6b28612214d",
        "outputId": "bdba48c1-7852-4040-c41e-8709611dac37"
      },
      "outputs": [
        {
          "output_type": "execute_result",
          "data": {
            "text/plain": [
              "[20, 40, 60, 80]"
            ]
          },
          "metadata": {},
          "execution_count": 83
        }
      ],
      "source": [
        "lista.remove(100)\n",
        "lista"
      ]
    },
    {
      "cell_type": "markdown",
      "id": "c2f63ac3-28bd-4675-ada0-ebc7aa5a4dfa",
      "metadata": {
        "id": "c2f63ac3-28bd-4675-ada0-ebc7aa5a4dfa"
      },
      "source": [
        "**Y también se pueden eliminar todos los elementos de la lista, con el método clear()**"
      ]
    },
    {
      "cell_type": "code",
      "execution_count": null,
      "id": "d2317b1d-a076-41b8-9757-0cf183b6b9aa",
      "metadata": {
        "colab": {
          "base_uri": "https://localhost:8080/"
        },
        "id": "d2317b1d-a076-41b8-9757-0cf183b6b9aa",
        "outputId": "1a7a55b6-a759-4a72-ea86-395a82d9639f"
      },
      "outputs": [
        {
          "output_type": "execute_result",
          "data": {
            "text/plain": [
              "[]"
            ]
          },
          "metadata": {},
          "execution_count": 84
        }
      ],
      "source": [
        "lista.clear()\n",
        "lista"
      ]
    },
    {
      "cell_type": "markdown",
      "id": "4031f668-df64-45be-a2d8-2e120ad232ac",
      "metadata": {
        "id": "4031f668-df64-45be-a2d8-2e120ad232ac"
      },
      "source": [
        "##### **Listas numéricas**"
      ]
    },
    {
      "cell_type": "code",
      "execution_count": null,
      "id": "c9b424ce-a6de-4031-b243-e0fa4480352f",
      "metadata": {
        "colab": {
          "base_uri": "https://localhost:8080/"
        },
        "id": "c9b424ce-a6de-4031-b243-e0fa4480352f",
        "outputId": "fc158b2c-1ac4-4c8c-b71c-f28a3bd3ae24"
      },
      "outputs": [
        {
          "output_type": "execute_result",
          "data": {
            "text/plain": [
              "[2, 4, 6, 8, 10, 12, 14, 16, 18, 20]"
            ]
          },
          "metadata": {},
          "execution_count": 85
        }
      ],
      "source": [
        "pares = [2, 4, 6, 8, 10, 12, 14, 16, 18, 20]\n",
        "pares"
      ]
    },
    {
      "cell_type": "code",
      "execution_count": null,
      "id": "f62da9c6-d287-4e00-9e18-3893ff2bf7a0",
      "metadata": {
        "colab": {
          "base_uri": "https://localhost:8080/"
        },
        "id": "f62da9c6-d287-4e00-9e18-3893ff2bf7a0",
        "outputId": "3dd7af10-510f-450e-c878-a19df30124a5"
      },
      "outputs": [
        {
          "output_type": "execute_result",
          "data": {
            "text/plain": [
              "[1, 3, 5, 7, 9, 11, 13, 15, 17, 19]"
            ]
          },
          "metadata": {},
          "execution_count": 86
        }
      ],
      "source": [
        "impares = [1, 3, 5, 7, 9, 11, 13, 15, 17, 19]\n",
        "impares"
      ]
    },
    {
      "cell_type": "markdown",
      "id": "da47c9e0-f324-47bd-b233-11f7aaf2b5c6",
      "metadata": {
        "id": "da47c9e0-f324-47bd-b233-11f7aaf2b5c6"
      },
      "source": [
        "**Vemos el primer y el último valor par...**"
      ]
    },
    {
      "cell_type": "code",
      "execution_count": null,
      "id": "22e75f92-986c-42c1-8a13-21b336be3265",
      "metadata": {
        "colab": {
          "base_uri": "https://localhost:8080/"
        },
        "id": "22e75f92-986c-42c1-8a13-21b336be3265",
        "outputId": "f43a67dd-0b39-4411-8fff-4f660c3a2bf9"
      },
      "outputs": [
        {
          "output_type": "execute_result",
          "data": {
            "text/plain": [
              "2"
            ]
          },
          "metadata": {},
          "execution_count": 87
        }
      ],
      "source": [
        "pares[0]"
      ]
    },
    {
      "cell_type": "code",
      "execution_count": null,
      "id": "6381834d-5767-499e-8010-a44cf5062b5b",
      "metadata": {
        "colab": {
          "base_uri": "https://localhost:8080/"
        },
        "id": "6381834d-5767-499e-8010-a44cf5062b5b",
        "outputId": "c572db31-aedf-4186-c205-7d7d8dd01179"
      },
      "outputs": [
        {
          "output_type": "execute_result",
          "data": {
            "text/plain": [
              "20"
            ]
          },
          "metadata": {},
          "execution_count": 88
        }
      ],
      "source": [
        "pares[-1]"
      ]
    },
    {
      "cell_type": "markdown",
      "id": "993422a5-ce65-48ee-bdc3-0bdef450bd49",
      "metadata": {
        "id": "993422a5-ce65-48ee-bdc3-0bdef450bd49"
      },
      "source": [
        "**Vemos el segundo y el penúltimo valor impar...**"
      ]
    },
    {
      "cell_type": "code",
      "execution_count": null,
      "id": "ee667c1d-4370-40dc-9916-40f36ccd6bc3",
      "metadata": {
        "colab": {
          "base_uri": "https://localhost:8080/"
        },
        "id": "ee667c1d-4370-40dc-9916-40f36ccd6bc3",
        "outputId": "83875f92-ef6f-4800-f402-eec4b53ae8ca"
      },
      "outputs": [
        {
          "output_type": "execute_result",
          "data": {
            "text/plain": [
              "3"
            ]
          },
          "metadata": {},
          "execution_count": 89
        }
      ],
      "source": [
        "impares[1]"
      ]
    },
    {
      "cell_type": "code",
      "execution_count": null,
      "id": "82c8e736-be2e-4621-9db0-eb6c9c62584f",
      "metadata": {
        "colab": {
          "base_uri": "https://localhost:8080/"
        },
        "id": "82c8e736-be2e-4621-9db0-eb6c9c62584f",
        "outputId": "864c56e7-6cbd-4a8e-ebc2-d9d77c83da8e"
      },
      "outputs": [
        {
          "output_type": "execute_result",
          "data": {
            "text/plain": [
              "17"
            ]
          },
          "metadata": {},
          "execution_count": 90
        }
      ],
      "source": [
        "impares[-2]"
      ]
    },
    {
      "cell_type": "markdown",
      "id": "0df2bdf7-8dd2-4af8-a337-2b6dca664711",
      "metadata": {
        "id": "0df2bdf7-8dd2-4af8-a337-2b6dca664711"
      },
      "source": [
        "**También podemos ver los primeros cinco elementos de la lista... (o los que se deseen...)**"
      ]
    },
    {
      "cell_type": "code",
      "execution_count": null,
      "id": "2c309f34-9a0c-46c5-829d-dcf59bccff3b",
      "metadata": {
        "colab": {
          "base_uri": "https://localhost:8080/"
        },
        "id": "2c309f34-9a0c-46c5-829d-dcf59bccff3b",
        "outputId": "8861f58d-9e22-4f17-f38f-7f59840a2b44"
      },
      "outputs": [
        {
          "output_type": "execute_result",
          "data": {
            "text/plain": [
              "[1, 3, 5, 7, 9]"
            ]
          },
          "metadata": {},
          "execution_count": 91
        }
      ],
      "source": [
        "impares[0:5]"
      ]
    },
    {
      "cell_type": "markdown",
      "id": "7f00a2ea-a7db-4793-826c-ab13de164db5",
      "metadata": {
        "id": "7f00a2ea-a7db-4793-826c-ab13de164db5"
      },
      "source": [
        "**Vamos a concatenar a la lista pares, cinco elementos más...**"
      ]
    },
    {
      "cell_type": "code",
      "execution_count": null,
      "id": "e817dada-71be-47af-966d-3f97522a5c0d",
      "metadata": {
        "colab": {
          "base_uri": "https://localhost:8080/"
        },
        "id": "e817dada-71be-47af-966d-3f97522a5c0d",
        "outputId": "f39477ab-6865-4fb5-943b-0f78683e7402"
      },
      "outputs": [
        {
          "output_type": "execute_result",
          "data": {
            "text/plain": [
              "[2, 4, 6, 8, 10, 12, 14, 16, 18, 20]"
            ]
          },
          "metadata": {},
          "execution_count": 92
        }
      ],
      "source": [
        "pares"
      ]
    },
    {
      "cell_type": "code",
      "execution_count": null,
      "id": "7e74905b-b0e1-46d4-a638-235303bd1097",
      "metadata": {
        "colab": {
          "base_uri": "https://localhost:8080/"
        },
        "id": "7e74905b-b0e1-46d4-a638-235303bd1097",
        "outputId": "35607095-8947-49ee-997a-d71a0e4713d5"
      },
      "outputs": [
        {
          "output_type": "execute_result",
          "data": {
            "text/plain": [
              "[2, 4, 6, 8, 10, 12, 14, 16, 18, 20, 22, 24, 26, 28, 31]"
            ]
          },
          "metadata": {},
          "execution_count": 93
        }
      ],
      "source": [
        "pares = pares + [22, 24, 26, 28, 31]\n",
        "pares"
      ]
    },
    {
      "cell_type": "markdown",
      "id": "4083e87b-7960-4fa9-8aa8-c1c89dc932db",
      "metadata": {
        "id": "4083e87b-7960-4fa9-8aa8-c1c89dc932db"
      },
      "source": [
        "**El último elemento de la lista pares es 31 y debería ser 30, lo cambiamos...**"
      ]
    },
    {
      "cell_type": "code",
      "execution_count": null,
      "id": "655e0b7c-859c-4ce1-bd4c-b2abb8aff852",
      "metadata": {
        "colab": {
          "base_uri": "https://localhost:8080/"
        },
        "id": "655e0b7c-859c-4ce1-bd4c-b2abb8aff852",
        "outputId": "dc7fc937-53d7-44b6-efe8-82749d6d8767"
      },
      "outputs": [
        {
          "output_type": "execute_result",
          "data": {
            "text/plain": [
              "[2, 4, 6, 8, 10, 12, 14, 16, 18, 20, 22, 24, 26, 28, 30]"
            ]
          },
          "metadata": {},
          "execution_count": 94
        }
      ],
      "source": [
        "pares[-1] = 30\n",
        "pares"
      ]
    },
    {
      "cell_type": "markdown",
      "id": "918b33c6-175e-4e98-bfc3-9bb14ca622af",
      "metadata": {
        "id": "918b33c6-175e-4e98-bfc3-9bb14ca622af"
      },
      "source": [
        "**Tambien podemos usar append() para agregar un elemento a la lista, pero usando una expresión matemática en append()...**"
      ]
    },
    {
      "cell_type": "code",
      "execution_count": null,
      "id": "96b6e081-8993-45a9-adce-bab3c1b9623c",
      "metadata": {
        "colab": {
          "base_uri": "https://localhost:8080/"
        },
        "id": "96b6e081-8993-45a9-adce-bab3c1b9623c",
        "outputId": "0a3eae49-f3af-4915-c6ed-925b9cba3418"
      },
      "outputs": [
        {
          "output_type": "execute_result",
          "data": {
            "text/plain": [
              "[2, 4, 6, 8, 10, 12, 14, 16, 18, 20, 22, 24, 26, 28, 30, 32]"
            ]
          },
          "metadata": {},
          "execution_count": 95
        }
      ],
      "source": [
        "pares.append(16*2)\n",
        "pares"
      ]
    },
    {
      "cell_type": "markdown",
      "id": "a2973e3e-4b49-4fa4-8c6d-a66cd3ebf603",
      "metadata": {
        "id": "a2973e3e-4b49-4fa4-8c6d-a66cd3ebf603"
      },
      "source": [
        "##### **Listas de textos**"
      ]
    },
    {
      "cell_type": "code",
      "execution_count": null,
      "id": "6177a89b-5c33-49ee-b958-01a6c0d90881",
      "metadata": {
        "colab": {
          "base_uri": "https://localhost:8080/"
        },
        "id": "6177a89b-5c33-49ee-b958-01a6c0d90881",
        "outputId": "8cc75206-4089-486e-cc7b-58ce94a53952"
      },
      "outputs": [
        {
          "output_type": "execute_result",
          "data": {
            "text/plain": [
              "['Me', 'encanta', 'Python', 'version', '3.10']"
            ]
          },
          "metadata": {},
          "execution_count": 96
        }
      ],
      "source": [
        "lista1 = [\"Me\",\"encanta\",\"Python\",\"version\",\"3.10\"]\n",
        "lista1"
      ]
    },
    {
      "cell_type": "code",
      "execution_count": null,
      "id": "b0f1ba36-b169-4b3c-8f6b-5ddea1e2c740",
      "metadata": {
        "colab": {
          "base_uri": "https://localhost:8080/"
        },
        "id": "b0f1ba36-b169-4b3c-8f6b-5ddea1e2c740",
        "outputId": "40cf4c7a-9c3b-44d3-d7f8-f7ac7ca2b3dc"
      },
      "outputs": [
        {
          "output_type": "stream",
          "name": "stdout",
          "text": [
            "['Me', 'encanta', 'Python', 'version', '3.10']\n"
          ]
        }
      ],
      "source": [
        "print(lista1)"
      ]
    },
    {
      "cell_type": "code",
      "execution_count": null,
      "id": "eb9d1329-4b3c-497a-a1e3-ee46c8c8713c",
      "metadata": {
        "colab": {
          "base_uri": "https://localhost:8080/"
        },
        "id": "eb9d1329-4b3c-497a-a1e3-ee46c8c8713c",
        "outputId": "d2791bb2-a71a-48d4-807b-5b1cb1d176a2"
      },
      "outputs": [
        {
          "output_type": "execute_result",
          "data": {
            "text/plain": [
              "['Lunes', 'Martes', 'Miercoles', 'Jueves', 'Viernes', 'Sabado', ' Domingo']"
            ]
          },
          "metadata": {},
          "execution_count": 98
        }
      ],
      "source": [
        "semana = [\"Lunes\", \"Martes\", \"Miercoles\", \"Jueves\", \"Viernes\", \"Sabado\", \" Domingo\"]\n",
        "semana"
      ]
    },
    {
      "cell_type": "markdown",
      "id": "1154caa2-b545-4cf2-9261-984376747eb1",
      "metadata": {
        "id": "1154caa2-b545-4cf2-9261-984376747eb1"
      },
      "source": [
        "##### **Listas combinadas**"
      ]
    },
    {
      "cell_type": "markdown",
      "id": "bcbd9295-6933-4dee-b33f-140114f9b796",
      "metadata": {
        "id": "bcbd9295-6933-4dee-b33f-140114f9b796"
      },
      "source": [
        "**Las listas combinadas pueden contener elementos de tipos distintos:**"
      ]
    },
    {
      "cell_type": "code",
      "execution_count": null,
      "id": "dae9f1ac-8b04-468a-b0ae-5c40412b0208",
      "metadata": {
        "colab": {
          "base_uri": "https://localhost:8080/"
        },
        "id": "dae9f1ac-8b04-468a-b0ae-5c40412b0208",
        "outputId": "23a54322-ad6d-42a8-92ae-52fe9983df61"
      },
      "outputs": [
        {
          "output_type": "execute_result",
          "data": {
            "text/plain": [
              "['Martes', 4, 'Noviembre', 1975]"
            ]
          },
          "metadata": {},
          "execution_count": 99
        }
      ],
      "source": [
        "nacimiento = [\"Martes\", 4, \"Noviembre\", 1975]\n",
        "nacimiento"
      ]
    },
    {
      "cell_type": "code",
      "execution_count": null,
      "id": "6b6d4aec-64fb-4892-994f-34735ddcb588",
      "metadata": {
        "colab": {
          "base_uri": "https://localhost:8080/"
        },
        "id": "6b6d4aec-64fb-4892-994f-34735ddcb588",
        "outputId": "f19126c2-e43d-45ea-f605-c99a859c19a8"
      },
      "outputs": [
        {
          "output_type": "execute_result",
          "data": {
            "text/plain": [
              "['Activo', 'Pasivo', 'Patrimonio Neto']"
            ]
          },
          "metadata": {},
          "execution_count": 100
        }
      ],
      "source": [
        "ESP = [\"Activo\", \"Pasivo\", \"Patrimonio Neto\"]\n",
        "ESP"
      ]
    },
    {
      "cell_type": "code",
      "execution_count": null,
      "id": "e61b2541-fac0-4d7d-949c-af608614089c",
      "metadata": {
        "colab": {
          "base_uri": "https://localhost:8080/"
        },
        "id": "e61b2541-fac0-4d7d-949c-af608614089c",
        "outputId": "fa4a3fac-6939-4dee-f365-0a9f0e7c2f34"
      },
      "outputs": [
        {
          "output_type": "execute_result",
          "data": {
            "text/plain": [
              "['Activo', 1000, 'Pasivo', 400, 'Patrimonio Neto', 600]"
            ]
          },
          "metadata": {},
          "execution_count": 101
        }
      ],
      "source": [
        "ESP = [\"Activo\", 1000, \"Pasivo\", 400, \"Patrimonio Neto\", 600]\n",
        "ESP"
      ]
    },
    {
      "cell_type": "code",
      "execution_count": null,
      "id": "f379dfc7-6cab-4f4d-9592-229811cf4fa3",
      "metadata": {
        "colab": {
          "base_uri": "https://localhost:8080/"
        },
        "id": "f379dfc7-6cab-4f4d-9592-229811cf4fa3",
        "outputId": "74193ede-7a81-4246-d5c2-6d5bec509b64"
      },
      "outputs": [
        {
          "output_type": "execute_result",
          "data": {
            "text/plain": [
              "[['Activo', 1000], ['Pasivo', 400], ['Patrimonio Neto', 600]]"
            ]
          },
          "metadata": {},
          "execution_count": 102
        }
      ],
      "source": [
        "ESP = [[\"Activo\", 1000],[ \"Pasivo\", 400],[ \"Patrimonio Neto\", 600]]\n",
        "ESP"
      ]
    },
    {
      "cell_type": "markdown",
      "id": "a989fcb0-1377-46e7-a5ba-38871ed9052e",
      "metadata": {
        "id": "a989fcb0-1377-46e7-a5ba-38871ed9052e"
      },
      "source": [
        "**Tambien pueden contener $n$ variables**"
      ]
    },
    {
      "cell_type": "code",
      "execution_count": null,
      "id": "24ec17d4-16ab-4190-97fb-82cd7fbe2776",
      "metadata": {
        "id": "24ec17d4-16ab-4190-97fb-82cd7fbe2776"
      },
      "outputs": [],
      "source": [
        "primernombre = \"Cristian\"\n",
        "segundonombre = \"Dario\"\n",
        "apellidopaterno = \"Ortega\"\n",
        "apellidomaterno = \"Yubro\"\n",
        "edad = 46"
      ]
    },
    {
      "cell_type": "code",
      "execution_count": null,
      "id": "9fe592e4-43ac-402b-9aca-69da4f4bbc8c",
      "metadata": {
        "colab": {
          "base_uri": "https://localhost:8080/"
        },
        "id": "9fe592e4-43ac-402b-9aca-69da4f4bbc8c",
        "outputId": "2195ded3-638b-4ef6-dddb-c40ba1b6fa91"
      },
      "outputs": [
        {
          "output_type": "execute_result",
          "data": {
            "text/plain": [
              "['Cristian', 'Dario', 'Ortega', 'Yubro', 46]"
            ]
          },
          "metadata": {},
          "execution_count": 104
        }
      ],
      "source": [
        "lista = [primernombre, segundonombre, apellidopaterno, apellidomaterno, edad]\n",
        "lista"
      ]
    },
    {
      "cell_type": "markdown",
      "id": "b633357e-6218-4243-b52f-d7e603dfe034",
      "metadata": {
        "id": "b633357e-6218-4243-b52f-d7e603dfe034"
      },
      "source": [
        "**Y si se trata de objetos inmutables, el resto de las variables no resultan afectadas...**"
      ]
    },
    {
      "cell_type": "code",
      "execution_count": null,
      "id": "e168522b-a257-45e0-b162-568fc4e13165",
      "metadata": {
        "colab": {
          "base_uri": "https://localhost:8080/"
        },
        "id": "e168522b-a257-45e0-b162-568fc4e13165",
        "outputId": "c95b4dc1-0d34-4268-f002-ef475aae9cc2"
      },
      "outputs": [
        {
          "output_type": "execute_result",
          "data": {
            "text/plain": [
              "['Cristian', 'Dario', 'Ortega', 'Yubro', 46]"
            ]
          },
          "metadata": {},
          "execution_count": 105
        }
      ],
      "source": [
        "primernombre = \"Martin\"\n",
        "lista"
      ]
    },
    {
      "cell_type": "markdown",
      "id": "602a39d9-5314-41be-96f0-684dae0b386e",
      "metadata": {
        "id": "602a39d9-5314-41be-96f0-684dae0b386e"
      },
      "source": [
        "**Pero si se trata de objetos mutables, al modificar la variable se modifica el objeto...**"
      ]
    },
    {
      "cell_type": "code",
      "execution_count": null,
      "id": "7b0c5393-e12e-42ce-9e1a-efff34b42922",
      "metadata": {
        "id": "7b0c5393-e12e-42ce-9e1a-efff34b42922"
      },
      "outputs": [],
      "source": [
        "nombres = [\"Cristian Dario\"]\n",
        "apellidos = [\"Ortega Yubro\"]\n",
        "edad = 46"
      ]
    },
    {
      "cell_type": "code",
      "execution_count": null,
      "id": "23200d41-1233-45af-a5e3-cbffc6a174c6",
      "metadata": {
        "colab": {
          "base_uri": "https://localhost:8080/"
        },
        "id": "23200d41-1233-45af-a5e3-cbffc6a174c6",
        "outputId": "ac45f334-2656-4bad-e26a-a333e56c57d3"
      },
      "outputs": [
        {
          "output_type": "execute_result",
          "data": {
            "text/plain": [
              "[['Cristian Dario'], ['Ortega Yubro'], 46]"
            ]
          },
          "metadata": {},
          "execution_count": 107
        }
      ],
      "source": [
        "lista = [nombres, apellidos, edad]\n",
        "lista"
      ]
    },
    {
      "cell_type": "code",
      "execution_count": null,
      "id": "6c92ef67-6604-4667-9c85-b6dee781f000",
      "metadata": {
        "colab": {
          "base_uri": "https://localhost:8080/"
        },
        "id": "6c92ef67-6604-4667-9c85-b6dee781f000",
        "outputId": "d90621a5-6e0e-471f-d934-20d62ac8b79e"
      },
      "outputs": [
        {
          "output_type": "execute_result",
          "data": {
            "text/plain": [
              "[['Cristian Dario', 'Martin'], ['Ortega Yubro'], 46]"
            ]
          },
          "metadata": {},
          "execution_count": 108
        }
      ],
      "source": [
        "nombres += [\"Martin\"]\n",
        "lista"
      ]
    },
    {
      "cell_type": "markdown",
      "id": "068db908-b417-4cb3-94eb-2787db68c468",
      "metadata": {
        "id": "068db908-b417-4cb3-94eb-2787db68c468"
      },
      "source": [
        "#### **Diccionarios**"
      ]
    },
    {
      "cell_type": "markdown",
      "id": "804c217d-cb49-4c0f-b204-0f4cdf55bafc",
      "metadata": {
        "id": "804c217d-cb49-4c0f-b204-0f4cdf55bafc"
      },
      "source": [
        "**Los diccionarios son similares a las listas, pero el orden de los elementos no importa. En los diccionarios se puede especificar una clave única para asociar a cada valor. Esta clave es a menudo una cadena de caracteres, pero en realidad puede ser cualquiera de los tipos de datos *inmutables* de Python: booleano, entero, flotante, tupla, cadena de caracteres y otros. Los diccionarios son *mutables*, por lo que puede agregar, eliminar y cambiar sus elementos clave-valor.**"
      ]
    },
    {
      "cell_type": "code",
      "execution_count": 2,
      "id": "39d056ca-c8d8-4c94-b8c4-b75fc6dd9efe",
      "metadata": {
        "colab": {
          "base_uri": "https://localhost:8080/"
        },
        "id": "39d056ca-c8d8-4c94-b8c4-b75fc6dd9efe",
        "outputId": "0470d586-206c-4b7b-ef38-e396839b664b"
      },
      "outputs": [
        {
          "output_type": "execute_result",
          "data": {
            "text/plain": [
              "{'Actividad': 'Formación',\n",
              " 'Contenido': 'Python for Data Analysis',\n",
              " 'Nivel': 'Inicial'}"
            ]
          },
          "metadata": {},
          "execution_count": 2
        }
      ],
      "source": [
        "diccionario1 = {\"Actividad\": \"Formación\", \"Contenido\": \"Python for Data Analysis\", \"Nivel\":\"Inicial\"}\n",
        "diccionario1"
      ]
    },
    {
      "cell_type": "markdown",
      "id": "f2846fae-7e92-4484-b93f-8db55a5b54d5",
      "metadata": {
        "id": "f2846fae-7e92-4484-b93f-8db55a5b54d5"
      },
      "source": [
        "**A algunas personas no les gusta escribir tantas llaves y comillas. Se puede crear un diccionario con la función dict()**"
      ]
    },
    {
      "cell_type": "code",
      "execution_count": null,
      "id": "dc155507-5f56-4f68-9368-70fac680feb2",
      "metadata": {
        "colab": {
          "base_uri": "https://localhost:8080/"
        },
        "id": "dc155507-5f56-4f68-9368-70fac680feb2",
        "outputId": "1edfad27-52fa-4a47-b82a-74e74cf952ef"
      },
      "outputs": [
        {
          "output_type": "execute_result",
          "data": {
            "text/plain": [
              "{'Actividad': 'Formación',\n",
              " 'Contenido': 'Python for Data Analysis',\n",
              " 'Nivel': 'Inicial'}"
            ]
          },
          "metadata": {},
          "execution_count": 110
        }
      ],
      "source": [
        "diccionario2 = dict(Actividad = \"Formación\", Contenido = \"Python for Data Analysis\", Nivel = \"Inicial\")\n",
        "diccionario2"
      ]
    },
    {
      "cell_type": "markdown",
      "id": "bcfda0c9-6754-40a1-baf3-db3f9c0d5615",
      "metadata": {
        "id": "bcfda0c9-6754-40a1-baf3-db3f9c0d5615"
      },
      "source": [
        "##### **Cantidad de elementos**"
      ]
    },
    {
      "cell_type": "code",
      "execution_count": null,
      "id": "3afcc79c-2361-4d12-b036-db3b36a510c1",
      "metadata": {
        "colab": {
          "base_uri": "https://localhost:8080/"
        },
        "id": "3afcc79c-2361-4d12-b036-db3b36a510c1",
        "outputId": "e0bcf729-db1e-4702-a686-a938337229df"
      },
      "outputs": [
        {
          "output_type": "execute_result",
          "data": {
            "text/plain": [
              "3"
            ]
          },
          "metadata": {},
          "execution_count": 111
        }
      ],
      "source": [
        "len(diccionario1)"
      ]
    },
    {
      "cell_type": "markdown",
      "id": "98e30df5-db1a-4d8c-b5ff-6a94f729ba38",
      "metadata": {
        "id": "98e30df5-db1a-4d8c-b5ff-6a94f729ba38"
      },
      "source": [
        "**El diccionario tambien puede estar vacío...**"
      ]
    },
    {
      "cell_type": "code",
      "execution_count": null,
      "id": "f5dd3a5c-2013-4e16-a601-209915375b96",
      "metadata": {
        "colab": {
          "base_uri": "https://localhost:8080/"
        },
        "id": "f5dd3a5c-2013-4e16-a601-209915375b96",
        "outputId": "9b131ee9-6877-4eed-d0c6-e8c9351e3c9f"
      },
      "outputs": [
        {
          "output_type": "execute_result",
          "data": {
            "text/plain": [
              "{}"
            ]
          },
          "metadata": {},
          "execution_count": 112
        }
      ],
      "source": [
        "diccionario3 = {}\n",
        "diccionario3"
      ]
    },
    {
      "cell_type": "code",
      "execution_count": null,
      "id": "97b6be22-fdb6-4d5c-bef9-929474f4c3d0",
      "metadata": {
        "colab": {
          "base_uri": "https://localhost:8080/"
        },
        "id": "97b6be22-fdb6-4d5c-bef9-929474f4c3d0",
        "outputId": "f54b285a-77fa-462d-d259-6b12e16d8e35"
      },
      "outputs": [
        {
          "output_type": "execute_result",
          "data": {
            "text/plain": [
              "0"
            ]
          },
          "metadata": {},
          "execution_count": 113
        }
      ],
      "source": [
        "len(diccionario3)"
      ]
    },
    {
      "cell_type": "markdown",
      "id": "06af9e7c-ef0f-4547-96bd-350f2601dfd0",
      "metadata": {
        "id": "06af9e7c-ef0f-4547-96bd-350f2601dfd0"
      },
      "source": [
        "##### **Función type()**"
      ]
    },
    {
      "cell_type": "code",
      "execution_count": null,
      "id": "08fdcac8-d607-40ac-9c32-be39ddc9266e",
      "metadata": {
        "colab": {
          "base_uri": "https://localhost:8080/"
        },
        "id": "08fdcac8-d607-40ac-9c32-be39ddc9266e",
        "outputId": "b3ad6468-9d3e-4f7f-a296-bb6cb187db40"
      },
      "outputs": [
        {
          "output_type": "execute_result",
          "data": {
            "text/plain": [
              "dict"
            ]
          },
          "metadata": {},
          "execution_count": 114
        }
      ],
      "source": [
        "type(diccionario3)"
      ]
    },
    {
      "cell_type": "markdown",
      "id": "c5342142-92f0-4c7f-b231-c39f1a46c684",
      "metadata": {
        "id": "c5342142-92f0-4c7f-b231-c39f1a46c684"
      },
      "source": [
        "##### **Convertir a diccionario**"
      ]
    },
    {
      "cell_type": "code",
      "execution_count": null,
      "id": "7931aa6c-9345-4eca-a924-fd49357365eb",
      "metadata": {
        "colab": {
          "base_uri": "https://localhost:8080/"
        },
        "id": "7931aa6c-9345-4eca-a924-fd49357365eb",
        "outputId": "7ef3086b-16bd-4e10-cd55-f08bf6b2ec6a"
      },
      "outputs": [
        {
          "output_type": "execute_result",
          "data": {
            "text/plain": [
              "[['Activo', 1000], ['Pasivo', 400], ['Patrimonio Neto', 600]]"
            ]
          },
          "metadata": {},
          "execution_count": 115
        }
      ],
      "source": [
        "ESP"
      ]
    },
    {
      "cell_type": "code",
      "execution_count": null,
      "id": "50a8a34b-3ec9-4866-9a99-5d2c1e0a7829",
      "metadata": {
        "colab": {
          "base_uri": "https://localhost:8080/"
        },
        "id": "50a8a34b-3ec9-4866-9a99-5d2c1e0a7829",
        "outputId": "922a3b4d-47de-408d-bb8c-82f989f1aef0"
      },
      "outputs": [
        {
          "output_type": "execute_result",
          "data": {
            "text/plain": [
              "list"
            ]
          },
          "metadata": {},
          "execution_count": 116
        }
      ],
      "source": [
        "type(ESP)"
      ]
    },
    {
      "cell_type": "code",
      "execution_count": null,
      "id": "a1e41889-04d8-4408-9b21-2ce85146bdf2",
      "metadata": {
        "colab": {
          "base_uri": "https://localhost:8080/"
        },
        "id": "a1e41889-04d8-4408-9b21-2ce85146bdf2",
        "outputId": "4fb9be9f-3121-4010-801f-d4f1a0f8abb2"
      },
      "outputs": [
        {
          "output_type": "execute_result",
          "data": {
            "text/plain": [
              "{'Activo': 1000, 'Pasivo': 400, 'Patrimonio Neto': 600}"
            ]
          },
          "metadata": {},
          "execution_count": 117
        }
      ],
      "source": [
        "ESP = dict(ESP)\n",
        "ESP"
      ]
    },
    {
      "cell_type": "code",
      "execution_count": null,
      "id": "841d1ba3-6d3b-4d43-8fbe-ec3450b8e860",
      "metadata": {
        "colab": {
          "base_uri": "https://localhost:8080/"
        },
        "id": "841d1ba3-6d3b-4d43-8fbe-ec3450b8e860",
        "outputId": "5581a16e-73fe-4552-cf3a-5616f432eebf"
      },
      "outputs": [
        {
          "output_type": "execute_result",
          "data": {
            "text/plain": [
              "dict"
            ]
          },
          "metadata": {},
          "execution_count": 118
        }
      ],
      "source": [
        "type(ESP)"
      ]
    },
    {
      "cell_type": "markdown",
      "id": "29160218-689d-4a54-8f94-e4bb8be62554",
      "metadata": {
        "id": "29160218-689d-4a54-8f94-e4bb8be62554"
      },
      "source": [
        "##### **Claves y valores del diccionario**"
      ]
    },
    {
      "cell_type": "code",
      "execution_count": null,
      "id": "898f4cd2-4579-4b6e-9393-37582383a97f",
      "metadata": {
        "colab": {
          "base_uri": "https://localhost:8080/"
        },
        "id": "898f4cd2-4579-4b6e-9393-37582383a97f",
        "outputId": "659a7124-4a58-4dc1-afb7-39695f78bdf4"
      },
      "outputs": [
        {
          "output_type": "execute_result",
          "data": {
            "text/plain": [
              "1000"
            ]
          },
          "metadata": {},
          "execution_count": 119
        }
      ],
      "source": [
        "ESP[\"Activo\"]"
      ]
    },
    {
      "cell_type": "code",
      "execution_count": null,
      "id": "e62e4029-488b-496a-86be-58d606474343",
      "metadata": {
        "colab": {
          "base_uri": "https://localhost:8080/"
        },
        "id": "e62e4029-488b-496a-86be-58d606474343",
        "outputId": "ecef362a-55bd-4d1f-c966-dd1e6622dbe6"
      },
      "outputs": [
        {
          "output_type": "execute_result",
          "data": {
            "text/plain": [
              "400"
            ]
          },
          "metadata": {},
          "execution_count": 120
        }
      ],
      "source": [
        "ESP[\"Pasivo\"]"
      ]
    },
    {
      "cell_type": "code",
      "execution_count": null,
      "id": "f71eabf5-5f5e-4dc2-88a6-482c5f725283",
      "metadata": {
        "colab": {
          "base_uri": "https://localhost:8080/"
        },
        "id": "f71eabf5-5f5e-4dc2-88a6-482c5f725283",
        "outputId": "feb0e42d-1301-425f-9e48-713cad7d3def"
      },
      "outputs": [
        {
          "output_type": "execute_result",
          "data": {
            "text/plain": [
              "600"
            ]
          },
          "metadata": {},
          "execution_count": 121
        }
      ],
      "source": [
        "ESP[\"Patrimonio Neto\"]"
      ]
    },
    {
      "cell_type": "markdown",
      "id": "66f99eb1-c4f6-428b-b8f5-7a43f42acce8",
      "metadata": {
        "id": "66f99eb1-c4f6-428b-b8f5-7a43f42acce8"
      },
      "source": [
        "**¿Se respeta la ecuación básica patrimonial en donde el Activo tiene que ser igual al Pasivo mas el Patrimonio Neto?**"
      ]
    },
    {
      "cell_type": "code",
      "execution_count": null,
      "id": "0c7902d8-383c-4e87-86fa-1c5b0ccb0fa8",
      "metadata": {
        "colab": {
          "base_uri": "https://localhost:8080/"
        },
        "id": "0c7902d8-383c-4e87-86fa-1c5b0ccb0fa8",
        "outputId": "bc02c8ef-314d-4332-f782-e4844c89dac0"
      },
      "outputs": [
        {
          "output_type": "execute_result",
          "data": {
            "text/plain": [
              "True"
            ]
          },
          "metadata": {},
          "execution_count": 122
        }
      ],
      "source": [
        "ESP[\"Activo\"] == ESP[\"Pasivo\"] + ESP[\"Patrimonio Neto\"]"
      ]
    },
    {
      "cell_type": "markdown",
      "id": "8db581b3-a691-480f-91c1-f62180ab77f0",
      "metadata": {
        "id": "8db581b3-a691-480f-91c1-f62180ab77f0"
      },
      "source": [
        "**Si se quiere consultar todas las claves del diccionario, se utiliza el método keys()**"
      ]
    },
    {
      "cell_type": "code",
      "execution_count": null,
      "id": "115fe080-d7ea-4648-ac0b-094585f03f14",
      "metadata": {
        "colab": {
          "base_uri": "https://localhost:8080/"
        },
        "id": "115fe080-d7ea-4648-ac0b-094585f03f14",
        "outputId": "c19a7292-eaf4-41b0-de86-435cd95ba24e"
      },
      "outputs": [
        {
          "output_type": "execute_result",
          "data": {
            "text/plain": [
              "dict_keys(['Activo', 'Pasivo', 'Patrimonio Neto'])"
            ]
          },
          "metadata": {},
          "execution_count": 123
        }
      ],
      "source": [
        "ESP.keys()"
      ]
    },
    {
      "cell_type": "markdown",
      "id": "a4a5b01d-62f0-4720-8300-cc341b816924",
      "metadata": {
        "id": "a4a5b01d-62f0-4720-8300-cc341b816924"
      },
      "source": [
        "##### Agregando y eliminando elementos"
      ]
    },
    {
      "cell_type": "code",
      "execution_count": null,
      "id": "719be6c9-17bc-4dd2-b1ae-ae2c8287532a",
      "metadata": {
        "colab": {
          "base_uri": "https://localhost:8080/"
        },
        "id": "719be6c9-17bc-4dd2-b1ae-ae2c8287532a",
        "outputId": "a62c534d-e900-4e3f-fe34-7f7478e63446"
      },
      "outputs": [
        {
          "output_type": "execute_result",
          "data": {
            "text/plain": [
              "{'Actividad': 'Formación',\n",
              " 'Contenido': 'Python for Data Analysis',\n",
              " 'Nivel': 'Incial'}"
            ]
          },
          "metadata": {},
          "execution_count": 124
        }
      ],
      "source": [
        "diccionario1"
      ]
    },
    {
      "cell_type": "markdown",
      "id": "d64ef4e9-11cd-42df-9508-c701efea4a59",
      "metadata": {
        "id": "d64ef4e9-11cd-42df-9508-c701efea4a59"
      },
      "source": [
        "**Agregando un elemento...**"
      ]
    },
    {
      "cell_type": "code",
      "execution_count": null,
      "id": "adbb0c78-fe9f-4f58-8194-e0914bb4a527",
      "metadata": {
        "colab": {
          "base_uri": "https://localhost:8080/"
        },
        "id": "adbb0c78-fe9f-4f58-8194-e0914bb4a527",
        "outputId": "19d59f9e-1c03-4855-aba7-aaac779b544c"
      },
      "outputs": [
        {
          "output_type": "execute_result",
          "data": {
            "text/plain": [
              "{'Actividad': 'Formación',\n",
              " 'Contenido': 'Python for Data Analysis',\n",
              " 'Nivel': 'Incial',\n",
              " 'Profesor': 'Cristian Dario Ortega Yubro'}"
            ]
          },
          "metadata": {},
          "execution_count": 125
        }
      ],
      "source": [
        "diccionario1[\"Profesor\"] = \"Cristian Dario Ortega Yubro\"\n",
        "diccionario1"
      ]
    },
    {
      "cell_type": "markdown",
      "id": "be5075a8-6729-48ac-9b2f-25d9b430039b",
      "metadata": {
        "id": "be5075a8-6729-48ac-9b2f-25d9b430039b"
      },
      "source": [
        "**Eliminando un elemento...**"
      ]
    },
    {
      "cell_type": "code",
      "execution_count": null,
      "id": "8d25eb23-8d78-4aaa-917b-9be2a3d1544c",
      "metadata": {
        "colab": {
          "base_uri": "https://localhost:8080/"
        },
        "id": "8d25eb23-8d78-4aaa-917b-9be2a3d1544c",
        "outputId": "fc41eb6f-6bf7-4bca-c0fd-41be91ae1644"
      },
      "outputs": [
        {
          "output_type": "stream",
          "name": "stdout",
          "text": [
            "{'Actividad': 'Formación', 'Contenido': 'Python for Data Analysis', 'Nivel': 'Incial'}\n"
          ]
        }
      ],
      "source": [
        "del diccionario1[\"Profesor\"]\n",
        "print(diccionario1)"
      ]
    },
    {
      "cell_type": "markdown",
      "id": "87a2fb36-8011-44e0-a07a-19d19d7e7d15",
      "metadata": {
        "id": "87a2fb36-8011-44e0-a07a-19d19d7e7d15"
      },
      "source": [
        "#### **Rangos**"
      ]
    },
    {
      "cell_type": "markdown",
      "id": "350eb33c-9d4e-491b-8fdd-c8473dbdbdb0",
      "metadata": {
        "id": "350eb33c-9d4e-491b-8fdd-c8473dbdbdb0"
      },
      "source": [
        "**La función range() es una lista *inmutable* de números enteros en sucesión aritmética.**\n",
        "\n",
        "- ***Inmutable significa que no se pueden modificar.***\n",
        "- ***Una sucesión artimética es una sucesión en la que la diferencia entre dos términos consecutivos es siempre la misma.***\n",
        "\n",
        "**range() utiliza uno, dos o tres argumentos numéricos.**\n",
        "\n",
        "*Nota: En Python 2, range() se consideraba una función, pero en Python 3 no se considera una función, sino un tipo de datos, aunque se utiliza como si fuera una función.*"
      ]
    },
    {
      "cell_type": "markdown",
      "id": "a5bf1358-5d8b-47b1-8dfe-6080f26f7ed0",
      "metadata": {
        "id": "a5bf1358-5d8b-47b1-8dfe-6080f26f7ed0"
      },
      "source": [
        "##### **Creando rangos**"
      ]
    },
    {
      "cell_type": "markdown",
      "id": "05a9decf-07e4-442a-8673-171f0f3da8c2",
      "metadata": {
        "id": "05a9decf-07e4-442a-8673-171f0f3da8c2"
      },
      "source": [
        "**Se crea un rango con 20 elementos...**"
      ]
    },
    {
      "cell_type": "code",
      "execution_count": null,
      "id": "e3c16c2e-faf3-44db-9c6f-1e23a317ed99",
      "metadata": {
        "colab": {
          "base_uri": "https://localhost:8080/"
        },
        "id": "e3c16c2e-faf3-44db-9c6f-1e23a317ed99",
        "outputId": "0c26f750-69cc-46a4-df10-80a360868704"
      },
      "outputs": [
        {
          "output_type": "execute_result",
          "data": {
            "text/plain": [
              "range(0, 20)"
            ]
          },
          "metadata": {},
          "execution_count": 127
        }
      ],
      "source": [
        "x = range(20)\n",
        "x"
      ]
    },
    {
      "cell_type": "markdown",
      "id": "5bf2cb36-270b-4f35-b7f2-c5ff1496dc09",
      "metadata": {
        "id": "5bf2cb36-270b-4f35-b7f2-c5ff1496dc09"
      },
      "source": [
        "**Para visualizar los elementos, usamos la función list()**"
      ]
    },
    {
      "cell_type": "code",
      "execution_count": null,
      "id": "06a0f3b9-dc5a-4128-a367-28413976b5e4",
      "metadata": {
        "colab": {
          "base_uri": "https://localhost:8080/"
        },
        "id": "06a0f3b9-dc5a-4128-a367-28413976b5e4",
        "outputId": "4774db90-03c5-4056-a8cb-6c02487e0529"
      },
      "outputs": [
        {
          "output_type": "execute_result",
          "data": {
            "text/plain": [
              "[0, 1, 2, 3, 4, 5, 6, 7, 8, 9, 10, 11, 12, 13, 14, 15, 16, 17, 18, 19]"
            ]
          },
          "metadata": {},
          "execution_count": 128
        }
      ],
      "source": [
        "list(x)"
      ]
    },
    {
      "cell_type": "markdown",
      "id": "1a1c0334-e450-41ba-8dad-e51a29752906",
      "metadata": {
        "id": "1a1c0334-e450-41ba-8dad-e51a29752906"
      },
      "source": [
        "##### **Argumentos**"
      ]
    },
    {
      "cell_type": "markdown",
      "id": "1ceb1423-5d99-4c17-8fba-4637fc469373",
      "metadata": {
        "id": "1ceb1423-5d99-4c17-8fba-4637fc469373"
      },
      "source": [
        "**El tipo de dato range con dos argumentos se escribe range($m$, $n$) y crea una lista inmutable de enteros consecutivos que empieza en $m$ y acaba en $n - 1$**\n"
      ]
    },
    {
      "cell_type": "code",
      "execution_count": null,
      "id": "e4fca567-d7a0-4cb0-bdc9-2f9b8ca989fc",
      "metadata": {
        "colab": {
          "base_uri": "https://localhost:8080/"
        },
        "id": "e4fca567-d7a0-4cb0-bdc9-2f9b8ca989fc",
        "outputId": "fff4d17e-7bae-4a0f-94ad-60fcb152a512"
      },
      "outputs": [
        {
          "output_type": "execute_result",
          "data": {
            "text/plain": [
              "range(5, 11)"
            ]
          },
          "metadata": {},
          "execution_count": 129
        }
      ],
      "source": [
        "y = range(5, 11)\n",
        "y"
      ]
    },
    {
      "cell_type": "code",
      "execution_count": null,
      "id": "1be1a96b-0264-4dfa-834f-0ca53dd0749b",
      "metadata": {
        "colab": {
          "base_uri": "https://localhost:8080/"
        },
        "id": "1be1a96b-0264-4dfa-834f-0ca53dd0749b",
        "outputId": "8ff4d436-aaf8-4ba7-aacb-38e39254469b"
      },
      "outputs": [
        {
          "output_type": "execute_result",
          "data": {
            "text/plain": [
              "[5, 6, 7, 8, 9, 10]"
            ]
          },
          "metadata": {},
          "execution_count": 130
        }
      ],
      "source": [
        "list(y)"
      ]
    },
    {
      "cell_type": "markdown",
      "id": "5e138571-6d3b-49bf-93b0-5375388a7eab",
      "metadata": {
        "id": "5e138571-6d3b-49bf-93b0-5375388a7eab"
      },
      "source": [
        "**Otra forma:**"
      ]
    },
    {
      "cell_type": "code",
      "execution_count": null,
      "id": "a1208ba0-4eee-423c-9d99-db932a616e55",
      "metadata": {
        "colab": {
          "base_uri": "https://localhost:8080/"
        },
        "id": "a1208ba0-4eee-423c-9d99-db932a616e55",
        "outputId": "0b383f61-9a16-473b-8fa2-85de3447a7bd"
      },
      "outputs": [
        {
          "output_type": "execute_result",
          "data": {
            "text/plain": [
              "[10, 11, 12, 13, 14, 15, 16, 17, 18, 19, 20]"
            ]
          },
          "metadata": {},
          "execution_count": 131
        }
      ],
      "source": [
        "list(range(10,21))"
      ]
    },
    {
      "cell_type": "code",
      "execution_count": null,
      "id": "b62d9eb8-c2b8-4e47-8782-13929dcaf997",
      "metadata": {
        "colab": {
          "base_uri": "https://localhost:8080/"
        },
        "id": "b62d9eb8-c2b8-4e47-8782-13929dcaf997",
        "outputId": "e97532db-78b4-4502-ba21-047f56733821"
      },
      "outputs": [
        {
          "output_type": "execute_result",
          "data": {
            "text/plain": [
              "[-5, -4, -3, -2, -1, 0]"
            ]
          },
          "metadata": {},
          "execution_count": 132
        }
      ],
      "source": [
        "list(range(-5,1))"
      ]
    },
    {
      "cell_type": "markdown",
      "id": "7f224087-edb5-41d9-a254-9b947b833b3b",
      "metadata": {
        "id": "7f224087-edb5-41d9-a254-9b947b833b3b"
      },
      "source": [
        "**El tipo de dato range() con tres argumentos se escribe range($m$, $n$, $p$) y crea una lista inmutable de enteros que empieza en $m$ y acaba justo antes de superar o igualar a $n$, aumentando los valores de $p$ en $p$.**\n",
        "\n",
        "**Si $p$ es negativo, los valores van disminuyendo de $p$ en $p$.**"
      ]
    },
    {
      "cell_type": "code",
      "execution_count": null,
      "id": "edc8fb4f-3dc5-44a0-9158-8a2f50a74810",
      "metadata": {
        "colab": {
          "base_uri": "https://localhost:8080/"
        },
        "id": "edc8fb4f-3dc5-44a0-9158-8a2f50a74810",
        "outputId": "b72a9364-8b7a-4236-ebd5-e06d44a3f500"
      },
      "outputs": [
        {
          "output_type": "execute_result",
          "data": {
            "text/plain": [
              "[10, 12, 14, 16, 18]"
            ]
          },
          "metadata": {},
          "execution_count": 133
        }
      ],
      "source": [
        "list(range(10,20,2))"
      ]
    },
    {
      "cell_type": "code",
      "execution_count": null,
      "id": "9f1a94d9-13ca-45f0-9ed7-2f402de5f545",
      "metadata": {
        "colab": {
          "base_uri": "https://localhost:8080/"
        },
        "id": "9f1a94d9-13ca-45f0-9ed7-2f402de5f545",
        "outputId": "d4c28f7e-ebaa-4858-9671-465864aff906"
      },
      "outputs": [
        {
          "output_type": "execute_result",
          "data": {
            "text/plain": [
              "[20, 18, 16, 14, 12]"
            ]
          },
          "metadata": {},
          "execution_count": 134
        }
      ],
      "source": [
        "list(range(20,10,-2))"
      ]
    },
    {
      "cell_type": "markdown",
      "id": "9e37e8b4-63d5-4b6e-8c11-1fd822a71f4c",
      "metadata": {
        "id": "9e37e8b4-63d5-4b6e-8c11-1fd822a71f4c"
      },
      "source": [
        "**En resumen, los tres argumentos del tipo range($m$, $n$, $p$) son:**\n",
        "\n",
        "- ***$m$: el valor inicial***\n",
        "- ***$n$: el valor final (que no se alcanza nunca)***\n",
        "- ***$p$: el paso (la cantidad que se avanza cada vez).***\n",
        "\n",
        "**Si se escriben sólo dos argumentos, Python le asigna a $p$ el valor 1. Es decir range($m$, $n$) es lo mismo que range($m$, $n$, 1)**\n",
        "\n",
        "**Si se escribe sólo un argumento, Python, le asigna a $m$ el valor 0 y a $p$ el valor 1. Es decir range($n$) es lo mismo que range(0, $n$, 1)**"
      ]
    },
    {
      "cell_type": "markdown",
      "id": "433dee88-f209-4427-99f1-61d6257913a0",
      "metadata": {
        "id": "433dee88-f209-4427-99f1-61d6257913a0"
      },
      "source": [
        "### **A recordar...**"
      ]
    },
    {
      "cell_type": "markdown",
      "id": "55193636-4388-4478-b4a5-456b2c85136d",
      "metadata": {
        "id": "55193636-4388-4478-b4a5-456b2c85136d"
      },
      "source": [
        "- **Con variables de tipo entero, decimal o de cadena, es fácil tener una copia de una variable para conservar un valor que en la variable original...**"
      ]
    },
    {
      "cell_type": "code",
      "execution_count": null,
      "id": "77c6e638-5a52-4f4f-adfd-e710c01ea83e",
      "metadata": {
        "colab": {
          "base_uri": "https://localhost:8080/"
        },
        "id": "77c6e638-5a52-4f4f-adfd-e710c01ea83e",
        "outputId": "27e8507e-8af5-4646-d871-6174efdaa93b"
      },
      "outputs": [
        {
          "output_type": "execute_result",
          "data": {
            "text/plain": [
              "(10, 10)"
            ]
          },
          "metadata": {},
          "execution_count": 135
        }
      ],
      "source": [
        "a = 10\n",
        "b = a\n",
        "a, b"
      ]
    },
    {
      "cell_type": "code",
      "execution_count": null,
      "id": "5c0337c8-1669-4c2b-ada0-8f7c3d810fcf",
      "metadata": {
        "colab": {
          "base_uri": "https://localhost:8080/"
        },
        "id": "5c0337c8-1669-4c2b-ada0-8f7c3d810fcf",
        "outputId": "aa1be44f-be83-440f-f603-d17fedb8bacc"
      },
      "outputs": [
        {
          "output_type": "execute_result",
          "data": {
            "text/plain": [
              "(5, 10)"
            ]
          },
          "metadata": {},
          "execution_count": 136
        }
      ],
      "source": [
        "a = 5\n",
        "a, b"
      ]
    },
    {
      "cell_type": "markdown",
      "id": "95d27495-9199-437d-b920-1836256c6a4c",
      "metadata": {
        "id": "95d27495-9199-437d-b920-1836256c6a4c"
      },
      "source": [
        "- **Si hacemos esto mismo por ejemplo con listas, nos podemos llevar una linda sorpresa...**"
      ]
    },
    {
      "cell_type": "code",
      "execution_count": null,
      "id": "3587e466-4cce-4dc4-b9ab-2ef823ce0837",
      "metadata": {
        "colab": {
          "base_uri": "https://localhost:8080/"
        },
        "id": "3587e466-4cce-4dc4-b9ab-2ef823ce0837",
        "outputId": "38519cd1-5881-4469-bb8a-5a9b0040b4cd"
      },
      "outputs": [
        {
          "output_type": "execute_result",
          "data": {
            "text/plain": [
              "([2, 4, 6, 8, 10], [2, 4, 6, 8, 10])"
            ]
          },
          "metadata": {},
          "execution_count": 137
        }
      ],
      "source": [
        "pares01 = [2,4,6,8,10]\n",
        "pares02 = pares01\n",
        "pares01, pares02"
      ]
    },
    {
      "cell_type": "code",
      "execution_count": null,
      "id": "740e1923-4421-48c3-a181-aeeb059a7219",
      "metadata": {
        "id": "740e1923-4421-48c3-a181-aeeb059a7219"
      },
      "outputs": [],
      "source": [
        "del pares02[0]"
      ]
    },
    {
      "cell_type": "code",
      "execution_count": null,
      "id": "a4e4a211-f643-412a-8945-e3eaa39d3b03",
      "metadata": {
        "colab": {
          "base_uri": "https://localhost:8080/"
        },
        "id": "a4e4a211-f643-412a-8945-e3eaa39d3b03",
        "outputId": "33cc39c0-5439-45c8-8f21-ffb32b6626f7"
      },
      "outputs": [
        {
          "output_type": "execute_result",
          "data": {
            "text/plain": [
              "([4, 6, 8, 10], [4, 6, 8, 10])"
            ]
          },
          "metadata": {},
          "execution_count": 139
        }
      ],
      "source": [
        "pares01, pares02"
      ]
    },
    {
      "cell_type": "markdown",
      "id": "db7a81dd-0eb5-4391-b855-4ab7a3ed5d06",
      "metadata": {
        "id": "db7a81dd-0eb5-4391-b855-4ab7a3ed5d06"
      },
      "source": [
        "**Hemos llegado al fin de este cuaderno, felicitaciones hemos aprendido un poco más, ahora a seguir en el proximo cuaderno...** "
      ]
    },
    {
      "cell_type": "markdown",
      "id": "cc2cb851-466f-40ca-bc0d-3341d7d0553c",
      "metadata": {
        "id": "cc2cb851-466f-40ca-bc0d-3341d7d0553c"
      },
      "source": [
        "![nenunenu](https://emojipedia-us.s3.dualstack.us-west-1.amazonaws.com/thumbs/60/apple/124/smiling-face-with-smiling-eyes_1f60a.png)"
      ]
    }
  ],
  "metadata": {
    "kernelspec": {
      "display_name": "Python 3 (ipykernel)",
      "language": "python",
      "name": "python3"
    },
    "language_info": {
      "codemirror_mode": {
        "name": "ipython",
        "version": 3
      },
      "file_extension": ".py",
      "mimetype": "text/x-python",
      "name": "python",
      "nbconvert_exporter": "python",
      "pygments_lexer": "ipython3",
      "version": "3.10.2"
    },
    "toc-autonumbering": false,
    "toc-showmarkdowntxt": false,
    "colab": {
      "name": "py-02.ipynb",
      "provenance": [],
      "collapsed_sections": [
        "87a2fb36-8011-44e0-a07a-19d19d7e7d15"
      ],
      "include_colab_link": true
    }
  },
  "nbformat": 4,
  "nbformat_minor": 5
}